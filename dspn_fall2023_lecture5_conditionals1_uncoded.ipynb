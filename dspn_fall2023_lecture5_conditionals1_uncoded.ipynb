{
 "cells": [
  {
   "cell_type": "markdown",
   "metadata": {},
   "source": [
    "# Data Science in Psychology & Neuroscience (DSPN): \n",
    "\n",
    "## Lecture 5. Conditionals Part 1\n",
    "\n",
    "### Date: September 5, 2023\n",
    "\n",
    "### To-Dos From Last Class:\n",
    "\n",
    "* Submit Assignment #1: <a href=\"https://www.dropbox.com/request/RUvKEcp8laBnLs8jarrF\">Oscillator</a> (before 9/7, 23:00 MDT)\n",
    "\n",
    "### Today:\n",
    "\n",
    "* wrapping up _iteration_\n",
    "* if\n",
    "* elif\n",
    "* else\n",
    "* Multiple criteria (Boolean operators)\n",
    "* Conditionals+iterations\n",
    "\n",
    "### Homework\n",
    "\n",
    "* Practice practice practice (<a href=\"https://www.w3resource.com/python-exercises/python-conditional-statements-and-loop-exercises.php\">e.g.</a>)"
   ]
  },
  {
   "cell_type": "markdown",
   "metadata": {},
   "source": [
    "## Write a python code to count from 0 to 20 in steps of 0.05. Plot it."
   ]
  },
  {
   "cell_type": "code",
   "execution_count": 20,
   "metadata": {},
   "outputs": [
    {
     "name": "stdout",
     "output_type": "stream",
     "text": [
      "the call lasted for: 400 iterations\n",
      "[0.05, 0.1, 0.15, 0.2, 0.25] [19.8, 19.85, 19.9, 19.95, 20.0]\n"
     ]
    }
   ],
   "source": []
  },
  {
   "cell_type": "code",
   "execution_count": 22,
   "metadata": {},
   "outputs": [
    {
     "data": {
      "image/png": "[encoded data removed]",
      "text/plain": [
       "<Figure size 432x288 with 1 Axes>"
      ]
     },
     "metadata": {
      "needs_background": "light"
     },
     "output_type": "display_data"
    }
   ],
   "source": [
    "# plotting the line\n",
    "plt.plot(lst)\n",
    "plt.show()"
   ]
  },
  {
   "cell_type": "markdown",
   "metadata": {},
   "source": [
    "# Conditionals: IF\n",
    "\n",
    "* __IF__ statements check for a condition, and only execute a set of code if the condition is _True_.\n",
    "    * What type of logic is this?\n",
    "* Boolean logic: \n",
    "    * Based on Boolean algebra, foundation of digital tech and all programming languages\n",
    "    * Boolean algebra evaluates the truth value of a given statement\n",
    "* Can use __IF__ in isolation when you want a _single_ output solution.\n",
    "    * If true, do this\n",
    "    * Otherwise, do nothing"
   ]
  },
  {
   "cell_type": "code",
   "execution_count": null,
   "metadata": {},
   "outputs": [],
   "source": []
  },
  {
   "cell_type": "code",
   "execution_count": null,
   "metadata": {},
   "outputs": [],
   "source": []
  },
  {
   "cell_type": "code",
   "execution_count": null,
   "metadata": {},
   "outputs": [],
   "source": []
  },
  {
   "cell_type": "markdown",
   "metadata": {},
   "source": [
    "# Conditionals: ELSE\n",
    "\n",
    "* __ELSE__ statements always appear after an __IF__, and explicitly define an alternative action plan. \n",
    "* A simple __IF then ELSE__ sequence is useful if you are looking for a solution with _two_ possible outputs."
   ]
  },
  {
   "cell_type": "code",
   "execution_count": null,
   "metadata": {},
   "outputs": [],
   "source": []
  },
  {
   "cell_type": "code",
   "execution_count": null,
   "metadata": {},
   "outputs": [],
   "source": []
  },
  {
   "cell_type": "code",
   "execution_count": null,
   "metadata": {},
   "outputs": [],
   "source": []
  },
  {
   "cell_type": "markdown",
   "metadata": {},
   "source": [
    "# Conditionals: ELIF\n",
    "\n",
    "* When the solution requires >2 possible outputs, any number of __ELIF__ (aka __ELSEIF__ in MATLAB, __ELSE IF__ in R) statements can be chained together _after_ an __IF__.\n",
    "* A subsequent __ELSE__ is not required, but if you leave it out then the code will return nothing if both __IF__ and __ELIF__ are not _True_.\n",
    "* __ELIF__ after __ELSE__ does not make sense.\n"
   ]
  },
  {
   "cell_type": "code",
   "execution_count": null,
   "metadata": {},
   "outputs": [],
   "source": []
  },
  {
   "cell_type": "code",
   "execution_count": null,
   "metadata": {},
   "outputs": [],
   "source": []
  },
  {
   "cell_type": "markdown",
   "metadata": {},
   "source": [
    "# Multiple criteria to be satisfied (add Boolean operators)\n",
    "\n",
    "* When using these, think how you use Google search \n",
    "    * \"meatloaf\" AND \"beyond meat\"\n",
    "    * \"meatloaf\" OR \"beef wellington\"\n",
    "    * \"meatloaf\" NOT \"thyme\"\n",
    "* __AND__ can be used when multiple criteria must be satisfied to return a given output."
   ]
  },
  {
   "cell_type": "code",
   "execution_count": null,
   "metadata": {},
   "outputs": [],
   "source": []
  },
  {
   "cell_type": "markdown",
   "metadata": {},
   "source": [
    "* __OR__ can be used when any of the listed criteria can be satisfied to return a given output."
   ]
  },
  {
   "cell_type": "code",
   "execution_count": null,
   "metadata": {},
   "outputs": [],
   "source": []
  },
  {
   "cell_type": "markdown",
   "metadata": {},
   "source": [
    "* __NOT__ can be used when you'd like to exclude an alternative."
   ]
  },
  {
   "cell_type": "code",
   "execution_count": null,
   "metadata": {},
   "outputs": [],
   "source": []
  },
  {
   "cell_type": "markdown",
   "metadata": {},
   "source": [
    "# Conditional expressions within a FOR loop\n",
    "\n",
    "* Sometimes, you might want to iterate over something and make decisions as you go\n",
    "\n",
    "__E.g. 1: print all integers form 0 to 10, except for 2 and 6__"
   ]
  },
  {
   "cell_type": "code",
   "execution_count": null,
   "metadata": {},
   "outputs": [],
   "source": []
  },
  {
   "cell_type": "markdown",
   "metadata": {},
   "source": [
    "__E.g. 2: create two random 10-number integer arrays from 0-100. For each pair of integers, if they are both over or under 50 return the number 1, otherwise return 0__"
   ]
  },
  {
   "cell_type": "code",
   "execution_count": null,
   "metadata": {},
   "outputs": [],
   "source": []
  },
  {
   "cell_type": "code",
   "execution_count": null,
   "metadata": {},
   "outputs": [],
   "source": []
  }
 ],
 "metadata": {
  "kernelspec": {
   "display_name": "Python 3",
   "language": "python",
   "name": "python3"
  },
  "language_info": {
   "codemirror_mode": {
    "name": "ipython",
    "version": 3
   },
   "file_extension": ".py",
   "mimetype": "text/x-python",
   "name": "python",
   "nbconvert_exporter": "python",
   "pygments_lexer": "ipython3",
   "version": "3.8.8"
  }
 },
 "nbformat": 4,
 "nbformat_minor": 4
}
