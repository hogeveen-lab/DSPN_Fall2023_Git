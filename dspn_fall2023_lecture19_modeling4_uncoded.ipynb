{
 "cells": [
  {
   "cell_type": "markdown",
   "metadata": {},
   "source": [
    "# Data Science in Psychology & Neuroscience (DSPN): \n",
    "\n",
    "## Lecture 19. Some Advanced Data Modeling Stuff.\n",
    "\n",
    "### Date: November 9, 2023\n",
    "\n",
    "### To-Dos From Last Class:\n",
    "\n",
    "* Assignment #5\n",
    "    \n",
    "### Today:\n",
    "\n",
    "* Robust variants of GLM tests\n",
    "* Linear Mixed-Effects Models\n",
    "    * AKA multi-level models, mixed models, random effect models, etc.\n",
    "\n",
    "### Homework\n",
    "\n",
    "* Assignment #5"
   ]
  },
  {
   "cell_type": "code",
   "execution_count": 17,
   "metadata": {},
   "outputs": [],
   "source": [
    "# plot theme stuff\n",
    "# Many palettes available online, can customize\n",
    "# these are from: https://colorbrewer2.org/#type=qualitative&scheme=Set1&n=9\n",
    "my_palette <- c(\"#e41a1c\",\"#377eb8\",\"#4daf4a\",\"#984ea3\",\"#ff7f00\")\n",
    "\n",
    "# This is the basic function I use for all the ggplots I create. \n",
    "# Modified from this black themed ggplot function: https://gist.github.com/jslefche/eff85ef06b4705e6efbc\n",
    "my_theme = function(base_size = 24, base_family = \"\") {\n",
    "  \n",
    "  theme_grey(base_size = base_size, base_family = base_family) %+replace%\n",
    "    \n",
    "    theme(\n",
    "      # Specify axis options\n",
    "      axis.line = element_blank(),  \n",
    "      axis.text.x = element_text(size = base_size*0.8, color = \"black\", lineheight = 0.9),  \n",
    "      axis.text.y = element_text(size = base_size*0.8, color = \"black\", lineheight = 0.9),  \n",
    "      axis.ticks = element_line(color = \"black\", size  =  0.2),\n",
    "      axis.title.x = element_text(size = base_size, color = \"black\", margin = margin(10, 0, 0, 0)),\n",
    "      axis.title.y = element_text(size = base_size, color = \"black\", angle = 90, margin = margin(0, 10, 0, 0)),  \n",
    "      axis.ticks.length = unit(0.3, \"lines\"),   \n",
    "      # Specify legend options\n",
    "      legend.background = element_rect(color = NA, fill = \"#ffffff\"),  \n",
    "      legend.key = element_rect(color = \"black\",  fill = \"#ffffff\"),  \n",
    "      legend.key.size = unit(2, \"lines\"),  \n",
    "      legend.key.height = NULL,  \n",
    "      legend.key.width = NULL,      \n",
    "      legend.text = element_text(size = base_size*0.8, color = \"black\"),  \n",
    "      legend.title = element_text(size = base_size*0.8, face = \"bold\", hjust = 0, color = \"black\"),\n",
    "      legend.position = \"right\",  \n",
    "      legend.text.align = NULL,  \n",
    "      legend.title.align = NULL,  \n",
    "      legend.direction = \"vertical\",  \n",
    "      legend.box = NULL, \n",
    "      # Specify panel options\n",
    "      panel.background = element_rect(fill = \"#ffffff\", color  =  NA),  \n",
    "      panel.border = element_rect(fill = NA, color = \"black\"),  \n",
    "      panel.grid.major = element_line(color = \"#ffffff\"),  \n",
    "      panel.grid.minor = element_line(color = \"#ffffff\"),  \n",
    "      panel.spacing = unit(2, \"lines\"),\n",
    "      # Specify facetting options\n",
    "      strip.background = element_rect(fill = \"grey30\", color = \"grey10\"),  \n",
    "      strip.text.x = element_text(size = base_size*0.8, color = \"black\"),  \n",
    "      strip.text.y = element_text(size = base_size*0.8, color = \"black\",angle = -90),  \n",
    "      # Specify plot options\n",
    "      plot.background = element_rect(color = \"#ffffff\", fill = \"#ffffff\"),  \n",
    "      plot.title = element_text(size = base_size*1.2, color = \"black\"),  \n",
    "      plot.margin = unit(rep(1, 4), \"lines\")\n",
    "    ) \n",
    "}\n",
    "\n",
    "# Loading tidyverse and creating example df\n",
    "library(tidyverse)\n",
    "df <- tibble(pid  = c(1,2,3,4,5,6,7,8,9,10,11),\n",
    "             age = c(10,25,26,25,30,34,40,40,40,25,80),\n",
    "             tv_news = c(4.0,5.0,5.0,4.5,6.0,7.0,5.5,6.0,7.0,8.5,9.0),\n",
    "             experience = as.factor(c(0,0,0,0,0,1,0,1,1,1,1)),\n",
    "             crime_seriousness = c(21,28,27,26,33,36,31,35,41,80,95)) %>%\n",
    "    mutate(age_ord = ifelse(age<=25,1,\n",
    "                            ifelse(age<40,2,3)))"
   ]
  },
  {
   "cell_type": "markdown",
   "metadata": {},
   "source": [
    "# So you want to model some data...\n",
    "\n",
    "<img src='img/decision_tree.png' width='500'>\n",
    "\n",
    "## Table 1: Summarizing the pros / cons\n",
    "\n",
    "| Type of Model | Distribution Assumptions | Characteristics | Sensitivity to violations |\n",
    "| --- | --- | --- | --- |\n",
    "| parametric | specific, inflexible | optimal when assumptions are met | High |\n",
    "| robust | parametric, allowing some flexibility | good performance in many situations | Moderate |\n",
    "| nonparametric | No assumptions | Sub-optimal, but acceptable across almost any distribution | Not at all |\n",
    "\n",
    "* Data science in practice: \n",
    "    * If assumptions not violated, use standard parametric models. \n",
    "    * If violated a bit (often the case in psych and neuro) use robust variants.\n",
    "    * If your data are truly wacky, use nonparametric models.\n",
    "        * In class, only nonparametric test I'll cover is Spearman's _rho_.\n",
    "   \n",
    "For a thoughtful discussion on these issues: <a href=\"https://www.sciencedirect.com/science/article/pii/S0005796717301067\">Field & Wilcox. (2017).</a>"
   ]
  },
  {
   "cell_type": "markdown",
   "metadata": {},
   "source": [
    "# Let's show you some examples of \"robust\" models!\n",
    "\n",
    "## Example #1: modeling crime seriousness ratings __as a function of__ age\n",
    "\n",
    "- Standard: Linear regression with ordinary least squares (OLS) estimation\n",
    "    - But, given we already saw that the distribution of residuals is not normal and there were some outliers... \n",
    "- Robust: Robust linear regression with MM-type estimators"
   ]
  },
  {
   "cell_type": "code",
   "execution_count": null,
   "metadata": {},
   "outputs": [],
   "source": []
  },
  {
   "cell_type": "code",
   "execution_count": null,
   "metadata": {},
   "outputs": [],
   "source": []
  },
  {
   "cell_type": "markdown",
   "metadata": {},
   "source": [
    "## Example #2: modeling crime seriousness ratings between ppl with and without prior experience (i.e., Difference between 2-levels of a single factor)\n",
    "\n",
    "- Standard: Student's (if equal var assumed) or Welch's (if not assumed) t-test\n",
    "- Robust: Yuen's t-test (trimmed samples comparison)\n",
    "    - yuend: paired samples\n",
    "    - yuenbt: independent samples"
   ]
  },
  {
   "cell_type": "code",
   "execution_count": null,
   "metadata": {},
   "outputs": [],
   "source": []
  },
  {
   "cell_type": "markdown",
   "metadata": {},
   "source": [
    "## Example #3: modeling crime seriousness ratings as a function of the age ordinal variable (i.e., low, medium, or high age; _k_-levels of a single factor)\n",
    "\n",
    "- Standard: Parametric One-way ANOVA & post-hoc test\n",
    "- Robust: Robust One-way ANOVA & post-hoc test"
   ]
  },
  {
   "cell_type": "code",
   "execution_count": null,
   "metadata": {},
   "outputs": [],
   "source": []
  },
  {
   "cell_type": "code",
   "execution_count": null,
   "metadata": {},
   "outputs": [],
   "source": []
  },
  {
   "cell_type": "markdown",
   "metadata": {},
   "source": [
    "# Final option we'll code...\n",
    "\n",
    "<img src='img/LMMs.png' width='500'>\n",
    "\n",
    "Wonderful (relatively brief) intro lecture: https://www.youtube.com/watch?v=QCqF-2E86r0"
   ]
  },
  {
   "cell_type": "markdown",
   "metadata": {},
   "source": [
    "## Things that often muck up regression and rm-anova in psych/neuro\n",
    "* Nested factors that create non-independent observations. E.g...\n",
    "    * Student:classroom.\n",
    "    * Rats:litter.\n",
    "    * For a good review on this issue in psychology -- Grawitch & Munz. (2004), <a href=\"https://www.researchgate.net/profile/Matthew_Grawitch/publication/250890649_Are_Your_Data_Nonindependent_A_Practical_Guide_to_Evaluating_Nonindependence_and_Within-Group_Agreement/links/546ba7670cf20dedafd535fe.pdf\">_Understanding Statistics_</a>\n",
    "* Missing data or unbalanced designs. E.g...\n",
    "    * Repeated measures dataset with subjects missing obs\n",
    "* Repeats as a continuous factor. E.g...\n",
    "    * Time in longitudinal designs.\n",
    "    \n",
    "## LMMs are more flexible as they accommodate both fixed and random effects. \n",
    "* Fixed: Test for an effect of this parameter.\n",
    "* Random: Control for non-independence from nested or hierarchical structure.\n",
    "\n",
    "\n",
    "## Cautionary note:\n",
    "* Too much flexibility in the statistical toolkit = a lack of standardized 'best practices'\n",
    "    * <a href='https://www.sciencedirect.com/science/article/pii/S0749596X20300061'>Meteyard & Davies. (2020), _J Memory Lang_.</a>\n",
    "* If the design is simple and there are no missing data, you will likely get identical results from LMM vs. rm-ANOVA. \n"
   ]
  },
  {
   "cell_type": "markdown",
   "metadata": {},
   "source": [
    "## Fixed vs. Random Effects -- Examples\n",
    "\n",
    "* Influence of __dopamine agonists__ on __lever pulls__ in rats reared in __different cages__. \n",
    "    * _What is fixed and what is random?_\n",
    "* Impact of __trauma__ exposure on __amygdalar reactivity__ to threat stimuli in a large __multi-site__ study.\n",
    "    * _What is fixed and what is random?_\n",
    "* __Age__-related decline in __cognitive flexibility__, measured longitudinally within __subjects__.\n",
    "    * _What is fixed and what is random?_"
   ]
  },
  {
   "cell_type": "code",
   "execution_count": null,
   "metadata": {},
   "outputs": [],
   "source": []
  }
 ],
 "metadata": {
  "kernelspec": {
   "display_name": "R",
   "language": "R",
   "name": "ir"
  },
  "language_info": {
   "codemirror_mode": "r",
   "file_extension": ".r",
   "mimetype": "text/x-r-source",
   "name": "R",
   "pygments_lexer": "r",
   "version": "4.3.1"
  }
 },
 "nbformat": 4,
 "nbformat_minor": 4
}
