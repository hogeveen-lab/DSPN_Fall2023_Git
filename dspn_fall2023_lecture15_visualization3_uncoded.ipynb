{
 "cells": [
  {
   "cell_type": "markdown",
   "metadata": {},
   "source": [
    "# Data Science in Psychology & Neuroscience (DSPN): \n",
    "\n",
    "## Lecture 15. Data Visualization (part 2)\n",
    "\n",
    "### Date: October 19, 2023\n",
    "\n",
    "### To-Dos From Last Class:\n",
    "\n",
    "* Install R/RStudio (or IRKernel/Jupyter)\n",
    "    \n",
    "### Today:\n",
    "\n",
    "1. Plot some data\n",
    "    1. ggplot template\n",
    "    2. Layers\n",
    "    3. Grouping the data (Fill & Color)\n",
    "    4. Other formatting stuff (Themes)\n",
    "    5. Spotting / labelling outliers\n",
    "\n",
    "### Homework\n",
    "\n",
    "* Brainstorm Final Assignment ideas :)"
   ]
  },
  {
   "cell_type": "markdown",
   "metadata": {},
   "source": [
    "## Reminder: Imitation inhibition task dataset\n",
    "\n",
    "<img src=\"img/ait_task.png\" width=500>\n",
    "\n",
    "* 20 trials per condition (100 total responses for each participant)\n",
    "    * Average across cued response finger\n",
    "* Condition mapping:\n",
    "    1. Baseline \n",
    "    2. Effector congruent \n",
    "    3. Effector incongruent\n",
    "    4. Movement congruent\n",
    "    5. Movement incongruent"
   ]
  },
  {
   "cell_type": "markdown",
   "metadata": {},
   "source": [
    "# Part 1A: Reading in the dataset\n",
    "\n",
    "* Load the tidyverse package\n",
    "* Assign filepath\n",
    "* Read in the data"
   ]
  },
  {
   "cell_type": "code",
   "execution_count": 13,
   "metadata": {},
   "outputs": [
    {
     "name": "stderr",
     "output_type": "stream",
     "text": [
      "\u001b[1mRows: \u001b[22m\u001b[34m4745\u001b[39m \u001b[1mColumns: \u001b[22m\u001b[34m28\u001b[39m\n",
      "\u001b[36m──\u001b[39m \u001b[1mColumn specification\u001b[22m \u001b[36m────────────────────────────────────────────────────────\u001b[39m\n",
      "\u001b[1mDelimiter:\u001b[22m \",\"\n",
      "\u001b[31mchr\u001b[39m (11): Group, pid, Name.1, Name.2, Name.3, Response, Key, Released, Respo...\n",
      "\u001b[32mdbl\u001b[39m (15): Time, Finger, Congruence, Repeated, double_response, questionnaire...\n",
      "\u001b[33mlgl\u001b[39m  (2): (Trial Variable), Correct\n",
      "\n",
      "\u001b[36mℹ\u001b[39m Use `spec()` to retrieve the full column specification for this data.\n",
      "\u001b[36mℹ\u001b[39m Specify the column types or set `show_col_types = FALSE` to quiet this message.\n"
     ]
    }
   ],
   "source": [
    "library(tidyverse)\n",
    "\n",
    "# read in the data\n",
    "d_data <- '/Users/jeremyhogeveen/Dropbox/Fall_2023/teaching/PSY450_650/DSPN_Fall2023_Git/misc/imitation_inhibition_paradigm/data/second'\n",
    "f_trialwise <- paste(d_data,'ait_trialwise.csv',sep='/')\n",
    "\n",
    "# read in the dataset\n",
    "df_trialwise <- read_csv(f_trialwise)"
   ]
  },
  {
   "cell_type": "markdown",
   "metadata": {},
   "source": [
    "# 1B. Compute summary RT and error rate (ER) data by participant/condition\n",
    "\n",
    "## <span style=\"color:blue\">NOTE: I will do the wrangling for you in R for Assignment 4 and 5 starters!</span>\n",
    "\n",
    "* Normalize conditional RTs by \"baseline\"\n",
    "* Recode \"Congruence\" as a 2 x 2 design\n",
    "    * Stimulus type: Movement or Effector\n",
    "    * Stimulus/Response Compatibility: Congruent or Incongruent\n",
    "* Recode \"Error Code\" as an integer\n",
    "    * Useful for calculateing ER\n",
    "* Compute summary statistics"
   ]
  },
  {
   "cell_type": "code",
   "execution_count": 21,
   "metadata": {},
   "outputs": [],
   "source": [
    "# Normalizing effector / movement conditions by baseline\n",
    "\n",
    "# pull the baseline, compute base RT for each participant\n",
    "df_baseline <- df_trialwise %>%\n",
    "    filter(Congruence==0) %>%\n",
    "    group_by(pid) %>%\n",
    "    summarise(RT_base=mean(Time))\n",
    "\n",
    "# filter to just other conditions, merge baseline RTs back in, use to compute normalized RT\n",
    "df_wconditions <- df_trialwise %>%\n",
    "    filter(Congruence != 0) %>%\n",
    "    merge(df_baseline,by = \"pid\") %>%\n",
    "    group_by(pid) %>%\n",
    "    mutate(RT_sd = sd(Time),\n",
    "        RT_norm = (Time - RT_base) / sd(Time)) #%>%\n",
    "#     select(RT_sd,Time,RT_base,RT_norm)\n",
    "# head(df_conditions,5)\n",
    "\n",
    "# separating Congruence factor into 2 variables for easy ggplot coding\n",
    "df_wconditions <- df_wconditions %>%\n",
    "    mutate(str_condi = ifelse(Congruence==1,'eff_con',\n",
    "                              ifelse(Congruence==2,'eff_inc',\n",
    "                                     ifelse(Congruence==3,'move_con',\n",
    "                                            ifelse(Congruence==4,'move_inc','')))),\n",
    "           stim_type = ifelse(grepl('^eff',str_condi), \"Effector\", \"Movement\"),\n",
    "           sr_congruence = ifelse(grepl('con$', str_condi), \"Congruent\", \"Incongruent\"),\n",
    "           error = ifelse(Code==\"C\",0,1))"
   ]
  },
  {
   "cell_type": "code",
   "execution_count": 22,
   "metadata": {},
   "outputs": [
    {
     "name": "stderr",
     "output_type": "stream",
     "text": [
      "\u001b[1m\u001b[22m`summarise()` has grouped output by 'stim_type'. You can override using the\n",
      "`.groups` argument.\n"
     ]
    },
    {
     "data": {
      "text/html": [
       "<table class=\"dataframe\">\n",
       "<caption>A grouped_df: 4 × 5</caption>\n",
       "<thead>\n",
       "\t<tr><th scope=col>stim_type</th><th scope=col>sr_congruence</th><th scope=col>RT_mean</th><th scope=col>N</th><th scope=col>ER_mean</th></tr>\n",
       "\t<tr><th scope=col>&lt;chr&gt;</th><th scope=col>&lt;chr&gt;</th><th scope=col>&lt;dbl&gt;</th><th scope=col>&lt;int&gt;</th><th scope=col>&lt;dbl&gt;</th></tr>\n",
       "</thead>\n",
       "<tbody>\n",
       "\t<tr><td>Effector</td><td>Congruent  </td><td>-0.1857117</td><td>944</td><td>0.01165254</td></tr>\n",
       "\t<tr><td>Effector</td><td>Incongruent</td><td> 0.1729082</td><td>946</td><td>0.04228330</td></tr>\n",
       "\t<tr><td>Movement</td><td>Congruent  </td><td>-0.4572500</td><td>946</td><td>0.02325581</td></tr>\n",
       "\t<tr><td>Movement</td><td>Incongruent</td><td> 0.1143616</td><td>957</td><td>0.06374086</td></tr>\n",
       "</tbody>\n",
       "</table>\n"
      ],
      "text/latex": [
       "A grouped\\_df: 4 × 5\n",
       "\\begin{tabular}{lllll}\n",
       " stim\\_type & sr\\_congruence & RT\\_mean & N & ER\\_mean\\\\\n",
       " <chr> & <chr> & <dbl> & <int> & <dbl>\\\\\n",
       "\\hline\n",
       "\t Effector & Congruent   & -0.1857117 & 944 & 0.01165254\\\\\n",
       "\t Effector & Incongruent &  0.1729082 & 946 & 0.04228330\\\\\n",
       "\t Movement & Congruent   & -0.4572500 & 946 & 0.02325581\\\\\n",
       "\t Movement & Incongruent &  0.1143616 & 957 & 0.06374086\\\\\n",
       "\\end{tabular}\n"
      ],
      "text/markdown": [
       "\n",
       "A grouped_df: 4 × 5\n",
       "\n",
       "| stim_type &lt;chr&gt; | sr_congruence &lt;chr&gt; | RT_mean &lt;dbl&gt; | N &lt;int&gt; | ER_mean &lt;dbl&gt; |\n",
       "|---|---|---|---|---|\n",
       "| Effector | Congruent   | -0.1857117 | 944 | 0.01165254 |\n",
       "| Effector | Incongruent |  0.1729082 | 946 | 0.04228330 |\n",
       "| Movement | Congruent   | -0.4572500 | 946 | 0.02325581 |\n",
       "| Movement | Incongruent |  0.1143616 | 957 | 0.06374086 |\n",
       "\n"
      ],
      "text/plain": [
       "  stim_type sr_congruence RT_mean    N   ER_mean   \n",
       "1 Effector  Congruent     -0.1857117 944 0.01165254\n",
       "2 Effector  Incongruent    0.1729082 946 0.04228330\n",
       "3 Movement  Congruent     -0.4572500 946 0.02325581\n",
       "4 Movement  Incongruent    0.1143616 957 0.06374086"
      ]
     },
     "metadata": {},
     "output_type": "display_data"
    }
   ],
   "source": [
    "df_wconditions %>% \n",
    "    group_by(stim_type,sr_congruence) %>% \n",
    "    summarise(RT_mean = mean(RT_norm),\n",
    "              N = n(),\n",
    "              ER_mean = sum(error)/N) "
   ]
  },
  {
   "cell_type": "code",
   "execution_count": 1,
   "metadata": {},
   "outputs": [
    {
     "ename": "ERROR",
     "evalue": "Error in df_wconditions %>% group_by(pid, str_condi) %>% summarise(N = n(), : could not find function \"%>%\"\n",
     "output_type": "error",
     "traceback": [
      "Error in df_wconditions %>% group_by(pid, str_condi) %>% summarise(N = n(), : could not find function \"%>%\"\nTraceback:\n"
     ]
    }
   ],
   "source": [
    "\n",
    "# getting a data frame summarized by all condis\n",
    "df_sum <- df_wconditions %>% \n",
    "    group_by(pid,str_condi) %>% \n",
    "    summarise(N = n(),\n",
    "              RT_mean = mean(RT_norm),\n",
    "              ER_mean = sum(error) / N)"
   ]
  },
  {
   "cell_type": "markdown",
   "metadata": {},
   "source": [
    "# 2A. ggplot template\n",
    "\n",
    "* Note: ggplot reference for different geom_functions etc.\n",
    "    * https://ggplot2.tidyverse.org/reference/"
   ]
  },
  {
   "cell_type": "code",
   "execution_count": null,
   "metadata": {},
   "outputs": [],
   "source": [
    "# ggplot(data = <DATA>) + \n",
    "#   <GEOM_FUNCTION>(mapping = aes(<MAPPINGS>)) \n",
    "\n",
    "# ggplot(data = <DATA>, aes(<MAPPINGS>)) + \n",
    "#   <GEOM_FUNCTION>() \n",
    "\n",
    "# ggplot initiates a blank plot object\n",
    "# aes = aesthetic mappings\n",
    "# geom_functions = geometric objects"
   ]
  },
  {
   "cell_type": "code",
   "execution_count": null,
   "metadata": {},
   "outputs": [],
   "source": []
  },
  {
   "cell_type": "markdown",
   "metadata": {},
   "source": [
    "# 2B. Layers\n",
    "\n",
    "* Can layer as many different geometric objects (i.e., geom_ thingys) as you like!"
   ]
  },
  {
   "cell_type": "code",
   "execution_count": null,
   "metadata": {},
   "outputs": [],
   "source": []
  },
  {
   "cell_type": "code",
   "execution_count": null,
   "metadata": {},
   "outputs": [],
   "source": []
  },
  {
   "cell_type": "markdown",
   "metadata": {},
   "source": [
    "# 2C. Grouping the data (e.g. for visualizing interactions between factors)\n",
    "\n",
    "* Plotting stim type BY sr_comp interaction\n",
    "* Noting the difference between _fill_ and _colour_\n",
    "    * Fill --> specifying colour to fill a geom\n",
    "    * Colour --> specifying colour to outline a geom"
   ]
  },
  {
   "cell_type": "code",
   "execution_count": null,
   "metadata": {},
   "outputs": [],
   "source": []
  },
  {
   "cell_type": "code",
   "execution_count": null,
   "metadata": {},
   "outputs": [],
   "source": []
  },
  {
   "cell_type": "code",
   "execution_count": null,
   "metadata": {},
   "outputs": [],
   "source": []
  },
  {
   "cell_type": "code",
   "execution_count": null,
   "metadata": {},
   "outputs": [],
   "source": []
  },
  {
   "cell_type": "markdown",
   "metadata": {},
   "source": [
    "# 2D. Formatting the plots (Themes)\n",
    "\n",
    "* Plot outline / background\n",
    "* Axis labels"
   ]
  },
  {
   "cell_type": "code",
   "execution_count": null,
   "metadata": {},
   "outputs": [],
   "source": []
  },
  {
   "cell_type": "code",
   "execution_count": null,
   "metadata": {},
   "outputs": [],
   "source": []
  },
  {
   "cell_type": "code",
   "execution_count": null,
   "metadata": {},
   "outputs": [],
   "source": []
  },
  {
   "cell_type": "code",
   "execution_count": null,
   "metadata": {},
   "outputs": [],
   "source": []
  },
  {
   "cell_type": "code",
   "execution_count": null,
   "metadata": {},
   "outputs": [],
   "source": []
  },
  {
   "cell_type": "markdown",
   "metadata": {},
   "source": [
    "# 2E. Spotting + Labeling Outliers\n",
    "\n",
    "* Plotting speed-accuracy tradeoff scatter\n",
    "* Labelling points by participant ID to figure out who I should look into further"
   ]
  },
  {
   "cell_type": "code",
   "execution_count": null,
   "metadata": {},
   "outputs": [],
   "source": []
  },
  {
   "cell_type": "code",
   "execution_count": null,
   "metadata": {},
   "outputs": [],
   "source": []
  },
  {
   "cell_type": "markdown",
   "metadata": {},
   "source": [
    "# 2F. Making a Mean +/- SEM plot __after__ you know your data \n",
    "\n",
    "* compute 2x2 RT summary _across_ participants\n",
    "* plot mean +/- SEM"
   ]
  },
  {
   "cell_type": "code",
   "execution_count": null,
   "metadata": {},
   "outputs": [],
   "source": []
  },
  {
   "cell_type": "code",
   "execution_count": null,
   "metadata": {},
   "outputs": [],
   "source": []
  },
  {
   "cell_type": "code",
   "execution_count": null,
   "metadata": {},
   "outputs": [],
   "source": []
  }
 ],
 "metadata": {
  "kernelspec": {
   "display_name": "R",
   "language": "R",
   "name": "ir"
  },
  "language_info": {
   "codemirror_mode": "r",
   "file_extension": ".r",
   "mimetype": "text/x-r-source",
   "name": "R",
   "pygments_lexer": "r",
   "version": "4.3.1"
  }
 },
 "nbformat": 4,
 "nbformat_minor": 4
}
