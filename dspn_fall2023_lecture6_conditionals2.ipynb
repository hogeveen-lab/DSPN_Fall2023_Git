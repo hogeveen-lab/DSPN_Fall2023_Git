{
 "cells": [
  {
   "cell_type": "markdown",
   "metadata": {},
   "source": [
    "# Data Science in Psychology & Neuroscience (DSPN): \n",
    "\n",
    "## Lecture 6. Conditionals Part 2\n",
    "\n",
    "### Date: September 12, 2023\n",
    "\n",
    "### To-Dos From Last Class:\n",
    "\n",
    "* Practice practice practice (<a href=\"https://www.w3resource.com/python-exercises/python-conditional-statements-and-loop-exercises.php\">e.g.</a>)\n",
    "\n",
    "### Today:\n",
    "\n",
    "* More conditional exercises in Excel and Python\n",
    "\n",
    "\n",
    "### Homework\n",
    "\n",
    "* Read short primer on the \"integrate and fire\" neuron\n",
    "* Download Assignment #2 starter kit from <a href=\"https://github.com/hogeveen-lab/DSPN_Fall2022_git\">github</a>\n"
   ]
  },
  {
   "cell_type": "markdown",
   "metadata": {},
   "source": [
    "# Reminder: Properties of conditionals\n",
    "\n",
    "* All conditionals start with an if, can have an optional and variable number of elif’s and an optional else statement\n",
    "* Conditionals can take any expression that can be evaluated as True or False.\n",
    "* At most one component (if / elif / else) of a conditional will run.\n",
    "* The order of conditional blocks is always if then elif(s) then else\n",
    "* Code is only ever executed if the condition is met"
   ]
  },
  {
   "cell_type": "markdown",
   "metadata": {},
   "source": [
    "# warmup: Returning to \"IN\" and \"NOT IN\"\n",
    "\n",
    "\n",
    "## Exercise 1:\n",
    "## make a random list of 5 numbers between 1 and 10, set x = 2\n",
    "## use conditionals to determine if x is in the list"
   ]
  },
  {
   "cell_type": "code",
   "execution_count": 21,
   "metadata": {},
   "outputs": [
    {
     "name": "stdout",
     "output_type": "stream",
     "text": [
      "[8 6 1 9 9]\n",
      "2 is NOT in the list!\n"
     ]
    }
   ],
   "source": [
    "# not in\n",
    "\n",
    "from numpy import random as npr\n",
    "lst = npr.randint(1,10,5)\n",
    "x = 2\n",
    "\n",
    "# print(lst)\n",
    "# if x in lst:\n",
    "#     print(x,'is IN the list!')\n",
    "# else:\n",
    "#     print(x,'is NOT in the list!')\n",
    "\n",
    "# print(lst)\n",
    "# if x not in lst:\n",
    "#     print(x,'is NOT in the list!')\n",
    "# else:\n",
    "#     print(x,'is IN the list!')"
   ]
  },
  {
   "cell_type": "markdown",
   "metadata": {},
   "source": [
    "# Exercise 2:\n",
    "\n",
    "## Create a loop that skips all odd numbers and terminates at a user-defined value"
   ]
  },
  {
   "cell_type": "code",
   "execution_count": 22,
   "metadata": {},
   "outputs": [
    {
     "name": "stdin",
     "output_type": "stream",
     "text": [
      " 60\n"
     ]
    },
    {
     "name": "stdout",
     "output_type": "stream",
     "text": [
      "2\n",
      "4\n",
      "6\n",
      "8\n",
      "10\n",
      "12\n",
      "14\n",
      "16\n",
      "18\n",
      "20\n",
      "22\n",
      "24\n",
      "26\n",
      "28\n",
      "30\n",
      "32\n",
      "34\n",
      "36\n",
      "38\n",
      "40\n",
      "42\n",
      "44\n",
      "46\n",
      "48\n",
      "50\n",
      "52\n",
      "54\n",
      "56\n",
      "58\n",
      "60\n"
     ]
    }
   ],
   "source": [
    "lastLoop = int(input())\n",
    "\n",
    "i = 0\n",
    "while i <= lastLoop:\n",
    "    i += 1\n",
    "    if i % 2 != 0:\n",
    "        continue\n",
    "    elif i % 2 == 0:\n",
    "        print(i)"
   ]
  },
  {
   "cell_type": "markdown",
   "metadata": {},
   "source": [
    "## 2b: make a loop that terminates as soon as the value is >= user input divided by 2"
   ]
  },
  {
   "cell_type": "code",
   "execution_count": 25,
   "metadata": {},
   "outputs": [
    {
     "name": "stdout",
     "output_type": "stream",
     "text": [
      "1\n",
      "2\n",
      "3\n",
      "4\n",
      "5\n",
      "6\n",
      "7\n",
      "8\n",
      "9\n",
      "10\n",
      "11\n",
      "12\n",
      "13\n",
      "14\n",
      "15\n",
      "16\n",
      "17\n",
      "18\n",
      "19\n",
      "20\n",
      "21\n",
      "22\n",
      "23\n",
      "24\n",
      "25\n",
      "26\n",
      "27\n",
      "28\n",
      "29\n",
      "30\n"
     ]
    }
   ],
   "source": [
    "i = 0\n",
    "while i <= lastLoop:\n",
    "    if i >= lastLoop/2:\n",
    "        break\n",
    "    i += 1\n",
    "    print(i)"
   ]
  },
  {
   "cell_type": "markdown",
   "metadata": {},
   "source": [
    "# Exercise 3: \n",
    "## Write a program that lets kids 3-5 feet tall (inclusive) onto a roller coaster."
   ]
  },
  {
   "cell_type": "code",
   "execution_count": 27,
   "metadata": {},
   "outputs": [
    {
     "name": "stdin",
     "output_type": "stream",
     "text": [
      " 4\n"
     ]
    },
    {
     "name": "stdout",
     "output_type": "stream",
     "text": [
      "You are allowed on the roller coaster, enjoy the ride!\n"
     ]
    }
   ],
   "source": [
    "height = int(input())\n",
    "minH = 3\n",
    "maxH = 5\n",
    "  \n",
    "if ((height >= minH) and (height <= maxH)):\n",
    "    print(\"You are allowed on the roller coaster, enjoy the ride!\")\n",
    "else:\n",
    "    print(\"Sorry, you are NOT allowed on the roller coaster. Go home!\")"
   ]
  },
  {
   "cell_type": "markdown",
   "metadata": {},
   "source": [
    "# Exercise 4:\n",
    "## Write a program that compares three random integers\n",
    "## Specifically, determine if one integer is greater than the other two integers."
   ]
  },
  {
   "cell_type": "code",
   "execution_count": 40,
   "metadata": {},
   "outputs": [
    {
     "name": "stdout",
     "output_type": "stream",
     "text": [
      "A: 9 B: 6 C: 9\n",
      "Two or more integers equal 9\n"
     ]
    }
   ],
   "source": [
    "lst = npr.randint(1,10,3)\n",
    "print('A:',lst[0],'B:',lst[1],'C:',lst[2])\n",
    "\n",
    "if (lst[0] > lst[1]) and (lst[0] > lst[2]):\n",
    "    print(lst[0],'Is the greatest integer!')\n",
    "elif (lst[1] > lst[0]) and (lst[1] > lst[2]):\n",
    "    print(lst[1],'Is the greatest integer!')\n",
    "elif (lst[2] > lst[0]) and (lst[2] > lst[1]):\n",
    "    print(lst[2],'Is the greatest integer!')\n",
    "else:\n",
    "    print('Two or more integers equal',max(lst))"
   ]
  },
  {
   "cell_type": "code",
   "execution_count": null,
   "metadata": {},
   "outputs": [],
   "source": []
  }
 ],
 "metadata": {
  "kernelspec": {
   "display_name": "Python 3",
   "language": "python",
   "name": "python3"
  },
  "language_info": {
   "codemirror_mode": {
    "name": "ipython",
    "version": 3
   },
   "file_extension": ".py",
   "mimetype": "text/x-python",
   "name": "python",
   "nbconvert_exporter": "python",
   "pygments_lexer": "ipython3",
   "version": "3.8.8"
  }
 },
 "nbformat": 4,
 "nbformat_minor": 4
}
