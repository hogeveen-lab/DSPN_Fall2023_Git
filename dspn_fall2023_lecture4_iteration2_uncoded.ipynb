{
 "cells": [
  {
   "cell_type": "markdown",
   "id": "fd584725-b018-44fe-9313-8755d2d0a6be",
   "metadata": {},
   "source": [
    "# Data Science in Psychology & Neuroscience (DSPN): \n",
    "\n",
    "## Lecture 4. Iteration Part 2\n",
    "\n",
    "### Date: August 31, 2023\n",
    "\n",
    "### To-Dos From Last Class:\n",
    "\n",
    "* Download Assignment #1 starter kit from <a href=\"https://github.com/hogeveen-lab/DSPN_Fall2022_git\">github</a>\n",
    "\n",
    "### Today:\n",
    "\n",
    "* More iteration exercises in Python\n",
    "* Complete spreadsheet version of the oscillator\n",
    "* Set up conversion to Python\n",
    "\n",
    "### Homework:\n",
    "\n",
    "* Submit Assignment #1: <a href=\"https://www.dropbox.com/request/RUvKEcp8laBnLs8jarrF\">Oscillator</a> (before 9/7, 23:00 MDT)"
   ]
  },
  {
   "cell_type": "markdown",
   "id": "626250d1-0157-4880-9aee-08cb5dd71831",
   "metadata": {},
   "source": [
    "# Exercise 1: Write a program to print _N_ integers in descending order in increments of 3 using a WHILE loop."
   ]
  },
  {
   "cell_type": "code",
   "execution_count": null,
   "id": "fec58dda-7aac-486f-b1b1-3ccc50f99cce",
   "metadata": {},
   "outputs": [],
   "source": []
  },
  {
   "cell_type": "markdown",
   "id": "a115f4d1-6053-40cb-a755-12ead2ef756e",
   "metadata": {},
   "source": [
    "# Exercise 2: Determine whether each integer between 1 and a user-defined integer is even or odd."
   ]
  },
  {
   "cell_type": "code",
   "execution_count": null,
   "id": "37330b61-04a9-4594-96dd-a738b9835912",
   "metadata": {},
   "outputs": [],
   "source": []
  },
  {
   "cell_type": "markdown",
   "id": "f3f95051-25b3-4a6f-a9d2-b3edb32bdef5",
   "metadata": {},
   "source": [
    "# Exercise 3: Write a FOR loop that iterates through a string and prints every letter.\n",
    "\n",
    "## bonus: count the letters."
   ]
  },
  {
   "cell_type": "code",
   "execution_count": null,
   "id": "74496f25-c656-40f1-ae3e-413484e4e0ca",
   "metadata": {},
   "outputs": [],
   "source": []
  },
  {
   "cell_type": "markdown",
   "id": "70696b16-e7c4-49bf-8343-fe72fb8a8dd6",
   "metadata": {},
   "source": [
    "# Assignment #1: Background\n",
    "\n",
    "## What is oscillation?\n",
    "* Repetitive variation of some measure across time around a central value\n",
    "\n",
    "* e.g.1 Electroencephalography (EEG)\n",
    "\n",
    "<img src=\"img/sleep_eeg.jpeg\" alt=\"Drawing\" style=\"height: 300px;\"/>\n",
    "\n",
    "* e.g.2 Motion of a mass on a spring\n",
    "\n",
    "<img src=\"img/oscillator_spring.gif\" alt=\"Drawing\" style=\"height: 300px;\"/>\n",
    "\n",
    "## Why?\n",
    "1. It is good to start with simple situations.\n",
    "2. It is good to start with scenarios where you can trust your intuitions.\n",
    "3. It is good if you can start with examples where you can \"look up\" the right answer, before implementing models for which you do not have the right answer.\n",
    "\n",
    "## Analytic formalization\n",
    "\n",
    "$\n",
    "\\begin{equation} \n",
    "a(t) = -Ps(t) \n",
    "\\end{equation}\n",
    "$\n",
    "\n",
    "* The acceleration (a) of our weight at a point in time (t) is equal to a constant (P) and our current position (s).\n",
    "\n",
    "$\n",
    "\\begin{equation}\n",
    "Acceleration = \\frac{dV}{dt}\n",
    "\\end{equation}\n",
    "$\n",
    "\n",
    "* Acceleration is also a function of the change in velocity over time\n",
    "\n",
    "* Translated to English:\n",
    "    * The oscillator's position (_s_) changes as a function of acceleration (_a_), and in turn, acceleration is a function of changing velocity (_V_) over time (_t_)\n",
    "\n",
    "__We can solve this using Euler's Method & differential equations, or__\n",
    "\n",
    "# Simpler solution: Brute force in Microsoft Excel..."
   ]
  },
  {
   "cell_type": "code",
   "execution_count": null,
   "id": "4a1b721f-5727-4097-b6d5-1c1726119fe9",
   "metadata": {},
   "outputs": [],
   "source": []
  }
 ],
 "metadata": {
  "kernelspec": {
   "display_name": "Python 3",
   "language": "python",
   "name": "python3"
  },
  "language_info": {
   "codemirror_mode": {
    "name": "ipython",
    "version": 3
   },
   "file_extension": ".py",
   "mimetype": "text/x-python",
   "name": "python",
   "nbconvert_exporter": "python",
   "pygments_lexer": "ipython3",
   "version": "3.8.8"
  }
 },
 "nbformat": 4,
 "nbformat_minor": 5
}
