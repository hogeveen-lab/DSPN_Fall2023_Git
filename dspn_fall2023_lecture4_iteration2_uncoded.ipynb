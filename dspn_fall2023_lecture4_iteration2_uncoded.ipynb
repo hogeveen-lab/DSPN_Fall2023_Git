{
 "cells": [
  {
   "cell_type": "markdown",
   "id": "fd584725-b018-44fe-9313-8755d2d0a6be",
   "metadata": {},
   "source": [
    "# Data Science in Psychology & Neuroscience (DSPN): \n",
    "\n",
    "## Lecture 4. Iteration Part 2\n",
    "\n",
    "### Date: August 31, 2023\n",
    "\n",
    "### To-Dos From Last Class:\n",
    "\n",
    "* Download Assignment #1 starter kit from <a href=\"https://github.com/hogeveen-lab/DSPN_Fall2022_git\">github</a>\n",
    "\n",
    "### Today:\n",
    "\n",
    "* More iteration exercises in Python\n",
    "* Complete spreadsheet version of the oscillator\n",
    "* Set up conversion to Python\n",
    "\n",
    "### Homework:\n",
    "\n",
    "* Submit Assignment #1: <a href=\"https://www.dropbox.com/request/RUvKEcp8laBnLs8jarrF\">Oscillator</a> (before 9/7, 23:00 MDT)"
   ]
  },
  {
   "cell_type": "markdown",
   "id": "626250d1-0157-4880-9aee-08cb5dd71831",
   "metadata": {},
   "source": [
    "# Exercise 1: Write a program to print _N_ integers in descending order in increments of 3 using a WHILE loop."
   ]
  },
  {
   "cell_type": "code",
   "execution_count": 4,
   "id": "fec58dda-7aac-486f-b1b1-3ccc50f99cce",
   "metadata": {},
   "outputs": [
    {
     "name": "stdin",
     "output_type": "stream",
     "text": [
      " 24\n"
     ]
    },
    {
     "name": "stdout",
     "output_type": "stream",
     "text": [
      "24\n",
      "21\n",
      "18\n",
      "15\n",
      "12\n",
      "9\n",
      "6\n",
      "3\n",
      "0\n"
     ]
    }
   ],
   "source": [
    "#preamble\n",
    "N = int(input())\n",
    "increment = 3\n",
    "\n",
    "# iteration with a WHILE loop\n",
    "while N >= 0:\n",
    "    print(N)\n",
    "    N  -= increment"
   ]
  },
  {
   "cell_type": "markdown",
   "id": "a115f4d1-6053-40cb-a755-12ead2ef756e",
   "metadata": {},
   "source": [
    "# Exercise 2: Determine whether each integer between 1 and a user-defined integer is even or odd."
   ]
  },
  {
   "cell_type": "code",
   "execution_count": 5,
   "id": "37330b61-04a9-4594-96dd-a738b9835912",
   "metadata": {},
   "outputs": [
    {
     "name": "stdin",
     "output_type": "stream",
     "text": [
      " 23\n"
     ]
    },
    {
     "name": "stdout",
     "output_type": "stream",
     "text": [
      "23 Is an odd number\n",
      "22 Is an even number\n",
      "21 Is an odd number\n",
      "20 Is an even number\n",
      "19 Is an odd number\n",
      "18 Is an even number\n",
      "17 Is an odd number\n",
      "16 Is an even number\n",
      "15 Is an odd number\n",
      "14 Is an even number\n",
      "13 Is an odd number\n",
      "12 Is an even number\n",
      "11 Is an odd number\n",
      "10 Is an even number\n",
      "9 Is an odd number\n",
      "8 Is an even number\n",
      "7 Is an odd number\n",
      "6 Is an even number\n",
      "5 Is an odd number\n",
      "4 Is an even number\n",
      "3 Is an odd number\n",
      "2 Is an even number\n",
      "1 Is an odd number\n"
     ]
    }
   ],
   "source": [
    "#preamble\n",
    "N = int(input())\n",
    "\n",
    "# iteration with a WHILE loop\n",
    "while N > 0:\n",
    "    # check if even or odd\n",
    "    if N % 2 == 0:\n",
    "        print(N,\"Is an even number\")\n",
    "    else:\n",
    "        print(N,\"Is an odd number\")\n",
    "    # decrease number by 1\n",
    "    N -= 1\n",
    "            "
   ]
  },
  {
   "cell_type": "markdown",
   "id": "f3f95051-25b3-4a6f-a9d2-b3edb32bdef5",
   "metadata": {},
   "source": [
    "# Exercise 3: Write a FOR loop that iterates through a string and prints every letter.\n",
    "\n",
    "## bonus: count the letters."
   ]
  },
  {
   "cell_type": "code",
   "execution_count": 8,
   "id": "74496f25-c656-40f1-ae3e-413484e4e0ca",
   "metadata": {},
   "outputs": [
    {
     "name": "stdout",
     "output_type": "stream",
     "text": [
      "the 1 letter in the string is: h\n",
      "the 2 letter in the string is: i\n",
      "the 3 letter in the string is: p\n",
      "the 4 letter in the string is: p\n",
      "the 5 letter in the string is: o\n",
      "the 6 letter in the string is: c\n",
      "the 7 letter in the string is: a\n",
      "the 8 letter in the string is: m\n",
      "the 9 letter in the string is: p\n",
      "the 10 letter in the string is: u\n",
      "the 11 letter in the string is: s\n"
     ]
    }
   ],
   "source": [
    "# preamble\n",
    "string = 'hippocampus'\n",
    "\n",
    "# iteration with a FOR loop\n",
    "iteration = 1\n",
    "for i in string:\n",
    "    print('the',iteration,'letter in the string is:',i)\n",
    "    iteration += 1"
   ]
  },
  {
   "cell_type": "markdown",
   "id": "70696b16-e7c4-49bf-8343-fe72fb8a8dd6",
   "metadata": {},
   "source": [
    "# Assignment #1: Background\n",
    "\n",
    "## What is oscillation?\n",
    "* Repetitive variation of some measure across time around a central value\n",
    "\n",
    "* e.g.1 Electroencephalography (EEG)\n",
    "\n",
    "<img src=\"img/sleep_eeg.jpeg\" alt=\"Drawing\" style=\"height: 300px;\"/>\n",
    "\n",
    "* e.g.2 Motion of a mass on a spring\n",
    "\n",
    "<img src=\"img/oscillator_spring.gif\" alt=\"Drawing\" style=\"height: 300px;\"/>\n",
    "\n",
    "## Why?\n",
    "1. It is good to start with simple situations.\n",
    "2. It is good to start with scenarios where you can trust your intuitions.\n",
    "3. It is good if you can start with examples where you can \"look up\" the right answer, before implementing models for which you do not have the right answer.\n",
    "\n",
    "## Analytic formalization\n",
    "\n",
    "$\n",
    "\\begin{equation} \n",
    "a(t) = -Ps(t) \n",
    "\\end{equation}\n",
    "$\n",
    "\n",
    "* The acceleration (a) of our weight at a point in time (t) is equal to a constant (P) and our current position (s).\n",
    "\n",
    "$\n",
    "\\begin{equation}\n",
    "Acceleration = \\frac{dV}{dt}\n",
    "\\end{equation}\n",
    "$\n",
    "\n",
    "* Acceleration is also a function of the change in velocity over time\n",
    "\n",
    "* Translated to English:\n",
    "    * The oscillator's position (_s_) changes as a function of acceleration (_a_), and in turn, acceleration is a function of changing velocity (_V_) over time (_t_)\n",
    "\n",
    "__We can solve this using Euler's Method & differential equations, or__\n",
    "\n",
    "# Simpler solution: Brute force in Microsoft Excel..."
   ]
  },
  {
   "cell_type": "markdown",
   "id": "0c8aa1cc-af2c-4289-a84e-81ea622588f9",
   "metadata": {},
   "source": [
    "* Basic logic: We figure out how much position, velocity, and acceleration have changed by multiplying those values to how much time has passed.\n",
    "    * We add this scaling factor to our old value to get a new value\n",
    "    * The new value then becomes the old value, rinse, and repeat\n",
    "    \n",
    "* This is the golden rule of iteration: __New Value = Old Value + Change__ (aka __Value += Change__ in Pythonic).\n",
    "* Open up a spreadsheet.\n",
    "    * Create column headings for:\n",
    "        * P -- constant\n",
    "        * t -- time point\n",
    "        * delta_t -- time step\n",
    "        * s -- position\n",
    "        * a -- acceleration\n",
    "        * v -- velocity\n",
    "        * delta_v -- change in velocity\n",
    "        * delta_s -- change in position\n",
    "    * Set the baseline / initial state\n",
    "        * P -- choose some small positive value (we can play with this to see how it changes our results)\n",
    "        * t -- where does this start?\n",
    "        * delta_t -- choose a super small value, maybe 0.05s\n",
    "        * s -- start with 1\n",
    "        * a -- we know this from the analytic solution ($-1*P*s(t)$)\n",
    "            * note: include $ when referencing the constant\n",
    "        * v -- where does this start?\n",
    "        * delta_v -- delta_t multiplied by acceleration\n",
    "        * delta_s -- velocity + change in velocity, multiplied by delta_t\n",
    "    * Update state after first time step\n",
    "        * Acceleration and the \"deltas\" represent the change values, these formulas can stay\n",
    "        * Time, position, and velocity equal their previous value PLUS their change over time\n",
    "    * Iterate 200 times total, and plot s(t)\n",
    "        * Copy and paste down through row 201\n",
    "        * Plot s\n",
    "\n",
    "# Your Assignment #1: Write a Python program to recreate this harmonic oscillator\n",
    "## BONUSES: \n",
    "### i) Code it without using the starter. \n",
    "### ii) Add a damped oscillator."
   ]
  },
  {
   "cell_type": "code",
   "execution_count": null,
   "id": "8aa17e73-9c48-485d-ac39-db2e03d6c709",
   "metadata": {},
   "outputs": [],
   "source": []
  }
 ],
 "metadata": {
  "kernelspec": {
   "display_name": "Python 3",
   "language": "python",
   "name": "python3"
  },
  "language_info": {
   "codemirror_mode": {
    "name": "ipython",
    "version": 3
   },
   "file_extension": ".py",
   "mimetype": "text/x-python",
   "name": "python",
   "nbconvert_exporter": "python",
   "pygments_lexer": "ipython3",
   "version": "3.8.8"
  }
 },
 "nbformat": 4,
 "nbformat_minor": 5
}
