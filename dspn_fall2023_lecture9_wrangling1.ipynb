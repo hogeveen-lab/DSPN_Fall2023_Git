{
 "cells": [
  {
   "cell_type": "markdown",
   "metadata": {},
   "source": [
    "# Data Science in Psychology & Neuroscience (DSPN): \n",
    "\n",
    "## Lecture 9. Data Wrangling (part 1)\n",
    "\n",
    "### Date: September 21, 2023\n",
    "\n",
    "### To-Dos From Last Class:\n",
    "\n",
    "* Submit Assignment #2: <a href=\"https://www.dropbox.com/request/gzkRwmYMySDWiUddKMCu\">Integrate & Fire</a> (before 9/21, 23:00 MDT)\n",
    "\n",
    "### Today:\n",
    "\n",
    "* What is data wrangling?\n",
    "* What is Pandas?\n",
    "* Data wrangling in Pandas (stealing heavily from this <a href=\"https://pandas.pydata.org/Pandas_Cheat_Sheet.pdf\">Cheatsheet</a>)\n",
    "    1. Creating a data frame\n",
    "    2. Reshaping\n",
    "    3. Subsetting\n",
    "    4. Adding columns\n",
    "    5. Combining data frames\n",
    "\n",
    "### Homework\n",
    "\n",
    "* Download data for next class' wrangling session from <a href=\"https://github.com/hogeveen-lab/DSPN_Fall2023_Git\">Github</a> --> misc/imitation_inhibition_paradigm\n",
    "\n"
   ]
  },
  {
   "cell_type": "markdown",
   "metadata": {},
   "source": [
    "# What is data wrangling?\n",
    "\n",
    "<img src=\"img/data_wrangling_schematic.png\" width=\"600\">\n",
    "\n",
    "<img src=\"img/lotr.gif\">"
   ]
  },
  {
   "cell_type": "markdown",
   "metadata": {},
   "source": [
    "# What is Pandas?\n",
    "\n",
    "* A data wrangling _package_ for Python\n",
    "    * Takes a lot of what is good about R and brings it into a Python general-purpose programming env\n",
    "\n",
    "<img src=\"img/pandas.jpeg\" width=\"650\">\n",
    "\n",
    "## What does this mean?\n",
    "\n",
    "* Tidy data\n",
    "    * General organizational structure used to hold and manipulate data objects used in R and Pandas\n",
    "    \n",
    "<img src=\"img/tidy_data.png\" width=\"650\">\n",
    "\n",
    "* This enables you to perform __vectorized operations__ on your data\n",
    "    * Pandas (and tidyverse/dplyr in R) preserve your observations while you run those operations\n",
    "    \n",
    "<img src=\"img/tidy_data_vectorized_operations.png\" width=\"450\">"
   ]
  },
  {
   "cell_type": "markdown",
   "metadata": {},
   "source": [
    "# Data Wrangling in Pandas\n",
    "\n",
    "## 1. Creating DataFrames"
   ]
  },
  {
   "cell_type": "code",
   "execution_count": 2,
   "metadata": {},
   "outputs": [
    {
     "name": "stdout",
     "output_type": "stream",
     "text": [
      "      var1  var2  var3\n",
      "obs1     4     7    10\n",
      "obs2     5     8    11\n",
      "obs3     6     9    12\n",
      "      var1  var2  var3\n",
      "obs1     4     7    10\n",
      "obs2     5     8    11\n",
      "obs3     6     9    12\n"
     ]
    }
   ],
   "source": [
    "# Importing and naming the package\n",
    "import pandas as pd\n",
    "\n",
    "# creating a data frame from scratch (assign values by column)\n",
    "df = pd.DataFrame({'var1' : [4, 5, 6],\n",
    "                   'var2' : [7, 8, 9],\n",
    "                   'var3' : [10, 11, 12]},\n",
    "                  index=['obs1','obs2','obs3']) # run with and wihtout index\n",
    "print(df)\n",
    "\n",
    "# creating a data frame from scratch (assign values by row)\n",
    "df_byrow = pd.DataFrame([[4,7,10],\n",
    "                  [5,8,11],\n",
    "                  [6,9,12]],\n",
    "                  index=['obs1','obs2','obs3'],\n",
    "                  columns=['var1','var2','var3'])\n",
    "print(df_byrow)\n",
    "\n",
    "# # most often...\n",
    "# filepath = '~/Desktop/filtdf.csv'\n",
    "# df_real = pd.read_csv(filepath)\n",
    "# print(df_real)\n",
    "                  "
   ]
  },
  {
   "cell_type": "markdown",
   "metadata": {},
   "source": [
    "## 2. Reshaping data\n",
    "\n",
    "### Melt (i.e. go from wide to long)\n",
    "\n",
    "<img src=\"img/melt.png\" width=\"400\">"
   ]
  },
  {
   "cell_type": "code",
   "execution_count": 16,
   "metadata": {},
   "outputs": [
    {
     "name": "stdout",
     "output_type": "stream",
     "text": [
      "   pid  grp  var1  var2  var3\n",
      "0    1    1     4     8    12\n",
      "1    2    1     5     9    13\n",
      "2    3    2     6    10    14\n",
      "3    4    2     7    11    15\n",
      "   variable  value\n",
      "0       pid      1\n",
      "1       pid      2\n",
      "2       pid      3\n",
      "3       pid      4\n",
      "4       grp      1\n",
      "5       grp      1\n",
      "6       grp      2\n",
      "7       grp      2\n",
      "8      var1      4\n",
      "9      var1      5\n",
      "10     var1      6\n",
      "11     var1      7\n",
      "12     var2      8\n",
      "13     var2      9\n",
      "14     var2     10\n",
      "15     var2     11\n",
      "16     var3     12\n",
      "17     var3     13\n",
      "18     var3     14\n",
      "19     var3     15\n",
      "    pid  grp variable  value\n",
      "0     1    1     var1      4\n",
      "1     2    1     var1      5\n",
      "2     3    2     var1      6\n",
      "3     4    2     var1      7\n",
      "4     1    1     var2      8\n",
      "5     2    1     var2      9\n",
      "6     3    2     var2     10\n",
      "7     4    2     var2     11\n",
      "8     1    1     var3     12\n",
      "9     2    1     var3     13\n",
      "10    3    2     var3     14\n",
      "11    4    2     var3     15\n"
     ]
    }
   ],
   "source": [
    "print(df)\n",
    "df_long = pd.melt(df)#,var_name='Variables', value_name='Observations'\n",
    "print(df_long) \n",
    "\n",
    "# What if we have some variable(s) we DON't want to lengthen?\n",
    "df_with_group = pd.DataFrame({'pid': [1,2,3,4],\n",
    "                              'grp' : [1, 1, 2, 2],\n",
    "                              'var1' : [4, 5, 6, 7],\n",
    "                              'var2' : [8, 9, 10, 11],\n",
    "                              'var3' : [12, 13, 14, 15]})\n",
    "print(df_with_group)\n",
    "print(pd.melt(df_with_group))\n",
    "print(pd.melt(df_with_group,id_vars=['pid','grp']))\n"
   ]
  },
  {
   "cell_type": "markdown",
   "metadata": {},
   "source": [
    "### Pivot (i.e. go from long to wide)\n",
    "\n",
    "<img src=\"img/pivot.png\" width=\"600\">"
   ]
  },
  {
   "cell_type": "code",
   "execution_count": 25,
   "metadata": {},
   "outputs": [
    {
     "name": "stdout",
     "output_type": "stream",
     "text": [
      "    pid  grp variable  value\n",
      "0     1    1     var1      4\n",
      "1     2    1     var1      5\n",
      "2     3    2     var1      6\n",
      "3     4    2     var1      7\n",
      "4     1    1     var2      8\n",
      "5     2    1     var2      9\n",
      "6     3    2     var2     10\n",
      "7     4    2     var2     11\n",
      "8     1    1     var3     12\n",
      "9     2    1     var3     13\n",
      "10    3    2     var3     14\n",
      "11    4    2     var3     15\n",
      "variable  var1  var2  var3\n",
      "pid grp                   \n",
      "1   1        4     8    12\n",
      "2   1        5     9    13\n",
      "3   2        6    10    14\n",
      "4   2        7    11    15\n"
     ]
    }
   ],
   "source": [
    "df_long = pd.melt(df_with_group,id_vars=['pid','grp'])\n",
    "print(df_long)\n",
    "\n",
    "df_wide = df_long.pivot(index=['pid','grp'], columns='variable', values='value')\n",
    "print(df_wide)"
   ]
  },
  {
   "cell_type": "markdown",
   "metadata": {},
   "source": [
    "## 3. Subsetting Data\n",
    "\n",
    "### Filter (i.e. subset rows)\n",
    "\n",
    "<img src=\"img/filter.png\" width=\"600\">"
   ]
  },
  {
   "cell_type": "code",
   "execution_count": 27,
   "metadata": {},
   "outputs": [
    {
     "name": "stdout",
     "output_type": "stream",
     "text": [
      "variable  var1  var2  var3\n",
      "pid grp                   \n",
      "1   1        4     8    12\n",
      "2   1        5     9    13\n",
      "3   2        6    10    14\n",
      "4   2        7    11    15\n",
      "variable  var1  var2  var3\n",
      "pid grp                   \n",
      "3   2        6    10    14\n",
      "4   2        7    11    15\n",
      "variable  var1  var2  var3\n",
      "pid grp                   \n",
      "3   2        6    10    14\n"
     ]
    }
   ],
   "source": [
    "print(df_wide)\n",
    "\n",
    "print(df_wide[df_wide.var2>=10])\n",
    "\n",
    "print(df_wide[(df_wide.var2>=10) & (df_wide.var3<15)])"
   ]
  },
  {
   "cell_type": "markdown",
   "metadata": {},
   "source": [
    "### Select (i.e. subset columns)\n",
    "\n",
    "<img src=\"img/select.png\" width=\"600\">"
   ]
  },
  {
   "cell_type": "code",
   "execution_count": 36,
   "metadata": {},
   "outputs": [
    {
     "name": "stdout",
     "output_type": "stream",
     "text": [
      "    pid  grp variable  value\n",
      "0     1    1     var1      4\n",
      "1     2    1     var1      5\n",
      "2     3    2     var1      6\n",
      "3     4    2     var1      7\n",
      "4     1    1     var2      8\n",
      "5     2    1     var2      9\n",
      "6     3    2     var2     10\n",
      "7     4    2     var2     11\n",
      "8     1    1     var3     12\n",
      "9     2    1     var3     13\n",
      "10    3    2     var3     14\n",
      "11    4    2     var3     15\n",
      "    pid  value\n",
      "0     1      4\n",
      "1     2      5\n",
      "2     3      6\n",
      "3     4      7\n",
      "4     1      8\n",
      "5     2      9\n",
      "6     3     10\n",
      "7     4     11\n",
      "8     1     12\n",
      "9     2     13\n",
      "10    3     14\n",
      "11    4     15\n",
      "   variable  value\n",
      "0      var1      4\n",
      "1      var1      5\n",
      "2      var1      6\n",
      "3      var1      7\n",
      "4      var2      8\n",
      "5      var2      9\n",
      "6      var2     10\n",
      "7      var2     11\n",
      "8      var3     12\n",
      "9      var3     13\n",
      "10     var3     14\n",
      "11     var3     15\n",
      "   variable  value\n",
      "0      var1      4\n",
      "1      var1      5\n",
      "2      var1      6\n",
      "3      var1      7\n",
      "4      var2      8\n",
      "5      var2      9\n",
      "6      var2     10\n",
      "7      var2     11\n",
      "8      var3     12\n",
      "9      var3     13\n",
      "10     var3     14\n",
      "11     var3     15\n"
     ]
    }
   ],
   "source": [
    "print(df_long)\n",
    "\n",
    "print(df_long[['pid','value']])\n",
    "\n",
    "print(df_long.loc[:,'variable':'value'])\n",
    "\n",
    "print(df_long.iloc[:,[2,3]])"
   ]
  },
  {
   "cell_type": "markdown",
   "metadata": {},
   "source": [
    "## 4. Making New Columns"
   ]
  },
  {
   "cell_type": "code",
   "execution_count": 37,
   "metadata": {},
   "outputs": [
    {
     "name": "stdout",
     "output_type": "stream",
     "text": [
      "variable  var1  var2  var3  diff\n",
      "pid grp                         \n",
      "1   1        4     8    12     8\n",
      "2   1        5     9    13     8\n",
      "3   2        6    10    14     8\n",
      "4   2        7    11    15     8\n"
     ]
    }
   ],
   "source": [
    "df_wide['diff'] = df_wide['var3'] - df_wide['var1']\n",
    "print(df_wide)"
   ]
  },
  {
   "cell_type": "markdown",
   "metadata": {},
   "source": [
    "## 5. Combining Data Sets\n",
    "\n",
    "<img src=\"img/combining_data.png\" width=\"600\">"
   ]
  },
  {
   "cell_type": "code",
   "execution_count": 43,
   "metadata": {},
   "outputs": [
    {
     "name": "stdout",
     "output_type": "stream",
     "text": [
      "  pid  var1\n",
      "0  P1    71\n",
      "1  P2    69\n",
      "2  P3    57\n",
      "  pid  var2\n",
      "0  P1    56\n",
      "1  P2    51\n",
      "2  P4    65\n",
      "  pid  var1  var2\n",
      "0  P1    71  56.0\n",
      "1  P2    69  51.0\n",
      "2  P3    57   NaN\n",
      "  pid  var1  var2\n",
      "0  P1  71.0    56\n",
      "1  P2  69.0    51\n",
      "2  P4   NaN    65\n",
      "  pid  var1  var2\n",
      "0  P1    71    56\n",
      "1  P2    69    51\n",
      "  pid  var1  var2\n",
      "0  P1  71.0  56.0\n",
      "1  P2  69.0  51.0\n",
      "2  P3  57.0   NaN\n",
      "3  P4   NaN  65.0\n"
     ]
    }
   ],
   "source": [
    "import numpy as np\n",
    "\n",
    "df1 = pd.DataFrame({'pid' : ['P1','P2','P3'],\n",
    "                    'var1' : [np.random.randint(25,75), np.random.randint(25,75), np.random.randint(25,75)]})\n",
    "print(df1)\n",
    "\n",
    "df2 = pd.DataFrame({'pid' : ['P1','P2','P4'],\n",
    "                    'var2' : [np.random.randint(25,75), np.random.randint(25,75), np.random.randint(25,75)]})\n",
    "print(df2)\n",
    "\n",
    "### Standard approach #1 -- join matching rows from df2 to df1\n",
    "print(pd.merge(df1,df2,how='left',on='pid'))\n",
    "\n",
    "### Standard approach #2 -- join matching rows from df1 to df2\n",
    "print(pd.merge(df1,df2,how='right',on='pid'))\n",
    "\n",
    "### Standard approach #3 -- retain rows present in BOTH dfs\n",
    "print(pd.merge(df1,df2,how='inner',on='pid'))\n",
    "\n",
    "### Standard approach #4 -- retain rows present in ANY dfs\n",
    "print(pd.merge(df1,df2,how='outer',on='pid'))"
   ]
  },
  {
   "cell_type": "code",
   "execution_count": null,
   "metadata": {},
   "outputs": [],
   "source": []
  }
 ],
 "metadata": {
  "kernelspec": {
   "display_name": "Python 3",
   "language": "python",
   "name": "python3"
  },
  "language_info": {
   "codemirror_mode": {
    "name": "ipython",
    "version": 3
   },
   "file_extension": ".py",
   "mimetype": "text/x-python",
   "name": "python",
   "nbconvert_exporter": "python",
   "pygments_lexer": "ipython3",
   "version": "3.8.8"
  }
 },
 "nbformat": 4,
 "nbformat_minor": 4
}
