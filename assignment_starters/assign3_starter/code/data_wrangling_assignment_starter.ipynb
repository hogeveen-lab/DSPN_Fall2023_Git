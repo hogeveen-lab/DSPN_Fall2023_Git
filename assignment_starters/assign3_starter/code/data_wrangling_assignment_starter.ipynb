{
 "cells": [
  {
   "cell_type": "markdown",
   "metadata": {},
   "source": [
    "# Preamble. Task design\n",
    "\n",
    "## Working Memory Paradigm -- Human Connectome Project\n",
    "\n",
    "* Full details here: https://protocols.humanconnectome.org/HCP/3T/task-fMRI-protocol-details.html\n",
    "\n",
    "### Conditions\n",
    "| CDN # | CDN | BlockType | StimType |\n",
    "| --- | --- | --- | --- |\n",
    "| 1 | 0-back face | 0-Back | face |\n",
    "| 2 | 0-back place | 0-Back | place |\n",
    "| 3 | 0-back tools | 0-Back | tools |\n",
    "| 4 | 0-back body | 0-Back | body |\n",
    "| 5 | 2-back face | 2-Back | face |\n",
    "| 6 | 2-back place | 2-Back | place |\n",
    "| 7 | 2-back tools | 2-Back | tools |\n",
    "| 8 | 2-back body | 2-Back | body |\n",
    "\n",
    "### Contrasts the HCP team were focused on:\n",
    "\n",
    "* Working Memory Contrasts\n",
    "    * 0-back contrast (activity combined across conditions 1-4)\n",
    "    * 2-back contrast (activity combined across conditions 5-8)\n",
    "    * 2-back versus 0-back contrast (2-back contrast minus 0-back contrast)\n",
    "* Category Contrasts\n",
    "    * Faces contrast (0-back faces plus 2-back faces)\n",
    "    * Places contrast (0-back places plus 2-back places)\n",
    "    * Tools contrast (0-back tools plus 2-back tools)\n",
    "    * Body contrast (0-back body plus 2-back body)\n",
    "\n",
    "### Assignment #3\n",
    "1. Read in these data\n",
    "2. How many total trials were there?\n",
    "3. What is the average RT for CORRECT RESPONSES for each of the eight conditions (averaged across subjects)?\n",
    "4. BONUS: What is the accuracy (% or prop.) for each of the eight conditions (averaged across subjects)?\n",
    "5. BONUS2: The minimum I was able to code this was __14__ lines long (not including whitespace or comments). \n",
    "    * Code it in fewer lines and I'll give you a high five!"
   ]
  },
  {
   "cell_type": "markdown",
   "metadata": {},
   "source": [
    "# Package import"
   ]
  },
  {
   "cell_type": "code",
   "execution_count": 16,
   "metadata": {},
   "outputs": [],
   "source": [
    "# what packages do you DEFINITELY need?"
   ]
  },
  {
   "cell_type": "markdown",
   "metadata": {},
   "source": [
    "# Setting up the filepaths and filenames we want to read in"
   ]
  },
  {
   "cell_type": "code",
   "execution_count": 18,
   "metadata": {},
   "outputs": [],
   "source": [
    "# what string pattern do you need to match the path to all subject files? GLOB it!"
   ]
  },
  {
   "cell_type": "markdown",
   "metadata": {},
   "source": [
    "# Question 1. Reading in the data and filter to just trials."
   ]
  },
  {
   "cell_type": "code",
   "execution_count": null,
   "metadata": {},
   "outputs": [],
   "source": [
    "dfs = []\n",
    "for f in globbed_list_of_files:\n",
    "    # open up the data in Excel or load in a test dataset in pandas...\n",
    "    # what lines do you need to read in the data and filter down to just the trial rows we need?\n",
    "    dfs.append(cursubject_df)\n",
    "allsubs_df = pd.concat(dfs,axis=0)"
   ]
  },
  {
   "cell_type": "markdown",
   "metadata": {},
   "source": [
    "# Question 2: Determine the number of trials per subject."
   ]
  },
  {
   "cell_type": "code",
   "execution_count": null,
   "metadata": {},
   "outputs": [],
   "source": [
    "# hint: how big is allsubs? how many participants do we have?"
   ]
  },
  {
   "cell_type": "markdown",
   "metadata": {},
   "source": [
    "# Question 3: Computing mean RT by condition."
   ]
  },
  {
   "cell_type": "code",
   "execution_count": 19,
   "metadata": {},
   "outputs": [],
   "source": [
    "# hint: There are 2 column names that determine the \"Conditions\" (namely: cognitive load (0,2) and stimulus (face,place,tools,body))\n",
    "# Pandas \".groupby\" function can group by 2 (or more) variables to get summary stats\n",
    "# e.g. https://stackoverflow.com/questions/17679089/pandas-dataframe-groupby-two-columns-and-get-counts"
   ]
  },
  {
   "cell_type": "markdown",
   "metadata": {},
   "source": [
    "# Question 4: What is the mean prop. accuracy of the 8 conditions across subjects?"
   ]
  },
  {
   "cell_type": "code",
   "execution_count": 2,
   "metadata": {},
   "outputs": [],
   "source": [
    "# hint: num of correct responses divided by the total # of responses by condition"
   ]
  }
 ],
 "metadata": {
  "kernelspec": {
   "display_name": "Python 3",
   "language": "python",
   "name": "python3"
  },
  "language_info": {
   "codemirror_mode": {
    "name": "ipython",
    "version": 3
   },
   "file_extension": ".py",
   "mimetype": "text/x-python",
   "name": "python",
   "nbconvert_exporter": "python",
   "pygments_lexer": "ipython3",
   "version": "3.8.8"
  }
 },
 "nbformat": 4,
 "nbformat_minor": 4
}
