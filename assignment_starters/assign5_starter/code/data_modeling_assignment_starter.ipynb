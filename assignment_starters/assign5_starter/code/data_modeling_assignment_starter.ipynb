{
 "cells": [
  {
   "cell_type": "markdown",
   "metadata": {},
   "source": [
    "# Preamble. Genomics Superstruct Project (GSP) Mental Rotation Task\n",
    "\n",
    "* GSP is--akin to HCP--a publicly released consortium dataset\n",
    "    * Full details published in Holmes et al. (2015), <a href=\"https://www.nature.com/articles/sdata201531\">_Scientific Data_</a>\n",
    "    \n",
    "### Mental rotation task\n",
    "\n",
    "Shephard & Metzler. (1971), <a href=\"https://www.jstor.org/stable/pdf/1731476.pdf\">_Science_</a>\n",
    "\n",
    "<img src='../img/mental_rotation.gif' width='250'>\n",
    "\n",
    "### Task details\n",
    "* 2-alternative forced choice (Same or Different)\n",
    "* Stimulus Types: Same image or mirror image\n",
    "* Rotation Conditions: 0, 80, 120, or 160 degree rotation\n",
    "* Main dependent measure: Accuracy (\"MenRot_TOT_Accuracy\")\n",
    "\n",
    "### Your assignment\n",
    "* Use the techniques you learned in class to answer the following 2 hypotheses:\n",
    "    1. Does mental rotation accuracy vary as a function of total cortical surface area (TotCortSurfArea)?\n",
    "        * If so, which direction?\n",
    "    2. Does accuracy vary by \"Group\"? \n",
    "        * If so, which group has higher scores?\n",
    "\n",
    "__BONUS__:\n",
    "\n",
    "- Bonus 1. Does the association between mental rotation accuracy and total cortical surface area vary as a function of Group?\n",
    "- Bonus 2. Do your models meet the assumptions of the GLM?\n",
    "- Bonus 3. Are there any influential observations or outliers for either model?"
   ]
  },
  {
   "cell_type": "code",
   "execution_count": 15,
   "metadata": {},
   "outputs": [
    {
     "name": "stderr",
     "output_type": "stream",
     "text": [
      "\n",
      "\u001b[36m──\u001b[39m \u001b[1mColumn specification\u001b[22m \u001b[36m────────────────────────────────────────────────────────\u001b[39m\n",
      "cols(\n",
      "  .default = col_double(),\n",
      "  Subject_ID = \u001b[31mcol_character()\u001b[39m,\n",
      "  Subject_Rescan_ID = \u001b[31mcol_character()\u001b[39m,\n",
      "  Behavior = \u001b[31mcol_character()\u001b[39m,\n",
      "  Hand = \u001b[31mcol_character()\u001b[39m,\n",
      "  Race_Ethn = \u001b[31mcol_character()\u001b[39m,\n",
      "  Scanner_Bin = \u001b[31mcol_character()\u001b[39m,\n",
      "  Console = \u001b[31mcol_character()\u001b[39m,\n",
      "  Coil = \u001b[31mcol_character()\u001b[39m\n",
      ")\n",
      "\u001b[36mℹ\u001b[39m Use `spec()` for the full column specifications.\n",
      "\n"
     ]
    }
   ],
   "source": [
    "library(tidyverse)\n",
    "\n",
    "# load in the dataset\n",
    "df <- read_csv('../data/GSP_list_140630.csv') %>% \n",
    "    filter(MenRot_TOT_Accuracy!=\"NA\") %>%\n",
    "    mutate(TotCortSurfArea = (L_TotCortSurfArea+R_TotCortSurfArea)/2)"
   ]
  },
  {
   "cell_type": "code",
   "execution_count": null,
   "metadata": {},
   "outputs": [],
   "source": []
  }
 ],
 "metadata": {
  "kernelspec": {
   "display_name": "R",
   "language": "R",
   "name": "ir"
  },
  "language_info": {
   "codemirror_mode": "r",
   "file_extension": ".r",
   "mimetype": "text/x-r-source",
   "name": "R",
   "pygments_lexer": "r",
   "version": "4.3.1"
  }
 },
 "nbformat": 4,
 "nbformat_minor": 4
}
