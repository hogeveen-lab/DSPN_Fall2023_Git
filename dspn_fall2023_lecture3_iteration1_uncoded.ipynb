{
 "cells": [
  {
   "cell_type": "markdown",
   "id": "fd584725-b018-44fe-9313-8755d2d0a6be",
   "metadata": {},
   "source": [
    "# Data Science in Psychology & Neuroscience (DSPN): \n",
    "\n",
    "## Lecture 3. Iteration\n",
    "\n",
    "### Date: August 29, 2023\n",
    "\n",
    "### To-Dos From Last Class:\n",
    "\n",
    "* N/A\n",
    "\n",
    "### Today:\n",
    "\n",
    "* What is iteration?\n",
    "* Introduction to WHILE and FOR loops\n",
    "\n",
    "### Homework:\n",
    "\n",
    "* Download Assignment #1 starter kit from <a href=\"https://github.com/hogeveen-lab/DSPN_Fall2023_Git\">github</a>"
   ]
  },
  {
   "cell_type": "markdown",
   "id": "5bf932ba-c8bc-421e-afd0-ecc942f2825a",
   "metadata": {},
   "source": [
    "# Iteration\n",
    "\n",
    "## What is it?\n",
    "\n",
    "* Repetition of a behavior\n",
    "\n",
    "<img src='img/iteration.jpg' width=500>\n",
    "\n",
    "##  When is this useful?\n",
    "\n",
    "* Simple tasks that require repetition\n",
    "    * Examples in psychology & neuroscience?\n",
    "        * Repeat across subjects\n",
    "        * Repeat across sites / datasets\n",
    "        * Repeat across different sessions (longitudinal studies)\n",
    "        * Repeat across trials (e.g. if coding a behavioral task)\n",
    "        * Repeat across different brain regions (fMRI)\n",
    "        * Repeat across different electrodes (EEG)\n",
    "        * Repeat across epochs within a dataset"
   ]
  },
  {
   "cell_type": "markdown",
   "id": "c91c6ac2-ed2b-41a7-acc5-cafa2f6d250e",
   "metadata": {},
   "source": [
    "# Simple demonstration: Count from 0 to 100 in increments of 10\n",
    "\n",
    "## Version 1, Using an Excel spreadsheet"
   ]
  },
  {
   "cell_type": "code",
   "execution_count": null,
   "id": "a7b80972-c8e3-4824-97a7-86b32d380593",
   "metadata": {},
   "outputs": [],
   "source": [
    "## GO TO EXCEL ##"
   ]
  },
  {
   "cell_type": "markdown",
   "id": "2eadb26d-fd88-43b3-837b-1aaa426e756d",
   "metadata": {},
   "source": [
    "### Version 2, using a WHILE loop"
   ]
  },
  {
   "cell_type": "code",
   "execution_count": 4,
   "id": "ed0215ec-864f-4495-b2ac-c40c32ab365a",
   "metadata": {},
   "outputs": [
    {
     "name": "stdout",
     "output_type": "stream",
     "text": [
      "0\n",
      "10\n",
      "20\n",
      "30\n",
      "40\n",
      "50\n",
      "60\n",
      "70\n",
      "80\n",
      "90\n",
      "100\n"
     ]
    }
   ],
   "source": [
    "# preamble section\n",
    "value = 0\n",
    "end = 100\n",
    "increment = 10\n",
    "\n",
    "# iteration with a while loop\n",
    "while value <= end:\n",
    "    print(value)\n",
    "    value += increment"
   ]
  },
  {
   "cell_type": "markdown",
   "id": "e10fdb12-676f-4488-95b8-8af151b4b442",
   "metadata": {},
   "source": [
    "## Version 3, using a FOR loop"
   ]
  },
  {
   "cell_type": "code",
   "execution_count": 6,
   "id": "ddace6c6-ca59-4270-89a0-1a9d8a40c0ec",
   "metadata": {},
   "outputs": [
    {
     "name": "stdout",
     "output_type": "stream",
     "text": [
      "0\n",
      "10\n",
      "20\n",
      "30\n",
      "40\n",
      "50\n",
      "60\n",
      "70\n",
      "80\n",
      "90\n",
      "100\n"
     ]
    }
   ],
   "source": [
    "# Preamble values\n",
    "value = 0\n",
    "end = 100\n",
    "increment = 10\n",
    "\n",
    "# solution using a FOR loop\n",
    "for value in range(value,end+increment,increment):\n",
    "    print(value)\n",
    "    value += increment"
   ]
  },
  {
   "cell_type": "markdown",
   "id": "ee458e4c-44d2-428b-ab9f-936ca3e06aaf",
   "metadata": {},
   "source": [
    "## Version 4, Using List Comprehension\n",
    "\n",
    "__Basic syntax: [Output for i in list]__\n",
    "\n",
    "__Can also add in conditionals (topic for next week!): [Output for i in list if/and condition]__"
   ]
  },
  {
   "cell_type": "code",
   "execution_count": 7,
   "id": "b050931b-8ff6-464d-9c96-b6e00b6fd939",
   "metadata": {},
   "outputs": [
    {
     "name": "stdout",
     "output_type": "stream",
     "text": [
      "[0, 10, 20, 30, 40, 50, 60, 70, 80, 90, 100]\n"
     ]
    }
   ],
   "source": [
    "# Preamble values\n",
    "value = 0\n",
    "end = 100\n",
    "increment = 10\n",
    "\n",
    "# solution using list comprehension\n",
    "list_comprehension = [value for value in range(value,end+increment,increment)]\n",
    "print(list_comprehension)"
   ]
  },
  {
   "cell_type": "markdown",
   "id": "94049f45-1da7-48fc-be62-75b0ca64943f",
   "metadata": {},
   "source": [
    "# Exercise 1: Create an iteration that prints every item in a list, regardless of length. \n",
    "## Bonus: Randomize list order."
   ]
  },
  {
   "cell_type": "code",
   "execution_count": 37,
   "id": "dc0628db-fe0e-4f17-a3fe-cd4586762e86",
   "metadata": {},
   "outputs": [
    {
     "name": "stdout",
     "output_type": "stream",
     "text": [
      "0\n",
      "putamen\n",
      "1\n",
      "hippocampus\n",
      "2\n",
      "amygdala\n",
      "3\n",
      "caudate\n"
     ]
    }
   ],
   "source": [
    "# preamble\n",
    "roi_list = ['amygdala','hippocampus','caudate','putamen']\n",
    "\n",
    "# Workhorse: print each item in list. If you want to get fancy, randomize list order first.\n",
    "# easy solution — print ith list item on the fly\n",
    "# for i in roi_list:\n",
    "#     print(i)\n",
    "    \n",
    "# slightly more convoluted, but oft-useful:\n",
    "# iterating from 0 to list length and printing\n",
    "# the ith list item.\n",
    "# for i in range(0,len(roi_list)):\n",
    "#     print(roi_list[i])\n",
    "\n",
    "# randomly shuffling the list\n",
    "import random\n",
    "random.shuffle(roi_list)\n",
    "for i in range(0,len(roi_list)):\n",
    "    print(i)\n",
    "    print(roi_list[i])"
   ]
  },
  {
   "cell_type": "markdown",
   "id": "8a646f56-71e4-4814-b31c-0a724d1ec6b7",
   "metadata": {},
   "source": [
    "# Exercise 2: Write a FOR loop that prints the square of each number in a list"
   ]
  },
  {
   "cell_type": "code",
   "execution_count": 35,
   "id": "581ae559-ba9f-4cfe-8fbb-35996a2076de",
   "metadata": {},
   "outputs": [
    {
     "name": "stdout",
     "output_type": "stream",
     "text": [
      "1\n",
      "4\n",
      "9\n",
      "16\n",
      "25\n",
      "36\n"
     ]
    }
   ],
   "source": [
    "# preamble\n",
    "lst = [ 1, 2, 3, 4, 5, 6 ]\n",
    "for i in lst:\n",
    "    print(i**2)"
   ]
  },
  {
   "cell_type": "markdown",
   "id": "708d43a4-dec2-4844-9bea-3dda581a07c4",
   "metadata": {},
   "source": [
    "# Exercise 3: Write a FOR loop to add 'Dr' to each name.\n",
    "\n",
    "## Bonus: append to a new list object!"
   ]
  },
  {
   "cell_type": "code",
   "execution_count": 38,
   "id": "5c5a87a7-035a-40df-9de7-e79271b9e775",
   "metadata": {},
   "outputs": [
    {
     "name": "stdout",
     "output_type": "stream",
     "text": [
      "Dr. Phelps\n",
      "Dr. Farah\n",
      "Dr. Cai\n",
      "Dr. Tye\n",
      "Dr. Josselyn\n",
      "['Dr. Phelps', 'Dr. Farah', 'Dr. Cai', 'Dr. Tye', 'Dr. Josselyn']\n"
     ]
    }
   ],
   "source": [
    "# preamble\n",
    "lst = ['Phelps','Farah','Cai','Tye','Josselyn']\n",
    "lst_new = []\n",
    "\n",
    "# actual iteration\n",
    "for i in lst:\n",
    "    dr_name = 'Dr. '+i \n",
    "    print(dr_name) # printing i on the fly\n",
    "    lst_new.append(dr_name) # appending to a new_lst object\n",
    "    \n",
    "print(lst_new) "
   ]
  },
  {
   "cell_type": "code",
   "execution_count": null,
   "id": "df62fbc3-08d2-400e-9a43-7af7a7061d34",
   "metadata": {},
   "outputs": [],
   "source": []
  }
 ],
 "metadata": {
  "kernelspec": {
   "display_name": "Python 3",
   "language": "python",
   "name": "python3"
  },
  "language_info": {
   "codemirror_mode": {
    "name": "ipython",
    "version": 3
   },
   "file_extension": ".py",
   "mimetype": "text/x-python",
   "name": "python",
   "nbconvert_exporter": "python",
   "pygments_lexer": "ipython3",
   "version": "3.8.8"
  }
 },
 "nbformat": 4,
 "nbformat_minor": 5
}
