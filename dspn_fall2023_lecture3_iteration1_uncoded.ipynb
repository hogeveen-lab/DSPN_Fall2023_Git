{
 "cells": [
  {
   "cell_type": "markdown",
   "id": "fd584725-b018-44fe-9313-8755d2d0a6be",
   "metadata": {},
   "source": [
    "# Data Science in Psychology & Neuroscience (DSPN): \n",
    "\n",
    "## Lecture 3. Iteration\n",
    "\n",
    "### Date: August 29, 2023\n",
    "\n",
    "### To-Dos From Last Class:\n",
    "\n",
    "* N/A\n",
    "\n",
    "### Today:\n",
    "\n",
    "* What is iteration?\n",
    "* Introduction to WHILE and FOR loops\n",
    "\n",
    "### Homework:\n",
    "\n",
    "* Download Assignment #1 starter kit from <a href=\"https://github.com/hogeveen-lab/DSPN_Fall2023_Git\">github</a>"
   ]
  },
  {
   "cell_type": "markdown",
   "id": "5bf932ba-c8bc-421e-afd0-ecc942f2825a",
   "metadata": {},
   "source": [
    "# Iteration\n",
    "\n",
    "## What is it?\n",
    "\n",
    "* Repetition of a behavior\n",
    "\n",
    "<img src='img/iteration.jpg' width=500>\n",
    "\n",
    "##  When is this useful?\n",
    "\n",
    "* Simple tasks that require repetition\n",
    "    * Examples in psychology & neuroscience?\n",
    "        * Repeat across subjects\n",
    "        * Repeat across different sessions (longitudinal studies)\n",
    "        * Repeat across different brain regions (fMRI)\n",
    "        * Repeat across different electrodes (EEG)\n",
    "        * Repeat across epochs within a dataset"
   ]
  },
  {
   "cell_type": "markdown",
   "id": "c91c6ac2-ed2b-41a7-acc5-cafa2f6d250e",
   "metadata": {},
   "source": [
    "# Simple demonstration: Count from 0 to 100 in increments of 10\n",
    "\n",
    "## Version 1, Using an Excel spreadsheet"
   ]
  },
  {
   "cell_type": "code",
   "execution_count": null,
   "id": "a7b80972-c8e3-4824-97a7-86b32d380593",
   "metadata": {},
   "outputs": [],
   "source": [
    "## GO TO EXCEL ##"
   ]
  },
  {
   "cell_type": "markdown",
   "id": "2eadb26d-fd88-43b3-837b-1aaa426e756d",
   "metadata": {},
   "source": [
    "## Version 2, using a WHILE loop"
   ]
  },
  {
   "cell_type": "code",
   "execution_count": null,
   "id": "ed0215ec-864f-4495-b2ac-c40c32ab365a",
   "metadata": {},
   "outputs": [],
   "source": []
  },
  {
   "cell_type": "markdown",
   "id": "e10fdb12-676f-4488-95b8-8af151b4b442",
   "metadata": {},
   "source": [
    "## Version 3, using a FOR loop"
   ]
  },
  {
   "cell_type": "code",
   "execution_count": null,
   "id": "ddace6c6-ca59-4270-89a0-1a9d8a40c0ec",
   "metadata": {},
   "outputs": [],
   "source": []
  },
  {
   "cell_type": "markdown",
   "id": "ee458e4c-44d2-428b-ab9f-936ca3e06aaf",
   "metadata": {},
   "source": [
    "## Version 4, Using List Comprehension\n",
    "\n",
    "__Basic syntax: [Output for i in list]__\n",
    "\n",
    "__Can also add in conditionals (topic for next week!): [Output for i in list if/and condition]__"
   ]
  },
  {
   "cell_type": "code",
   "execution_count": null,
   "id": "b050931b-8ff6-464d-9c96-b6e00b6fd939",
   "metadata": {},
   "outputs": [],
   "source": []
  },
  {
   "cell_type": "markdown",
   "id": "94049f45-1da7-48fc-be62-75b0ca64943f",
   "metadata": {},
   "source": [
    "# Exercise 1: Create an iteration that prints every item in a list, regardless of length. \n",
    "## Bonus: Randomize list order."
   ]
  },
  {
   "cell_type": "code",
   "execution_count": null,
   "id": "dc0628db-fe0e-4f17-a3fe-cd4586762e86",
   "metadata": {},
   "outputs": [],
   "source": []
  },
  {
   "cell_type": "markdown",
   "id": "9268e326-ecba-4f3e-b69b-8e13cea05b7a",
   "metadata": {},
   "source": [
    "# Exercise 2: Given a range of 10 numbers, iterate from start to end number, print the sum of the current number and previous number.\n",
    "## Bonus: ask for user to input for the \"how_many\" parameter"
   ]
  },
  {
   "cell_type": "code",
   "execution_count": null,
   "id": "287f6874-84b3-4eec-a652-791a0789baf6",
   "metadata": {},
   "outputs": [],
   "source": []
  },
  {
   "cell_type": "code",
   "execution_count": null,
   "id": "c4f6dab5-81c4-4cc9-929d-863016f41de7",
   "metadata": {},
   "outputs": [],
   "source": []
  }
 ],
 "metadata": {
  "kernelspec": {
   "display_name": "Python 3",
   "language": "python",
   "name": "python3"
  },
  "language_info": {
   "codemirror_mode": {
    "name": "ipython",
    "version": 3
   },
   "file_extension": ".py",
   "mimetype": "text/x-python",
   "name": "python",
   "nbconvert_exporter": "python",
   "pygments_lexer": "ipython3",
   "version": "3.8.8"
  }
 },
 "nbformat": 4,
 "nbformat_minor": 5
}
