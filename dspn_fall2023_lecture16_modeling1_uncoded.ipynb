{
 "cells": [
  {
   "cell_type": "markdown",
   "id": "dec4b855-9dd6-4ce4-b2bd-ffcf6157ae13",
   "metadata": {},
   "source": [
    "# Data Science in Psychology & Neuroscience (DSPN): \n",
    "\n",
    "## Lecture 17 Data Modeling (part 1)\n",
    "\n",
    "### Date: October 26, 2023\n",
    "\n",
    "### To-Dos From Last Class:\n",
    "\n",
    "* Download Assignment 4 starter kit and get visualizing!\n",
    "    \n",
    "### Today:\n",
    "\n",
    "* So you want to model some data...\n",
    "* Examples\n",
    "\n",
    "### Homework\n",
    "\n",
    "* Assignment 4: <a href=\"https://www.dropbox.com/request/wbFD7Yj0MNUdqUjmblYf\">Data Visualization</a> (before 11/3, 23:00 MDT)"
   ]
  },
  {
   "cell_type": "code",
   "execution_count": 1,
   "id": "0af178f1-cc37-41bf-b25a-4b93f5179c9d",
   "metadata": {},
   "outputs": [],
   "source": [
    "# plot theme stuff\n",
    "# Many palettes available online, can customize\n",
    "# these are from: https://colorbrewer2.org/#type=qualitative&scheme=Set1&n=9\n",
    "my_palette <- c(\"#e41a1c\",\"#377eb8\",\"#4daf4a\",\"#984ea3\",\"#ff7f00\")\n",
    "\n",
    "# This is the basic function I use for all the ggplots I create. \n",
    "# Modified from this black themed ggplot function: https://gist.github.com/jslefche/eff85ef06b4705e6efbc\n",
    "my_theme = function(base_size = 24, base_family = \"\") {\n",
    "  \n",
    "  theme_grey(base_size = base_size, base_family = base_family) %+replace%\n",
    "    \n",
    "    theme(\n",
    "      # Specify axis options\n",
    "      axis.line = element_blank(),  \n",
    "      axis.text.x = element_text(size = base_size*0.8, color = \"black\", lineheight = 0.9),  \n",
    "      axis.text.y = element_text(size = base_size*0.8, color = \"black\", lineheight = 0.9),  \n",
    "      axis.ticks = element_line(color = \"black\", size  =  0.2),\n",
    "      axis.title.x = element_text(size = base_size, color = \"black\", margin = margin(10, 0, 0, 0)),\n",
    "      axis.title.y = element_text(size = base_size, color = \"black\", angle = 90, margin = margin(0, 10, 0, 0)),  \n",
    "      axis.ticks.length = unit(0.3, \"lines\"),   \n",
    "      # Specify legend options\n",
    "      legend.background = element_rect(color = NA, fill = \"#ffffff\"),  \n",
    "      legend.key = element_rect(color = \"black\",  fill = \"#ffffff\"),  \n",
    "      legend.key.size = unit(2, \"lines\"),  \n",
    "      legend.key.height = NULL,  \n",
    "      legend.key.width = NULL,      \n",
    "      legend.text = element_text(size = base_size*0.8, color = \"black\"),  \n",
    "      legend.title = element_text(size = base_size*0.8, face = \"bold\", hjust = 0, color = \"black\"),\n",
    "      legend.position = \"right\",  \n",
    "      legend.text.align = NULL,  \n",
    "      legend.title.align = NULL,  \n",
    "      legend.direction = \"vertical\",  \n",
    "      legend.box = NULL, \n",
    "      # Specify panel options\n",
    "      panel.background = element_rect(fill = \"#ffffff\", color  =  NA),  \n",
    "      panel.border = element_rect(fill = NA, color = \"black\"),  \n",
    "      panel.grid.major = element_line(color = \"#ffffff\"),  \n",
    "      panel.grid.minor = element_line(color = \"#ffffff\"),  \n",
    "      panel.spacing = unit(2, \"lines\"),\n",
    "      # Specify facetting options\n",
    "      strip.background = element_rect(fill = \"grey30\", color = \"grey10\"),  \n",
    "      strip.text.x = element_text(size = base_size*0.8, color = \"black\"),  \n",
    "      strip.text.y = element_text(size = base_size*0.8, color = \"black\",angle = -90),  \n",
    "      # Specify plot options\n",
    "      plot.background = element_rect(color = \"#ffffff\", fill = \"#ffffff\"),  \n",
    "      plot.title = element_text(size = base_size*1.2, color = \"black\"),  \n",
    "      plot.margin = unit(rep(1, 4), \"lines\")\n",
    "    ) \n",
    "}"
   ]
  },
  {
   "cell_type": "markdown",
   "id": "86ad4a6d-2431-4cef-b300-200a53c71b9b",
   "metadata": {},
   "source": [
    "## Section 1: So you want to model some data?\n",
    "\n",
    "<img src=\"img/what-does-that-mean-david.gif\" width=300>\n",
    "\n",
    "### What did you find?\n",
    "* Let's say you have...\n",
    "1. Acquired some data\n",
    "2. Wrangled the data\n",
    "3. Computed descriptive statistics (central tendencies, variance, etc.)\n",
    "4. Generated some visualizations\n",
    "* Remaining questions: What did you find?\n",
    "\n",
    "__Inferential (or predictive) modeling is used to generate an interim answer about your pre-defined research questions / hypotheses__"
   ]
  },
  {
   "cell_type": "markdown",
   "id": "ec36d107-8986-4d74-81fa-51a0e2f7294b",
   "metadata": {},
   "source": [
    "## Which model is appropriate?\n",
    "\n",
    "<img src=\"img/decision_tree.png\" width=500>\n",
    "\n",
    "__Key questions:__\n",
    "1. Are the main outcome measures you're interested in continuous or categorical?\n",
    "2. If continuous, is your research question about associations or differences?\n",
    "3. If continuous + associations...\n",
    "    - Independent and dependent variable?\n",
    "4. If continuous + differences...\n",
    "    - Differences between what?"
   ]
  },
  {
   "cell_type": "markdown",
   "id": "9a568082-89ed-4233-b93c-49d387ab90dd",
   "metadata": {},
   "source": [
    "# Exercise #1:\n",
    "## Gebotys and Roberts (1989) were interested in examining the effects of several variables on the “seriousness rating of the crime”. The variables to be examined within this example are “age” (in years), the “amount of television news watched in hours per week” (i.e., ‘tvnews’), and whether or not the respondents had experience being a victim of crime in the past (i.e., 'experience')."
   ]
  },
  {
   "cell_type": "code",
   "execution_count": 2,
   "id": "7c5caa5a-00c0-4d65-9e85-da537440bd5e",
   "metadata": {},
   "outputs": [
    {
     "name": "stderr",
     "output_type": "stream",
     "text": [
      "── \u001b[1mAttaching core tidyverse packages\u001b[22m ──────────────────────── tidyverse 2.0.0 ──\n",
      "\u001b[32m✔\u001b[39m \u001b[34mdplyr    \u001b[39m 1.1.2     \u001b[32m✔\u001b[39m \u001b[34mreadr    \u001b[39m 2.1.4\n",
      "\u001b[32m✔\u001b[39m \u001b[34mforcats  \u001b[39m 1.0.0     \u001b[32m✔\u001b[39m \u001b[34mstringr  \u001b[39m 1.5.0\n",
      "\u001b[32m✔\u001b[39m \u001b[34mggplot2  \u001b[39m 3.4.2     \u001b[32m✔\u001b[39m \u001b[34mtibble   \u001b[39m 3.2.1\n",
      "\u001b[32m✔\u001b[39m \u001b[34mlubridate\u001b[39m 1.9.2     \u001b[32m✔\u001b[39m \u001b[34mtidyr    \u001b[39m 1.3.0\n",
      "\u001b[32m✔\u001b[39m \u001b[34mpurrr    \u001b[39m 1.0.1     \n",
      "── \u001b[1mConflicts\u001b[22m ────────────────────────────────────────── tidyverse_conflicts() ──\n",
      "\u001b[31m✖\u001b[39m \u001b[34mdplyr\u001b[39m::\u001b[32mfilter()\u001b[39m masks \u001b[34mstats\u001b[39m::filter()\n",
      "\u001b[31m✖\u001b[39m \u001b[34mdplyr\u001b[39m::\u001b[32mlag()\u001b[39m    masks \u001b[34mstats\u001b[39m::lag()\n",
      "\u001b[36mℹ\u001b[39m Use the conflicted package (\u001b[3m\u001b[34m<http://conflicted.r-lib.org/>\u001b[39m\u001b[23m) to force all conflicts to become errors\n"
     ]
    }
   ],
   "source": [
    "library(tidyverse)"
   ]
  },
  {
   "cell_type": "code",
   "execution_count": 3,
   "id": "604aec4f-424a-4a10-90dc-a42d599966f4",
   "metadata": {},
   "outputs": [
    {
     "data": {
      "text/html": [
       "<table class=\"dataframe\">\n",
       "<caption>A tibble: 11 × 5</caption>\n",
       "<thead>\n",
       "\t<tr><th scope=col>pid</th><th scope=col>age</th><th scope=col>tv_news</th><th scope=col>experience</th><th scope=col>crime_seriousness</th></tr>\n",
       "\t<tr><th scope=col>&lt;dbl&gt;</th><th scope=col>&lt;dbl&gt;</th><th scope=col>&lt;dbl&gt;</th><th scope=col>&lt;fct&gt;</th><th scope=col>&lt;dbl&gt;</th></tr>\n",
       "</thead>\n",
       "<tbody>\n",
       "\t<tr><td> 1</td><td>10</td><td>4.0</td><td>0</td><td>21</td></tr>\n",
       "\t<tr><td> 2</td><td>25</td><td>5.0</td><td>0</td><td>28</td></tr>\n",
       "\t<tr><td> 3</td><td>26</td><td>5.0</td><td>0</td><td>27</td></tr>\n",
       "\t<tr><td> 4</td><td>25</td><td>4.5</td><td>0</td><td>26</td></tr>\n",
       "\t<tr><td> 5</td><td>30</td><td>6.0</td><td>0</td><td>33</td></tr>\n",
       "\t<tr><td> 6</td><td>34</td><td>7.0</td><td>1</td><td>36</td></tr>\n",
       "\t<tr><td> 7</td><td>40</td><td>5.5</td><td>0</td><td>31</td></tr>\n",
       "\t<tr><td> 8</td><td>40</td><td>6.0</td><td>1</td><td>35</td></tr>\n",
       "\t<tr><td> 9</td><td>40</td><td>7.0</td><td>1</td><td>41</td></tr>\n",
       "\t<tr><td>10</td><td>25</td><td>8.5</td><td>1</td><td>80</td></tr>\n",
       "\t<tr><td>11</td><td>80</td><td>9.0</td><td>1</td><td>95</td></tr>\n",
       "</tbody>\n",
       "</table>\n"
      ],
      "text/latex": [
       "A tibble: 11 × 5\n",
       "\\begin{tabular}{lllll}\n",
       " pid & age & tv\\_news & experience & crime\\_seriousness\\\\\n",
       " <dbl> & <dbl> & <dbl> & <fct> & <dbl>\\\\\n",
       "\\hline\n",
       "\t  1 & 10 & 4.0 & 0 & 21\\\\\n",
       "\t  2 & 25 & 5.0 & 0 & 28\\\\\n",
       "\t  3 & 26 & 5.0 & 0 & 27\\\\\n",
       "\t  4 & 25 & 4.5 & 0 & 26\\\\\n",
       "\t  5 & 30 & 6.0 & 0 & 33\\\\\n",
       "\t  6 & 34 & 7.0 & 1 & 36\\\\\n",
       "\t  7 & 40 & 5.5 & 0 & 31\\\\\n",
       "\t  8 & 40 & 6.0 & 1 & 35\\\\\n",
       "\t  9 & 40 & 7.0 & 1 & 41\\\\\n",
       "\t 10 & 25 & 8.5 & 1 & 80\\\\\n",
       "\t 11 & 80 & 9.0 & 1 & 95\\\\\n",
       "\\end{tabular}\n"
      ],
      "text/markdown": [
       "\n",
       "A tibble: 11 × 5\n",
       "\n",
       "| pid &lt;dbl&gt; | age &lt;dbl&gt; | tv_news &lt;dbl&gt; | experience &lt;fct&gt; | crime_seriousness &lt;dbl&gt; |\n",
       "|---|---|---|---|---|\n",
       "|  1 | 10 | 4.0 | 0 | 21 |\n",
       "|  2 | 25 | 5.0 | 0 | 28 |\n",
       "|  3 | 26 | 5.0 | 0 | 27 |\n",
       "|  4 | 25 | 4.5 | 0 | 26 |\n",
       "|  5 | 30 | 6.0 | 0 | 33 |\n",
       "|  6 | 34 | 7.0 | 1 | 36 |\n",
       "|  7 | 40 | 5.5 | 0 | 31 |\n",
       "|  8 | 40 | 6.0 | 1 | 35 |\n",
       "|  9 | 40 | 7.0 | 1 | 41 |\n",
       "| 10 | 25 | 8.5 | 1 | 80 |\n",
       "| 11 | 80 | 9.0 | 1 | 95 |\n",
       "\n"
      ],
      "text/plain": [
       "   pid age tv_news experience crime_seriousness\n",
       "1   1  10  4.0     0          21               \n",
       "2   2  25  5.0     0          28               \n",
       "3   3  26  5.0     0          27               \n",
       "4   4  25  4.5     0          26               \n",
       "5   5  30  6.0     0          33               \n",
       "6   6  34  7.0     1          36               \n",
       "7   7  40  5.5     0          31               \n",
       "8   8  40  6.0     1          35               \n",
       "9   9  40  7.0     1          41               \n",
       "10 10  25  8.5     1          80               \n",
       "11 11  80  9.0     1          95               "
      ]
     },
     "metadata": {},
     "output_type": "display_data"
    }
   ],
   "source": [
    "df <- tibble(pid  = c(1,2,3,4,5,6,7,8,9,10,11),\n",
    "             age = c(10,25,26,25,30,34,40,40,40,25,80),\n",
    "             tv_news = c(4.0,5.0,5.0,4.5,6.0,7.0,5.5,6.0,7.0,8.5,9.0),\n",
    "             experience = as_factor(c(0,0,0,0,0,1,0,1,1,1,1)),\n",
    "             crime_seriousness = c(21,28,27,26,33,36,31,35,41,80,95))\n",
    "df"
   ]
  },
  {
   "cell_type": "markdown",
   "id": "14b4a6c9-74ec-485b-8d8c-db38bbaf1061",
   "metadata": {},
   "source": [
    "### Exercise 1a: Is there an association between age and crime seriousness ratings?"
   ]
  },
  {
   "cell_type": "code",
   "execution_count": null,
   "id": "174465c4-e0ca-4d98-9bc2-b220aa65c1bc",
   "metadata": {},
   "outputs": [],
   "source": []
  },
  {
   "cell_type": "code",
   "execution_count": null,
   "id": "89a07337-766e-46b1-be51-722c49cdd226",
   "metadata": {},
   "outputs": [],
   "source": []
  },
  {
   "cell_type": "markdown",
   "id": "64a0a1ab-f066-43d9-8ad9-18faf4ee820c",
   "metadata": {},
   "source": [
    "__Linear relationship: the variables change together at a constant rate__"
   ]
  },
  {
   "cell_type": "code",
   "execution_count": null,
   "id": "fc10ecd7-a8d6-43a7-9948-df757f16f2fe",
   "metadata": {},
   "outputs": [],
   "source": []
  },
  {
   "cell_type": "markdown",
   "id": "1532ab32-64f2-4c09-9c48-1720cc9bbe6f",
   "metadata": {},
   "source": [
    "__Monotonic relationship: the variables change together, but not _necessarily_ at a constant rate.__"
   ]
  },
  {
   "cell_type": "code",
   "execution_count": null,
   "id": "ca9deccb-f6e3-4698-8557-51c92b0c3226",
   "metadata": {},
   "outputs": [],
   "source": []
  },
  {
   "cell_type": "code",
   "execution_count": null,
   "id": "420c0925-7e90-465c-806e-ba32bd754847",
   "metadata": {},
   "outputs": [],
   "source": []
  },
  {
   "cell_type": "markdown",
   "id": "c3bc487d-4040-4bb3-948a-8d50820ba113",
   "metadata": {},
   "source": [
    "### Exercise 1b: Does tv news viewing predict crime seriousness ratings?"
   ]
  },
  {
   "cell_type": "code",
   "execution_count": null,
   "id": "e128a5fd-398f-4b12-bbbb-1c01039a53d1",
   "metadata": {},
   "outputs": [],
   "source": []
  },
  {
   "cell_type": "markdown",
   "id": "1ba67b05-ba84-4ac3-b8c7-7c987a083ff4",
   "metadata": {},
   "source": [
    "__Linear regression: Does $y$ change at a constant rate as a function of $x$.__"
   ]
  },
  {
   "cell_type": "code",
   "execution_count": null,
   "id": "80f121b3-113f-4227-9846-8811b57fcfa3",
   "metadata": {},
   "outputs": [],
   "source": []
  },
  {
   "cell_type": "markdown",
   "id": "6b4a90a9-0c3e-4aba-9bb3-8a9ec18fb36e",
   "metadata": {},
   "source": [
    "__What does the \"estimate\" mean?__"
   ]
  },
  {
   "cell_type": "code",
   "execution_count": null,
   "id": "14914a16-a870-4410-be5e-c70ff57eabec",
   "metadata": {},
   "outputs": [],
   "source": []
  },
  {
   "cell_type": "markdown",
   "id": "0615669b-d0e8-4241-8834-62b2abd85606",
   "metadata": {},
   "source": [
    "### Exercise 1c: Does the effect of TV watching on crime seriousness ratings vary as a function of age?"
   ]
  },
  {
   "cell_type": "code",
   "execution_count": null,
   "id": "229d354f-330c-406c-8db7-3d9483c31f3c",
   "metadata": {},
   "outputs": [],
   "source": []
  },
  {
   "cell_type": "code",
   "execution_count": null,
   "id": "408b171a-f45a-4f8c-9fb5-ea4ebc91efcf",
   "metadata": {},
   "outputs": [],
   "source": []
  },
  {
   "cell_type": "code",
   "execution_count": null,
   "id": "ad499153-3a5d-4585-8ea9-91aeea17f8e2",
   "metadata": {},
   "outputs": [],
   "source": []
  }
 ],
 "metadata": {
  "kernelspec": {
   "display_name": "R",
   "language": "R",
   "name": "ir"
  },
  "language_info": {
   "codemirror_mode": "r",
   "file_extension": ".r",
   "mimetype": "text/x-r-source",
   "name": "R",
   "pygments_lexer": "r",
   "version": "4.3.1"
  }
 },
 "nbformat": 4,
 "nbformat_minor": 5
}
