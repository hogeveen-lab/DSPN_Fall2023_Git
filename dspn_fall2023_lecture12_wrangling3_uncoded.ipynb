{
 "cells": [
  {
   "cell_type": "markdown",
   "metadata": {},
   "source": [
    "# Data Science in Psychology & Neuroscience (DSPN): \n",
    "\n",
    "## Lecture 12. Data Wrangling (part 3)\n",
    "\n",
    "### Date: October 3, 2023\n",
    "\n",
    "### To-Dos From Last Class:\n",
    "\n",
    "* Download <a href=\"https://github.com/hogeveen-lab/DSPN_Fall2023_Git/tree/main/assignment_starters/assign3_starter\">Assignment #3 starter kit</a>\n",
    "\n",
    "### Today:\n",
    "\n",
    "* Wrangle some real data\n",
    "\n",
    "### Homework\n",
    "* Submit Assignment #3: <a href=\"https://www.dropbox.com/request/ggV5rAg3J9T0YxpEHLqX\">Data Wrangling</a> (before 10/10, 23:00 MDT)"
   ]
  },
  {
   "cell_type": "markdown",
   "metadata": {},
   "source": [
    "# Importing packages"
   ]
  },
  {
   "cell_type": "code",
   "execution_count": 13,
   "metadata": {},
   "outputs": [],
   "source": [
    "### Part 1 --> Importing data wrangling packages I often use\n",
    "import os\n",
    "from glob import glob # only need the glob subpackage from glob\n",
    "import numpy as np\n",
    "import pandas as pd\n",
    "pd.options.mode.chained_assignment = None\n",
    "import matplotlib.pyplot as plt"
   ]
  },
  {
   "cell_type": "markdown",
   "metadata": {},
   "source": [
    "# Setting up the filepaths"
   ]
  },
  {
   "cell_type": "code",
   "execution_count": 4,
   "metadata": {},
   "outputs": [],
   "source": [
    "### Part 2 --> setting paths to the first level data\n",
    "\n",
    "# get current working directory\n",
    "base_dir = os.getcwd()\n",
    "\n",
    "# Go above current working directory and\n",
    "first_dir = os.path.join(base_dir,'misc/imitation_inhibition_paradigm/data/first')\n",
    "P_file_pattern = 'P*.txt'\n",
    "second_dir = os.path.join(base_dir,'misc/imitation_inhibition_paradigm/data/second')\n",
    "questionnaire_file = os.path.join(second_dir,'ait_questionnaires.csv')\n",
    "\n",
    "# Using glob to find all participant data files\n",
    "all_files = glob(os.path.join(first_dir,P_file_pattern))"
   ]
  },
  {
   "cell_type": "markdown",
   "metadata": {},
   "source": [
    "# Loading in a test subject to make sense of things"
   ]
  },
  {
   "cell_type": "code",
   "execution_count": 6,
   "metadata": {},
   "outputs": [
    {
     "name": "stdout",
     "output_type": "stream",
     "text": [
      "How many rows in key release filtered data frame: 101\n",
      "How many rows in key release filtered data frame, after removing double responses?: 100\n"
     ]
    }
   ],
   "source": [
    "# load in an individual subject file\n",
    "df_test = pd.read_csv(all_files[0],error_bad_lines=False,skiprows=5,sep='\\t')\n",
    "# subset to only experimental rows\n",
    "df_test = df_test[df_test['Name.1']=='AI_Block']\n",
    "# subset to only key releases\n",
    "df_test = df_test[df_test['Released']=='Released']\n",
    "\n",
    "# How many key realeases do we actually have?\n",
    "print('How many rows in key release filtered data frame:',len(df_test))\n",
    "\n",
    "# identify double responses\n",
    "df_test['shift'] = df_test['Name.2'].shift()\n",
    "df_test['double_response'] = np.where(df_test['Name.2']==df_test['shift'],1,0)\n",
    "df_test = df_test[df_test['double_response']!=1]\n",
    "print('How many rows in key release filtered data frame, after removing double responses?:',len(df_test))"
   ]
  },
  {
   "cell_type": "markdown",
   "metadata": {},
   "source": [
    "# Iterating through to get all first level data, concatenating into a single data frame"
   ]
  },
  {
   "cell_type": "code",
   "execution_count": 8,
   "metadata": {},
   "outputs": [],
   "source": [
    "# declare an empty list of data frame\n",
    "dfs_list = []\n",
    "\n",
    "# iterate through the files\n",
    "for cur_file in all_files:\n",
    "    # load in an individual subject file\n",
    "    df_tmp = pd.read_csv(cur_file,error_bad_lines=False,skiprows=5,sep='\\t')\n",
    "    # subset to only experimental rows\n",
    "    df_tmp = df_tmp[df_tmp['Name.1']=='AI_Block']\n",
    "    # subset to only key releases\n",
    "    df_tmp = df_tmp[df_tmp['Released']=='Released']\n",
    "    # identify double responses\n",
    "    df_tmp['shift'] = df_tmp['Name.2'].shift()\n",
    "    df_tmp['double_response'] = np.where(df_tmp['Name.2']==df_tmp['shift'],1,0)\n",
    "    df_tmp = df_tmp[df_tmp['double_response']!=1]\n",
    "    # append to list of data frames\n",
    "    dfs_list.append(df_tmp)\n",
    "\n",
    "df_allsubjects = pd.concat(dfs_list,axis=0)"
   ]
  },
  {
   "cell_type": "markdown",
   "metadata": {},
   "source": [
    "# Loading in the questionnaire data and merging it with behavioral data"
   ]
  },
  {
   "cell_type": "code",
   "execution_count": 9,
   "metadata": {},
   "outputs": [],
   "source": [
    "# reading in questionnaire responses\n",
    "questionnaire_file = os.path.join(second_dir,'ait_questionnaires.csv')\n",
    "df_questionnaire = pd.read_csv(questionnaire_file)\n",
    "# display(df_questionnaire)\n",
    "\n",
    "# merge questionnaires with trial-level data\n",
    "df_allsubjects = df_allsubjects.rename(columns={\"Name\": \"pid\"})\n",
    "df_allsubjects = pd.merge(df_allsubjects,df_questionnaire,on=\"pid\",how=\"outer\")"
   ]
  },
  {
   "cell_type": "markdown",
   "metadata": {},
   "source": [
    "# Writing the observation-level data to a big csv"
   ]
  },
  {
   "cell_type": "code",
   "execution_count": 10,
   "metadata": {},
   "outputs": [],
   "source": [
    "out_filename = os.path.join(second_dir,'ait_trialwise.csv')\n",
    "df_allsubjects.to_csv(out_filename,index=False)"
   ]
  },
  {
   "cell_type": "markdown",
   "metadata": {},
   "source": [
    "## Quick tangent: Automatic Imitation Task\n",
    "\n",
    "<img src=\"img/ait_task.png\">\n",
    "\n",
    "* __MAIN OUTCOME: HOW DO THE DIFFERENT CONGRUENT VS. INCONGRUENT CONDIS SLOW YOUR RESPONSE TIME?__"
   ]
  },
  {
   "cell_type": "markdown",
   "metadata": {},
   "source": [
    "# Computing SECOND-level summary measures (mean RT by pid)"
   ]
  },
  {
   "cell_type": "code",
   "execution_count": null,
   "metadata": {},
   "outputs": [],
   "source": []
  },
  {
   "cell_type": "markdown",
   "metadata": {},
   "source": [
    "# Computing subject-level summary measures (mean RT by pid by condition)"
   ]
  },
  {
   "cell_type": "code",
   "execution_count": null,
   "metadata": {},
   "outputs": [],
   "source": []
  },
  {
   "cell_type": "code",
   "execution_count": null,
   "metadata": {},
   "outputs": [],
   "source": []
  },
  {
   "cell_type": "markdown",
   "metadata": {},
   "source": [
    "# Writing the subject-level RT data to a CSV"
   ]
  },
  {
   "cell_type": "code",
   "execution_count": null,
   "metadata": {},
   "outputs": [],
   "source": []
  },
  {
   "cell_type": "markdown",
   "metadata": {},
   "source": [
    "# Introducing Assignment #3\n",
    "\n",
    "* <a href=\"https://github.com/hogeveen-lab/DSPN_Fall2023_Git/tree/main/assignment_starters/assign3_starter\">Assignment #3</a>"
   ]
  },
  {
   "cell_type": "code",
   "execution_count": null,
   "metadata": {},
   "outputs": [],
   "source": []
  }
 ],
 "metadata": {
  "kernelspec": {
   "display_name": "Python 3",
   "language": "python",
   "name": "python3"
  },
  "language_info": {
   "codemirror_mode": {
    "name": "ipython",
    "version": 3
   },
   "file_extension": ".py",
   "mimetype": "text/x-python",
   "name": "python",
   "nbconvert_exporter": "python",
   "pygments_lexer": "ipython3",
   "version": "3.8.8"
  }
 },
 "nbformat": 4,
 "nbformat_minor": 4
}
