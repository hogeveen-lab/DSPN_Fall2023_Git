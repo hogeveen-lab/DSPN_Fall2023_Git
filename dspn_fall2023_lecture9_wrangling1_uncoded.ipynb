{
 "cells": [
  {
   "cell_type": "markdown",
   "metadata": {},
   "source": [
    "# Data Science in Psychology & Neuroscience (DSPN): \n",
    "\n",
    "## Lecture 9. Data Wrangling (part 1)\n",
    "\n",
    "### Date: September 21, 2023\n",
    "\n",
    "### To-Dos From Last Class:\n",
    "\n",
    "* Submit Assignment #2: <a href=\"https://www.dropbox.com/request/gzkRwmYMySDWiUddKMCu\">Integrate & Fire</a> (before 9/21, 23:00 MDT)\n",
    "\n",
    "### Today:\n",
    "\n",
    "* What is data wrangling?\n",
    "* What is Pandas?\n",
    "* Data wrangling in Pandas (stealing heavily from this <a href=\"https://pandas.pydata.org/Pandas_Cheat_Sheet.pdf\">Cheatsheet</a>)\n",
    "    1. Creating a data frame\n",
    "    2. Reshaping\n",
    "    3. Subsetting\n",
    "    4. Adding columns\n",
    "    5. Combining data frames\n",
    "\n",
    "### Homework\n",
    "\n",
    "* Download data for next class' wrangling session from <a href=\"https://github.com/hogeveen-lab/DSPN_Fall2023_Git\">Github</a> --> misc/imitation_inhibition_paradigm\n",
    "\n"
   ]
  },
  {
   "cell_type": "markdown",
   "metadata": {},
   "source": [
    "# What is data wrangling?\n",
    "\n",
    "<img src=\"img/data_wrangling_schematic.png\" width=\"600\">\n",
    "\n",
    "<img src=\"img/lotr.gif\">"
   ]
  },
  {
   "cell_type": "markdown",
   "metadata": {},
   "source": [
    "# What is Pandas?\n",
    "\n",
    "* A data wrangling _package_ for Python\n",
    "    * Takes a lot of what is good about R and brings it into a Python general-purpose programming env\n",
    "\n",
    "<img src=\"img/pandas.jpeg\" width=\"650\">\n",
    "\n",
    "## What does this mean?\n",
    "\n",
    "* Tidy data\n",
    "    * General organizational structure used to hold and manipulate data objects used in R and Pandas\n",
    "    \n",
    "<img src=\"img/tidy_data.png\" width=\"650\">\n",
    "\n",
    "* This enables you to perform __vectorized operations__ on your data\n",
    "    * Pandas (and tidyverse/dplyr in R) preserve your observations while you run those operations\n",
    "    \n",
    "<img src=\"img/tidy_data_vectorized_operations.png\" width=\"450\">"
   ]
  },
  {
   "cell_type": "markdown",
   "metadata": {},
   "source": [
    "# Data Wrangling in Pandas\n",
    "\n",
    "## 1. Creating DataFrames"
   ]
  },
  {
   "cell_type": "code",
   "execution_count": null,
   "metadata": {},
   "outputs": [],
   "source": []
  },
  {
   "cell_type": "markdown",
   "metadata": {},
   "source": [
    "## 2. Reshaping data\n",
    "\n",
    "### Melt (i.e. go from wide to long)\n",
    "\n",
    "<img src=\"img/melt.png\" width=\"400\">"
   ]
  },
  {
   "cell_type": "code",
   "execution_count": null,
   "metadata": {},
   "outputs": [],
   "source": []
  },
  {
   "cell_type": "markdown",
   "metadata": {},
   "source": [
    "### Pivot (i.e. go from long to wide)\n",
    "\n",
    "<img src=\"img/pivot.png\" width=\"600\">"
   ]
  },
  {
   "cell_type": "code",
   "execution_count": null,
   "metadata": {},
   "outputs": [],
   "source": []
  },
  {
   "cell_type": "markdown",
   "metadata": {},
   "source": [
    "## 3. Subsetting Data\n",
    "\n",
    "### Filter (i.e. subset rows)\n",
    "\n",
    "<img src=\"img/filter.png\" width=\"600\">"
   ]
  },
  {
   "cell_type": "code",
   "execution_count": null,
   "metadata": {},
   "outputs": [],
   "source": []
  },
  {
   "cell_type": "markdown",
   "metadata": {},
   "source": [
    "### Select (i.e. subset columns)\n",
    "\n",
    "<img src=\"img/select.png\" width=\"600\">"
   ]
  },
  {
   "cell_type": "code",
   "execution_count": null,
   "metadata": {},
   "outputs": [],
   "source": []
  },
  {
   "cell_type": "markdown",
   "metadata": {},
   "source": [
    "## 4. Making New Columns"
   ]
  },
  {
   "cell_type": "code",
   "execution_count": null,
   "metadata": {},
   "outputs": [],
   "source": []
  },
  {
   "cell_type": "markdown",
   "metadata": {},
   "source": [
    "## 5. Combining Data Sets\n",
    "\n",
    "<img src=\"img/combining_data.png\" width=\"600\">"
   ]
  },
  {
   "cell_type": "code",
   "execution_count": null,
   "metadata": {},
   "outputs": [],
   "source": []
  },
  {
   "cell_type": "code",
   "execution_count": null,
   "metadata": {},
   "outputs": [],
   "source": []
  }
 ],
 "metadata": {
  "kernelspec": {
   "display_name": "Python 3",
   "language": "python",
   "name": "python3"
  },
  "language_info": {
   "codemirror_mode": {
    "name": "ipython",
    "version": 3
   },
   "file_extension": ".py",
   "mimetype": "text/x-python",
   "name": "python",
   "nbconvert_exporter": "python",
   "pygments_lexer": "ipython3",
   "version": "3.8.8"
  }
 },
 "nbformat": 4,
 "nbformat_minor": 4
}
