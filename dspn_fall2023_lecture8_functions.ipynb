{
 "cells": [
  {
   "cell_type": "markdown",
   "metadata": {},
   "source": [
    "# Data Science in Psychology & Neuroscience (DSPN): \n",
    "\n",
    "## Lecture 8. Functions\n",
    "\n",
    "### Date: September 19, 2023\n",
    "\n",
    "### To-Dos From Last Class:\n",
    "\n",
    "* Submit Assignment #2: <a href=\"https://www.dropbox.com/request/gzkRwmYMySDWiUddKMCu\">Integrate & Fire</a> (before 9/21, 23:00 MDT)\n",
    "\n",
    "### Today:\n",
    "\n",
    "* Code less\n",
    "* What are functions?\n",
    "* Coding functions in Python\n",
    "    * def\n",
    "    * Algorithms\n",
    "    * Namespace\n",
    "    * _If time allows_: lambda Functions\n",
    "\n",
    "### Homework\n",
    "\n",
    "* Submit Assignment #2: <a href=\"https://www.dropbox.com/request/gzkRwmYMySDWiUddKMCu\">Integrate & Fire</a> (before 9/21, 23:00 MDT)\n"
   ]
  },
  {
   "cell_type": "markdown",
   "metadata": {},
   "source": [
    "# General Principle: Write Less Code\n",
    "\n",
    "<img src=\"img/simplify.gif\">\n",
    "\n",
    "## Working Principles\n",
    "\n",
    "* Before writing anything:\n",
    "    * What is my goal?\n",
    "* For each feature you start to build into your code:\n",
    "    * Is this necessary?\n",
    "* The most readable code is no code at all."
   ]
  },
  {
   "cell_type": "markdown",
   "metadata": {},
   "source": [
    "## What if We Need to Repeat Some Chunk of Code Many, Many Times?\n",
    "\n",
    "<img src=\"img/copy_paste.gif\">\n",
    "\n",
    "* e.g. Plots, scoring questionnaires, transform data across vars / people, computing stats, etc.\n",
    "* Ways to prevent this turning into 1000s of lines of code:\n",
    "    * Iteration\n",
    "    * Functions\n",
    "    * Note: Not mutually exclusive"
   ]
  },
  {
   "cell_type": "markdown",
   "metadata": {},
   "source": [
    "# What are functions?\n",
    "\n",
    "## General Idea\n",
    "\n",
    "* A reusable chunk of code that performs common operations, and returns a result.\n",
    "\n",
    "## Modular Programming:\n",
    "* An approach that focuses on building a codebase from independent modules (i.e., pieces).\n",
    "* Functions support modular programming.\n",
    "    * Each function operates independently.\n",
    "    * Functions then combined together in a workflow.\n",
    "    * Allow you to build up a complex, but still (reasonably) well-organized codebase.\n",
    "\n",
    "<img src=\"img/work_schematic.png\" width=\"650\">"
   ]
  },
  {
   "cell_type": "markdown",
   "metadata": {},
   "source": [
    "# Coding Functions in Python\n",
    "\n",
    "## Using __def__\n",
    "\n",
    "* Use __def__ and __:__ to create a user-defined function\n",
    "    * Same indenting rules as iterations and conditionals\n",
    "* __def__ doesn't actually _execute_ the function, it just creates it\n",
    "    * Instead, subsequent to defining the function we execute it placing any associated inputs in parentheses -- __()__\n",
    "    * Logic behind our code no longer needs to proceed in serial order.\n",
    "\n",
    "### Example 1: Let's code a function that adds 5 to an input value"
   ]
  },
  {
   "cell_type": "code",
   "execution_count": 1,
   "metadata": {},
   "outputs": [],
   "source": [
    "# Defining the function\n",
    "def add_five(user_input):\n",
    "    # do some operation\n",
    "    print(user_input+5)"
   ]
  },
  {
   "cell_type": "code",
   "execution_count": 4,
   "metadata": {},
   "outputs": [
    {
     "name": "stdout",
     "output_type": "stream",
     "text": [
      "11\n"
     ]
    }
   ],
   "source": [
    "add_five(6)\n",
    "\n",
    "# add_five(user_input=6)"
   ]
  },
  {
   "cell_type": "markdown",
   "metadata": {},
   "source": [
    "#### Now, say we want to hold onto the output for later"
   ]
  },
  {
   "cell_type": "code",
   "execution_count": 5,
   "metadata": {},
   "outputs": [
    {
     "name": "stdout",
     "output_type": "stream",
     "text": [
      "11\n",
      "None\n"
     ]
    }
   ],
   "source": [
    "out_value = add_five(6)\n",
    "print(out_value)"
   ]
  },
  {
   "cell_type": "markdown",
   "metadata": {},
   "source": [
    "#### Why does it say \"None\"? How can we modify it to store the output?"
   ]
  },
  {
   "cell_type": "code",
   "execution_count": 6,
   "metadata": {},
   "outputs": [],
   "source": [
    "# Defining the function\n",
    "def return_add_five(user_input):\n",
    "    # do some operation\n",
    "    x = user_input+5\n",
    "    return x"
   ]
  },
  {
   "cell_type": "code",
   "execution_count": 7,
   "metadata": {},
   "outputs": [
    {
     "data": {
      "text/plain": [
       "11"
      ]
     },
     "execution_count": 7,
     "metadata": {},
     "output_type": "execute_result"
    }
   ],
   "source": [
    "return_add_five(6)"
   ]
  },
  {
   "cell_type": "code",
   "execution_count": 8,
   "metadata": {},
   "outputs": [
    {
     "name": "stdout",
     "output_type": "stream",
     "text": [
      "11\n"
     ]
    }
   ],
   "source": [
    "out_value = return_add_five(6)\n",
    "print(out_value)"
   ]
  },
  {
   "cell_type": "markdown",
   "metadata": {},
   "source": [
    "#### How could we modify the function to add two user-defined values (i.e., not limited to adding 5)?"
   ]
  },
  {
   "cell_type": "code",
   "execution_count": 9,
   "metadata": {},
   "outputs": [],
   "source": [
    "# Defining the function\n",
    "def return_add_nums(user_input1,user_input2):\n",
    "    # do some operation\n",
    "    x = user_input1 + user_input2\n",
    "    return x"
   ]
  },
  {
   "cell_type": "code",
   "execution_count": 10,
   "metadata": {},
   "outputs": [
    {
     "data": {
      "text/plain": [
       "30"
      ]
     },
     "execution_count": 10,
     "metadata": {},
     "output_type": "execute_result"
    }
   ],
   "source": [
    "return_add_nums(10,20)"
   ]
  },
  {
   "cell_type": "code",
   "execution_count": 11,
   "metadata": {},
   "outputs": [
    {
     "name": "stdout",
     "output_type": "stream",
     "text": [
      "30\n"
     ]
    }
   ],
   "source": [
    "out_value = return_add_nums(10,20)\n",
    "print(out_value)"
   ]
  },
  {
   "cell_type": "markdown",
   "metadata": {},
   "source": [
    "__Note: We're not limited to single operations in a function. We can add loops and conditionals within functions as well.__\n",
    "\n",
    "### Example 2: Write a function to determine if an input value is even or odd"
   ]
  },
  {
   "cell_type": "code",
   "execution_count": 12,
   "metadata": {},
   "outputs": [],
   "source": [
    "# Defining the function\n",
    "def even_odd(user_input):\n",
    "    if user_input % 2 == 0:\n",
    "        out = \"even\"\n",
    "    else:\n",
    "        out = \"odd\"        \n",
    "    return out"
   ]
  },
  {
   "cell_type": "code",
   "execution_count": 13,
   "metadata": {},
   "outputs": [
    {
     "name": "stdout",
     "output_type": "stream",
     "text": [
      "even\n"
     ]
    }
   ],
   "source": [
    "even_odd_test = even_odd(10)\n",
    "print(even_odd_test)"
   ]
  },
  {
   "cell_type": "markdown",
   "metadata": {},
   "source": [
    "### Comprehension question: What will this code chunk return?"
   ]
  },
  {
   "cell_type": "code",
   "execution_count": 14,
   "metadata": {},
   "outputs": [
    {
     "name": "stdout",
     "output_type": "stream",
     "text": [
      "4.0\n"
     ]
    }
   ],
   "source": [
    "# Defining the function\n",
    "def multiplier(input1, input2):\n",
    "    final_ans = input1 * input2\n",
    "    return final_ans\n",
    "\n",
    "# Computing something using the function\n",
    "ans_1 = multiplier(2,4)\n",
    "ans_2 = multiplier(1,2)\n",
    "print(ans_1 / ans_2)"
   ]
  },
  {
   "cell_type": "markdown",
   "metadata": {},
   "source": [
    "### Example 3: Write a Python function to return the maximum value of an input list\n",
    "* yes... python already has a builtin \"max\" function, let's pretend it doesn't!"
   ]
  },
  {
   "cell_type": "code",
   "execution_count": 15,
   "metadata": {},
   "outputs": [],
   "source": [
    "# Defining the algorithm\n",
    "def find_max(user_input):\n",
    "    cur_max = 0\n",
    "    for i in user_input:\n",
    "        if i > cur_max:\n",
    "            cur_max = i\n",
    "    return cur_max"
   ]
  },
  {
   "cell_type": "code",
   "execution_count": 16,
   "metadata": {},
   "outputs": [
    {
     "name": "stdout",
     "output_type": "stream",
     "text": [
      "[87 47 43 93 10]\n"
     ]
    }
   ],
   "source": [
    "# Generating a list\n",
    "import numpy as np\n",
    "L = np.random.randint(0,100,5)\n",
    "print(L)"
   ]
  },
  {
   "cell_type": "code",
   "execution_count": 17,
   "metadata": {},
   "outputs": [
    {
     "name": "stdout",
     "output_type": "stream",
     "text": [
      "93\n"
     ]
    },
    {
     "data": {
      "text/plain": [
       "93"
      ]
     },
     "execution_count": 17,
     "metadata": {},
     "output_type": "execute_result"
    }
   ],
   "source": [
    "# Executing find_max\n",
    "max_value = find_max(L)\n",
    "print(max_value)\n",
    "\n",
    "max(L)"
   ]
  },
  {
   "cell_type": "markdown",
   "metadata": {},
   "source": [
    "### What are the benefits of this \"modular\" organization approach?\n",
    "\n",
    "* Easier to collaborate on different sections of code for a project.\n",
    "* Reduces human error.\n",
    "* Flexibility.\n",
    "\n",
    "\n",
    "<img src=\"img/modular_couch.gif\" width=\"450\">"
   ]
  },
  {
   "cell_type": "markdown",
   "metadata": {},
   "source": [
    "## Namespace\n",
    "\n",
    "* Collection of currently defined symbolic names along with the object each name references\n",
    "* We can use __%whos__ to return the current namespace in our notebook"
   ]
  },
  {
   "cell_type": "code",
   "execution_count": 18,
   "metadata": {},
   "outputs": [
    {
     "name": "stdout",
     "output_type": "stream",
     "text": [
      "Variable          Type        Data/Info\n",
      "---------------------------------------\n",
      "L                 ndarray     5: 5 elems, type `int64`, 40 bytes\n",
      "add_five          function    <function add_five at 0x7fc6c0cff3a0>\n",
      "ans_1             int         8\n",
      "ans_2             int         2\n",
      "even_odd          function    <function even_odd at 0x7fc6c0cff430>\n",
      "even_odd_test     str         even\n",
      "find_max          function    <function find_max at 0x7fc6c0cff820>\n",
      "max_value         int64       93\n",
      "multiplier        function    <function multiplier at 0x7fc6c0cff550>\n",
      "np                module      <module 'numpy' from '/Us<...>kages/numpy/__init__.py'>\n",
      "out_value         int         30\n",
      "return_add_five   function    <function return_add_five at 0x7fc6c0cff5e0>\n",
      "return_add_nums   function    <function return_add_nums at 0x7fc6c0cff310>\n"
     ]
    }
   ],
   "source": [
    "# We can use \"%whos\" to return the current namespace in our notebook\n",
    "%whos"
   ]
  },
  {
   "cell_type": "code",
   "execution_count": 19,
   "metadata": {},
   "outputs": [
    {
     "name": "stdout",
     "output_type": "stream",
     "text": [
      "[87 47 43 93 10]\n"
     ]
    }
   ],
   "source": [
    "print(L)"
   ]
  },
  {
   "cell_type": "markdown",
   "metadata": {},
   "source": [
    "### NOTE: Function namespace is independent from the global namespace\n",
    "\n",
    "* Functions only have access to objects we explicitly pass in\n",
    "* Local, unreturned names created within a function do not overwrite our global namespace"
   ]
  },
  {
   "cell_type": "code",
   "execution_count": 24,
   "metadata": {},
   "outputs": [
    {
     "name": "stdout",
     "output_type": "stream",
     "text": [
      "notice that our global workspace list object does not change: [87 47 43 93 10]\n",
      "but we have also now created a new list object: [ 4 81 70 55 44]\n"
     ]
    }
   ],
   "source": [
    "def random_sorted_array():\n",
    "    L = np.random.randint(0,100,5)\n",
    "    return L\n",
    "\n",
    "new_list = random_sorted_array()\n",
    "\n",
    "print('notice that our global workspace list object does not change:',L) \n",
    "print('but we have also now created a new list object:',new_list)"
   ]
  },
  {
   "cell_type": "code",
   "execution_count": 37,
   "metadata": {},
   "outputs": [],
   "source": [
    "# Quick note: can use del(), %reset_selective, %reset to clear the namespace\n",
    "# del(L)\n",
    "# %reset_selective L\n",
    "# %reset"
   ]
  },
  {
   "cell_type": "markdown",
   "metadata": {},
   "source": [
    "## lambda Functions\n",
    "\n",
    "* Based on Alonzo Church's __lambda calculus__, a language based on pure abstraction.\n",
    "* In python, it is used to denote a small one-line function.\n",
    "* Basic syntax --> lambda arguments : expression\n",
    "\n",
    "### Example: Let's revisit our earlier \"return_add_five\" function..."
   ]
  },
  {
   "cell_type": "code",
   "execution_count": 25,
   "metadata": {},
   "outputs": [],
   "source": [
    "# Defining the function\n",
    "def return_add_five(user_input):\n",
    "    x = user_input+5\n",
    "    return x"
   ]
  },
  {
   "cell_type": "code",
   "execution_count": 26,
   "metadata": {},
   "outputs": [
    {
     "name": "stdout",
     "output_type": "stream",
     "text": [
      "10\n"
     ]
    }
   ],
   "source": [
    "ans = return_add_five(5)\n",
    "print(ans)"
   ]
  },
  {
   "cell_type": "code",
   "execution_count": 27,
   "metadata": {},
   "outputs": [
    {
     "name": "stdout",
     "output_type": "stream",
     "text": [
      "10\n"
     ]
    }
   ],
   "source": [
    "lambda_add_five = lambda user_input : user_input + 5\n",
    "print(lambda_add_five(5))"
   ]
  },
  {
   "cell_type": "markdown",
   "metadata": {},
   "source": [
    "### Example 2: Let's try mean-centering a list using a lambda function"
   ]
  },
  {
   "cell_type": "code",
   "execution_count": 28,
   "metadata": {},
   "outputs": [
    {
     "name": "stdout",
     "output_type": "stream",
     "text": [
      "here is the original list: [ 0 62 25 88 47 28 88 53 58 49 44 73 14  9 43 73 95 16 17 55]\n",
      "here is the centered list: [-46.85  15.15 -21.85  41.15   0.15 -18.85  41.15   6.15  11.15   2.15\n",
      "  -2.85  26.15 -32.85 -37.85  -3.85  26.15  48.15 -30.85 -29.85   8.15]\n"
     ]
    }
   ],
   "source": [
    "new_list = np.random.randint(0,100,20)\n",
    "centered_list = (lambda x: x-np.mean(x))(new_list) # Note: the syntax here is (lambda function)(list provided to lambda)\n",
    "print('here is the original list:',new_list)\n",
    "print('here is the centered list:',centered_list)"
   ]
  },
  {
   "cell_type": "code",
   "execution_count": 29,
   "metadata": {},
   "outputs": [
    {
     "data": {
      "image/png": "[encoded data removed]",
      "text/plain": [
       "<Figure size 432x288 with 1 Axes>"
      ]
     },
     "metadata": {
      "needs_background": "light"
     },
     "output_type": "display_data"
    }
   ],
   "source": [
    "import matplotlib.pyplot as plt\n",
    "\n",
    "# matplotlib histogram\n",
    "palette=['blue','red']\n",
    "names=['original','centered']\n",
    "plt.hist([new_list, centered_list], bins = int(180/15),edgecolor = 'black',color = palette, label=names)\n",
    "# Plot formatting\n",
    "plt.legend()\n",
    "plt.xlabel('Values')\n",
    "plt.ylabel('Frequency')\n",
    "plt.title('Side-by-Side Histogram with Original and Centered Lists')\n",
    "plt.show()"
   ]
  },
  {
   "cell_type": "code",
   "execution_count": null,
   "metadata": {},
   "outputs": [],
   "source": []
  }
 ],
 "metadata": {
  "kernelspec": {
   "display_name": "Python 3",
   "language": "python",
   "name": "python3"
  },
  "language_info": {
   "codemirror_mode": {
    "name": "ipython",
    "version": 3
   },
   "file_extension": ".py",
   "mimetype": "text/x-python",
   "name": "python",
   "nbconvert_exporter": "python",
   "pygments_lexer": "ipython3",
   "version": "3.8.8"
  }
 },
 "nbformat": 4,
 "nbformat_minor": 4
}
