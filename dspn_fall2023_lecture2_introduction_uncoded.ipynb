{
 "cells": [
  {
   "cell_type": "markdown",
   "metadata": {},
   "source": [
    "# Data Science in Psychology & Neuroscience (DSPN): \n",
    "\n",
    "## Lecture 2. Introduction, continued\n",
    "\n",
    "### Date: August 24, 2023\n",
    "\n",
    "### To-Dos From Last Class:\n",
    "\n",
    "* Anaconda installation\n",
    "\n",
    "### Today:\n",
    "\n",
    "* Coding style and working in Jupyter\n",
    "* Create Jupyter Notebook and start programming\n",
    "\n",
    "### Homework:\n",
    "\n",
    "* Enjoy life!\n"
   ]
  },
  {
   "cell_type": "markdown",
   "metadata": {},
   "source": [
    "# Coding Style\n",
    "\n",
    "<img src=\"img/readable_code.png\">"
   ]
  },
  {
   "cell_type": "markdown",
   "metadata": {},
   "source": [
    "## What is it?\n",
    "* How YOUR code looks\n",
    "    * Analogous to formatting preferences in Word docs\n",
    "    * Differs person-to-person"
   ]
  },
  {
   "cell_type": "markdown",
   "metadata": {},
   "source": [
    "* Things to consider\n",
    "    1. Comments\n",
    "        * Be succinct, but too much often better than not enough"
   ]
  },
  {
   "cell_type": "code",
   "execution_count": null,
   "metadata": {},
   "outputs": [],
   "source": []
  },
  {
   "cell_type": "code",
   "execution_count": null,
   "metadata": {},
   "outputs": [],
   "source": []
  },
  {
   "cell_type": "markdown",
   "metadata": {},
   "source": [
    "2. Indentation\n",
    "    * Tabs or spaces?"
   ]
  },
  {
   "cell_type": "code",
   "execution_count": null,
   "metadata": {},
   "outputs": [],
   "source": []
  },
  {
   "cell_type": "code",
   "execution_count": null,
   "metadata": {},
   "outputs": [],
   "source": []
  },
  {
   "cell_type": "markdown",
   "metadata": {},
   "source": [
    "3. Naming variables and functions\n",
    "    * camelCase vs. under_scores? \n",
    "    * Common logic for id'ing variables, data frames, plots, and models"
   ]
  },
  {
   "cell_type": "code",
   "execution_count": null,
   "metadata": {},
   "outputs": [],
   "source": []
  },
  {
   "cell_type": "code",
   "execution_count": null,
   "metadata": {},
   "outputs": [],
   "source": []
  },
  {
   "cell_type": "code",
   "execution_count": null,
   "metadata": {},
   "outputs": [],
   "source": []
  },
  {
   "cell_type": "markdown",
   "metadata": {},
   "source": [
    "4. Consistency is key"
   ]
  },
  {
   "cell_type": "code",
   "execution_count": null,
   "metadata": {},
   "outputs": [],
   "source": []
  },
  {
   "cell_type": "markdown",
   "metadata": {},
   "source": [
    "## Overarching principle: Code should be written to minimize the time it would take for someone else— including __future you__ —to understand it."
   ]
  },
  {
   "cell_type": "markdown",
   "metadata": {},
   "source": [
    "## Cells\n",
    "\n",
    "__Sections of code__\n",
    "* Analogous to paragraphs or paper sections\n",
    "* Used in MATLAB <%%>, Python <#%%>, and RMarkDown <```>"
   ]
  },
  {
   "cell_type": "markdown",
   "metadata": {},
   "source": [
    "## Jupyter Cells\n",
    "\n",
    "* Markdown (what this is)\n",
    "    * A _way_ to __specify__ all ___formatting___ within the text itself\n",
    "* Code (cell where you run actual Python code)\n",
    "\n",
    "## Markdown Formatting Tips\n",
    "\n",
    "## Header levels...\n",
    "### ...are...\n",
    "#### ...specified...\n",
    "##### ...using...\n",
    "###### ...pound signs.\n",
    "\n",
    "* Can do bulleted lists using asterisks:\n",
    "    * tabbing to indent subsequent levels\n",
    "        * as many times as you need\n",
    "* back to level one\n",
    "\n",
    "1. Can also do numbered lists \n",
    "2. Number, period, space then your entry\n",
    "    1. Designate subpoints by tabbing + restarting enumeration\n",
    "3. Continue original list\n",
    "\n",
    "Here is a <a href=\"https://medium.com/ibm-data-science-experience/markdown-for-jupyter-notebooks-cheatsheet-386c05aeebed\">cheatsheet</a> with a bunch of other Markdown formatting stuff."
   ]
  },
  {
   "cell_type": "markdown",
   "metadata": {},
   "source": [
    "## Web browser\n",
    "* Jupyter coding happens in a browser\n",
    "    * But, it is __not__ on the web.\n",
    "        * Do not send me the path at the top of your Jupyter notebook for your assignments!\n",
    "* Exporting and sharing jupyter notebooks\n",
    "    * Export to HTML or PDF to send via Email / Slack / etc.\n",
    "    * Push to Github and work on shared code base across lab."
   ]
  },
  {
   "cell_type": "markdown",
   "metadata": {},
   "source": [
    "# Objects\n",
    "\n",
    "* Python is an \"object-oriented\" programming language\n",
    "    * For example: Variables, lists"
   ]
  },
  {
   "cell_type": "code",
   "execution_count": null,
   "metadata": {},
   "outputs": [],
   "source": []
  },
  {
   "cell_type": "markdown",
   "metadata": {},
   "source": [
    "* Variables are most often __integers__, __floats__, or __strings__"
   ]
  },
  {
   "cell_type": "code",
   "execution_count": null,
   "metadata": {},
   "outputs": [],
   "source": []
  },
  {
   "cell_type": "markdown",
   "metadata": {},
   "source": [
    "* Multiple variables can be assigned at once in Python"
   ]
  },
  {
   "cell_type": "code",
   "execution_count": null,
   "metadata": {},
   "outputs": [],
   "source": []
  },
  {
   "cell_type": "markdown",
   "metadata": {},
   "source": [
    "* __Mathematical operators__ can be applied to numerical variables\n",
    "    * Order of operations follows __B() E** D/ M* A+ S-__"
   ]
  },
  {
   "cell_type": "code",
   "execution_count": null,
   "metadata": {},
   "outputs": [],
   "source": []
  },
  {
   "cell_type": "markdown",
   "metadata": {},
   "source": [
    "* There are some cool division tricks...\n",
    "    * if you want to round to the nearest integer do '//'\n",
    "    * if you want the remainder after rounding, do '%'"
   ]
  },
  {
   "cell_type": "code",
   "execution_count": null,
   "metadata": {},
   "outputs": [],
   "source": []
  },
  {
   "cell_type": "markdown",
   "metadata": {},
   "source": [
    "* Python objects might also be __collections__ (e.g. data frames or lists)"
   ]
  },
  {
   "cell_type": "code",
   "execution_count": null,
   "metadata": {},
   "outputs": [],
   "source": []
  },
  {
   "cell_type": "markdown",
   "metadata": {},
   "source": [
    "* Python objects might also be __plots__\n",
    "    * Won't get into this yet..."
   ]
  },
  {
   "cell_type": "markdown",
   "metadata": {},
   "source": [
    "### Write a code that prints \"Hello World!\""
   ]
  },
  {
   "cell_type": "code",
   "execution_count": null,
   "metadata": {},
   "outputs": [],
   "source": []
  },
  {
   "cell_type": "markdown",
   "metadata": {},
   "source": [
    "### Packages, sub-packages, and modules\n",
    "\n",
    "* A ton of __packages__ have been developed\n",
    "    * Some of them general purpose (e.g. Numpy, Pandas)\n",
    "    * Some of them psych / neuro specific (e.g. psychopy, pygaze, MNE, Nipype, Brian, SPySort, etc etc etc)\n",
    "* Those packages contain \"sub-packages\" which do a set of related things\n",
    "* There are then individual \"modules\" or \"functions\" that do the stuff we want to do in Python\n",
    "\n",
    "<img src=\"img/package_module.png\" width=\"450\">\n",
    "\n",
    "### E.g. use numpy to generate random list of integers between 0 and 100"
   ]
  },
  {
   "cell_type": "code",
   "execution_count": null,
   "metadata": {},
   "outputs": [],
   "source": []
  },
  {
   "cell_type": "markdown",
   "metadata": {},
   "source": [
    "__If you forget how to use a subpackage or module...__\n",
    "\n",
    "<img src=\"img/m_baxter.png\" width=400>\n",
    "\n",
    "__Or...__"
   ]
  },
  {
   "cell_type": "code",
   "execution_count": null,
   "metadata": {},
   "outputs": [],
   "source": []
  },
  {
   "cell_type": "code",
   "execution_count": null,
   "metadata": {},
   "outputs": [],
   "source": []
  }
 ],
 "metadata": {
  "kernelspec": {
   "display_name": "Python 3",
   "language": "python",
   "name": "python3"
  },
  "language_info": {
   "codemirror_mode": {
    "name": "ipython",
    "version": 3
   },
   "file_extension": ".py",
   "mimetype": "text/x-python",
   "name": "python",
   "nbconvert_exporter": "python",
   "pygments_lexer": "ipython3",
   "version": "3.8.8"
  }
 },
 "nbformat": 4,
 "nbformat_minor": 4
}
