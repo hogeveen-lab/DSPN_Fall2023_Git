{
 "cells": [
  {
   "cell_type": "markdown",
   "metadata": {},
   "source": [
    "# Data Science in Psychology & Neuroscience (DSPN): \n",
    "\n",
    "## Lecture 8. Functions\n",
    "\n",
    "### Date: September 19, 2023\n",
    "\n",
    "### To-Dos From Last Class:\n",
    "\n",
    "* Submit Assignment #2: <a href=\"https://www.dropbox.com/request/gzkRwmYMySDWiUddKMCu\">Integrate & Fire</a> (before 9/21, 23:00 MDT)\n",
    "\n",
    "### Today:\n",
    "\n",
    "* Code less\n",
    "* What are functions?\n",
    "* Coding functions in Python\n",
    "    * def\n",
    "    * Algorithms\n",
    "    * Namespace\n",
    "    * _If time allows_: lambda Functions\n",
    "\n",
    "### Homework\n",
    "\n",
    "* Submit Assignment #2: <a href=\"https://www.dropbox.com/request/gzkRwmYMySDWiUddKMCu\">Integrate & Fire</a> (before 9/21, 23:00 MDT)\n"
   ]
  },
  {
   "cell_type": "markdown",
   "metadata": {},
   "source": [
    "# General Principle: Write Less Code\n",
    "\n",
    "<img src=\"img/simplify.gif\">\n",
    "\n",
    "## Working Principles\n",
    "\n",
    "* Before writing anything:\n",
    "    * What is my goal?\n",
    "* For each feature you start to build into your code:\n",
    "    * Is this necessary?\n",
    "* The most readable code is no code at all."
   ]
  },
  {
   "cell_type": "markdown",
   "metadata": {},
   "source": [
    "## What if We Need to Repeat Some Chunk of Code Many, Many Times?\n",
    "\n",
    "<img src=\"img/copy_paste.gif\">\n",
    "\n",
    "* e.g. Plots, scoring questionnaires, transform data across vars / people, computing stats, etc.\n",
    "* Ways to prevent this turning into 1000s of lines of code:\n",
    "    * Iteration\n",
    "    * Functions\n",
    "    * Note: Not mutually exclusive"
   ]
  },
  {
   "cell_type": "markdown",
   "metadata": {},
   "source": [
    "# What are functions?\n",
    "\n",
    "## General Idea\n",
    "\n",
    "* A reusable chunk of code that performs common operations, and returns a result.\n",
    "\n",
    "## Modular Programming:\n",
    "* An approach that focuses on building a codebase from independent modules (i.e., pieces).\n",
    "* Functions support modular programming.\n",
    "    * Each function operates independently.\n",
    "    * Functions then combined together in a workflow.\n",
    "    * Allow you to build up a complex, but still (reasonably) well-organized codebase.\n",
    "\n",
    "<img src=\"img/work_schematic.png\" width=\"650\">"
   ]
  },
  {
   "cell_type": "markdown",
   "metadata": {},
   "source": [
    "# Coding Functions in Python\n",
    "\n",
    "## Using __def__\n",
    "\n",
    "* Use __def__ and __:__ to create a user-defined function\n",
    "    * Same indenting rules as iterations and conditionals\n",
    "* __def__ doesn't actually _execute_ the function, it just creates it\n",
    "    * Instead, subsequent to defining the function we execute it placing any associated inputs in parentheses -- __()__\n",
    "    * Logic behind our code no longer needs to proceed in serial order.\n",
    "\n",
    "### Example 1: Let's code a function that adds 5 to an input value"
   ]
  },
  {
   "cell_type": "code",
   "execution_count": null,
   "metadata": {},
   "outputs": [],
   "source": []
  },
  {
   "cell_type": "code",
   "execution_count": null,
   "metadata": {},
   "outputs": [],
   "source": []
  },
  {
   "cell_type": "markdown",
   "metadata": {},
   "source": [
    "#### Now, say we want to hold onto the output for later"
   ]
  },
  {
   "cell_type": "code",
   "execution_count": null,
   "metadata": {},
   "outputs": [],
   "source": []
  },
  {
   "cell_type": "markdown",
   "metadata": {},
   "source": [
    "#### Why does it say \"None\"? How can we modify it to store the output?"
   ]
  },
  {
   "cell_type": "code",
   "execution_count": null,
   "metadata": {},
   "outputs": [],
   "source": []
  },
  {
   "cell_type": "code",
   "execution_count": null,
   "metadata": {},
   "outputs": [],
   "source": []
  },
  {
   "cell_type": "code",
   "execution_count": null,
   "metadata": {},
   "outputs": [],
   "source": []
  },
  {
   "cell_type": "markdown",
   "metadata": {},
   "source": [
    "#### How could we modify the function to add two user-defined values (i.e., not limited to adding 5)?"
   ]
  },
  {
   "cell_type": "code",
   "execution_count": null,
   "metadata": {},
   "outputs": [],
   "source": []
  },
  {
   "cell_type": "code",
   "execution_count": null,
   "metadata": {},
   "outputs": [],
   "source": []
  },
  {
   "cell_type": "code",
   "execution_count": null,
   "metadata": {},
   "outputs": [],
   "source": []
  },
  {
   "cell_type": "markdown",
   "metadata": {},
   "source": [
    "__Note: We're not limited to single operations in a function. We can add loops and conditionals within functions as well.__\n",
    "\n",
    "### Example 2: Write a function to determine if an input value is even or odd"
   ]
  },
  {
   "cell_type": "code",
   "execution_count": null,
   "metadata": {},
   "outputs": [],
   "source": []
  },
  {
   "cell_type": "code",
   "execution_count": null,
   "metadata": {},
   "outputs": [],
   "source": []
  },
  {
   "cell_type": "markdown",
   "metadata": {},
   "source": [
    "### Comprehension question: What will this code chunk return?"
   ]
  },
  {
   "cell_type": "code",
   "execution_count": null,
   "metadata": {},
   "outputs": [],
   "source": []
  },
  {
   "cell_type": "markdown",
   "metadata": {},
   "source": [
    "### Example 3: Write a Python function to return the maximum value of an input list\n",
    "* yes... python already has a builtin \"max\" function, let's pretend it doesn't!"
   ]
  },
  {
   "cell_type": "code",
   "execution_count": null,
   "metadata": {},
   "outputs": [],
   "source": []
  },
  {
   "cell_type": "code",
   "execution_count": null,
   "metadata": {},
   "outputs": [],
   "source": []
  },
  {
   "cell_type": "code",
   "execution_count": null,
   "metadata": {},
   "outputs": [],
   "source": []
  },
  {
   "cell_type": "markdown",
   "metadata": {},
   "source": [
    "### What are the benefits of this \"modular\" organization approach?\n",
    "\n",
    "* Easier to collaborate on different sections of code for a project.\n",
    "* Reduces human error.\n",
    "* Flexibility.\n",
    "\n",
    "\n",
    "<img src=\"img/modular_couch.gif\" width=\"450\">"
   ]
  },
  {
   "cell_type": "markdown",
   "metadata": {},
   "source": [
    "## Namespace\n",
    "\n",
    "* Collection of currently defined symbolic names along with the object each name references\n",
    "* We can use __%whos__ to return the current namespace in our notebook"
   ]
  },
  {
   "cell_type": "code",
   "execution_count": null,
   "metadata": {},
   "outputs": [],
   "source": []
  },
  {
   "cell_type": "code",
   "execution_count": null,
   "metadata": {},
   "outputs": [],
   "source": []
  },
  {
   "cell_type": "markdown",
   "metadata": {},
   "source": [
    "### NOTE: Function namespace is independent from the global namespace\n",
    "\n",
    "* Functions only have access to objects we explicitly pass in\n",
    "* Local, unreturned names created within a function do not overwrite our global namespace"
   ]
  },
  {
   "cell_type": "code",
   "execution_count": null,
   "metadata": {},
   "outputs": [],
   "source": []
  },
  {
   "cell_type": "code",
   "execution_count": null,
   "metadata": {},
   "outputs": [],
   "source": []
  },
  {
   "cell_type": "markdown",
   "metadata": {},
   "source": [
    "## lambda Functions\n",
    "\n",
    "* Based on Alonzo Church's __lambda calculus__, a language based on pure abstraction.\n",
    "* In python, it is used to denote a small one-line function.\n",
    "* Basic syntax --> lambda arguments : expression\n",
    "\n",
    "### Example: Let's revisit our earlier \"return_add_five\" function..."
   ]
  },
  {
   "cell_type": "code",
   "execution_count": null,
   "metadata": {},
   "outputs": [],
   "source": []
  },
  {
   "cell_type": "code",
   "execution_count": null,
   "metadata": {},
   "outputs": [],
   "source": []
  },
  {
   "cell_type": "code",
   "execution_count": null,
   "metadata": {},
   "outputs": [],
   "source": []
  },
  {
   "cell_type": "markdown",
   "metadata": {},
   "source": [
    "### Example 2: Let's try mean-centering a list using a lambda function"
   ]
  },
  {
   "cell_type": "code",
   "execution_count": null,
   "metadata": {},
   "outputs": [],
   "source": []
  },
  {
   "cell_type": "code",
   "execution_count": null,
   "metadata": {},
   "outputs": [],
   "source": []
  },
  {
   "cell_type": "code",
   "execution_count": null,
   "metadata": {},
   "outputs": [],
   "source": []
  }
 ],
 "metadata": {
  "kernelspec": {
   "display_name": "Python 3",
   "language": "python",
   "name": "python3"
  },
  "language_info": {
   "codemirror_mode": {
    "name": "ipython",
    "version": 3
   },
   "file_extension": ".py",
   "mimetype": "text/x-python",
   "name": "python",
   "nbconvert_exporter": "python",
   "pygments_lexer": "ipython3",
   "version": "3.8.8"
  }
 },
 "nbformat": 4,
 "nbformat_minor": 4
}
