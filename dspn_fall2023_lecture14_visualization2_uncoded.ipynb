{
 "cells": [
  {
   "cell_type": "markdown",
   "metadata": {},
   "source": [
    "# Data Science in Psychology & Neuroscience (DSPN): \n",
    "\n",
    "## Lecture 14. Data Visualization (part 2)\n",
    "\n",
    "### Date: October 17, 2023\n",
    "\n",
    "### To-Dos From Last Class:\n",
    "\n",
    "* Install R/RStudio (or IRKernel/Jupyter)\n",
    "    \n",
    "### Today:\n",
    "\n",
    "1. Prep some data\n",
    "    1. Read the trial-level imitation inhibition task data in\n",
    "    2. Compute summary RT and error rate (ER) data by participant/condition\n",
    "2. Plot some data\n",
    "    1. ggplot template\n",
    "    2. Layers\n",
    "    3. Grouping the data (Fill & Color)\n",
    "    4. Other formatting stuff (Themes)\n",
    "    5. Spotting / labelling outliers\n",
    "\n",
    "### Homework\n",
    "\n",
    "* Brainstorm Final Assignment ideas :)"
   ]
  },
  {
   "cell_type": "markdown",
   "metadata": {},
   "source": [
    "## Reminder: Imitation inhibition task dataset\n",
    "\n",
    "<img src=\"img/ait_task.png\" width=500>\n",
    "\n",
    "* 20 trials per condition (100 total responses for each participant)\n",
    "    * Average across cued response finger\n",
    "* Condition mapping:\n",
    "    1. Baseline \n",
    "    2. Effector congruent \n",
    "    3. Effector incongruent\n",
    "    4. Movement congruent\n",
    "    5. Movement incongruent"
   ]
  },
  {
   "cell_type": "markdown",
   "metadata": {},
   "source": [
    "# Part 1A: Reading in the dataset\n",
    "\n",
    "* Load the tidyverse package\n",
    "* Assign filepath\n",
    "* Read in the data"
   ]
  },
  {
   "cell_type": "code",
   "execution_count": null,
   "metadata": {},
   "outputs": [],
   "source": []
  },
  {
   "cell_type": "markdown",
   "metadata": {},
   "source": [
    "# 1B. Compute summary RT and error rate (ER) data by participant/condition\n",
    "\n",
    "## <span style=\"color:blue\">NOTE: I will do the wrangling for you in R for Assignment 4 and 5 starters!</span>\n",
    "\n",
    "* Normalize conditional RTs by \"baseline\"\n",
    "* Recode \"Congruence\" as a 2 x 2 design\n",
    "    * Stimulus type: Movement or Effector\n",
    "    * Stimulus/Response Compatibility: Congruent or Incongruent\n",
    "* Recode \"Error Code\" as an integer\n",
    "    * Useful for calculateing ER\n",
    "* Compute summary statistics"
   ]
  },
  {
   "cell_type": "code",
   "execution_count": null,
   "metadata": {},
   "outputs": [],
   "source": []
  },
  {
   "cell_type": "code",
   "execution_count": null,
   "metadata": {},
   "outputs": [],
   "source": []
  },
  {
   "cell_type": "code",
   "execution_count": null,
   "metadata": {},
   "outputs": [],
   "source": []
  },
  {
   "cell_type": "markdown",
   "metadata": {},
   "source": [
    "# 2A. ggplot template\n",
    "\n",
    "* Note: ggplot reference for different geom_functions etc.\n",
    "    * https://ggplot2.tidyverse.org/reference/"
   ]
  },
  {
   "cell_type": "code",
   "execution_count": null,
   "metadata": {},
   "outputs": [],
   "source": [
    "# ggplot(data = <DATA>) + \n",
    "#   <GEOM_FUNCTION>(mapping = aes(<MAPPINGS>)) \n",
    "\n",
    "# ggplot initiates a blank plot object\n",
    "# aes = aesthetic mappings\n",
    "# geom_functions = geometric objects"
   ]
  },
  {
   "cell_type": "code",
   "execution_count": null,
   "metadata": {},
   "outputs": [],
   "source": []
  },
  {
   "cell_type": "markdown",
   "metadata": {},
   "source": [
    "# 2B. Layers\n",
    "\n",
    "* Can layer as many different geometric objects (i.e., geom_ thingys) as you like!"
   ]
  },
  {
   "cell_type": "code",
   "execution_count": null,
   "metadata": {},
   "outputs": [],
   "source": []
  },
  {
   "cell_type": "code",
   "execution_count": null,
   "metadata": {},
   "outputs": [],
   "source": []
  },
  {
   "cell_type": "markdown",
   "metadata": {},
   "source": [
    "# 2C. Grouping the data (e.g. for visualizing interactions between factors)\n",
    "\n",
    "* Plotting stim type BY sr_comp interaction\n",
    "* Noting the difference between _fill_ and _colour_\n",
    "    * Fill --> specifying colour to fill a geom\n",
    "    * Colour --> specifying colour to outline a geom"
   ]
  },
  {
   "cell_type": "code",
   "execution_count": null,
   "metadata": {},
   "outputs": [],
   "source": []
  },
  {
   "cell_type": "code",
   "execution_count": null,
   "metadata": {},
   "outputs": [],
   "source": []
  },
  {
   "cell_type": "code",
   "execution_count": null,
   "metadata": {},
   "outputs": [],
   "source": []
  },
  {
   "cell_type": "code",
   "execution_count": null,
   "metadata": {},
   "outputs": [],
   "source": []
  },
  {
   "cell_type": "markdown",
   "metadata": {},
   "source": [
    "# 2D. Formatting the plots (Themes)\n",
    "\n",
    "* Plot outline / background\n",
    "* Axis labels"
   ]
  },
  {
   "cell_type": "code",
   "execution_count": null,
   "metadata": {},
   "outputs": [],
   "source": []
  },
  {
   "cell_type": "code",
   "execution_count": null,
   "metadata": {},
   "outputs": [],
   "source": []
  },
  {
   "cell_type": "code",
   "execution_count": null,
   "metadata": {},
   "outputs": [],
   "source": []
  },
  {
   "cell_type": "code",
   "execution_count": null,
   "metadata": {},
   "outputs": [],
   "source": []
  },
  {
   "cell_type": "code",
   "execution_count": null,
   "metadata": {},
   "outputs": [],
   "source": []
  },
  {
   "cell_type": "markdown",
   "metadata": {},
   "source": [
    "# 2E. Spotting + Labeling Outliers\n",
    "\n",
    "* Plotting speed-accuracy tradeoff scatter\n",
    "* Labelling points by participant ID to figure out who I should look into further"
   ]
  },
  {
   "cell_type": "code",
   "execution_count": null,
   "metadata": {},
   "outputs": [],
   "source": []
  },
  {
   "cell_type": "code",
   "execution_count": null,
   "metadata": {},
   "outputs": [],
   "source": []
  },
  {
   "cell_type": "code",
   "execution_count": null,
   "metadata": {},
   "outputs": [],
   "source": []
  }
 ],
 "metadata": {
  "kernelspec": {
   "display_name": "R",
   "language": "R",
   "name": "ir"
  },
  "language_info": {
   "codemirror_mode": "r",
   "file_extension": ".r",
   "mimetype": "text/x-r-source",
   "name": "R",
   "pygments_lexer": "r",
   "version": "4.3.1"
  }
 },
 "nbformat": 4,
 "nbformat_minor": 4
}
