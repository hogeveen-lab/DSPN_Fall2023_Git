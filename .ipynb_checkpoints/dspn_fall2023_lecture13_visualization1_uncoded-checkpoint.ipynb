{
 "cells": [
  {
   "cell_type": "markdown",
   "metadata": {},
   "source": [
    "# Data Science in Psychology & Neuroscience (DSPN): \n",
    "\n",
    "## Lecture 14. Data Visualization (part 1)\n",
    "\n",
    "### Date: October 10, 2023\n",
    "\n",
    "### To-Dos From Last Class:\n",
    "\n",
    "* Work on Assignment #3\n",
    "* Install R\n",
    "    \n",
    "### Today:\n",
    "\n",
    "* RStudio (.R, .Rmd)\n",
    "* Tidyverse & ggplot\n",
    "    * For additional reading, see <a href='https://r4ds.had.co.nz/'>R for Data Science</a> and <a href=\"https://www.moderndive.com/\">Statistical Inference via Data Science</a>\n",
    "* Play around with a sample dataset\n",
    "\n",
    "### Homework\n",
    "\n",
    "* Submit Assignment #3: <a href=\"https://www.dropbox.com/request/ggV5rAg3J9T0YxpEHLqX\">Data Wrangling</a> (before 10/10, 23:00 MDT)"
   ]
  },
  {
   "cell_type": "markdown",
   "metadata": {},
   "source": [
    "# RStudio\n",
    "\n",
    "* R is a language, RStudio is an Integrated Development Environment (IDE)\n",
    "    * R : RStudio :: Python : Spyder\n",
    "\n",
    "<img src='img/r_vs_rstudio.png' width='600'>\n",
    "\n",
    "## Rmarkdown\n",
    "\n",
    "* .R files --> Basic R scripts written and executed in RStudio\n",
    "* .Rmd files --> RMarkdown files merging markdown and code chunks (similar to Jupyter)"
   ]
  },
  {
   "cell_type": "markdown",
   "metadata": {},
   "source": [
    "# What is `tidyverse`?\n",
    "\n",
    "## Definition\n",
    "\n",
    "* Set of R packages\n",
    "    * Includes ggplot, dplyr, tidyr, etc.\n",
    "* All packages share an underlying design philosophy, grammar, and data structures.\n",
    "    * <a href=\"https://www.tidyverse.org\">For more info</a>\n",
    "    \n",
    "## Why do I use it?\n",
    "\n",
    "* ggplot\n",
    "* Most of the inferential modeling I do is in R\n",
    "    * Nearly all of these modeling functions play nicely with tidy data frames\n"
   ]
  },
  {
   "cell_type": "markdown",
   "metadata": {},
   "source": [
    "# Wading into the tidyverse...\n",
    "\n",
    "## Reading in and interpreting a simple dataset\n",
    "\n",
    "* Dataset contains the body mass index (BMI) of 1786 people, together with the number of steps each of them took on a particular day.\n",
    "* Stored in two files: one for chronic stroke patients, one for age-matched controls.\n",
    "\n",
    "## Step #1:\n",
    "* Reading in the data\n",
    "    * Coding diagnosis as a variable\n",
    "    * Merging the data frames"
   ]
  },
  {
   "cell_type": "code",
   "execution_count": null,
   "metadata": {},
   "outputs": [],
   "source": []
  },
  {
   "cell_type": "code",
   "execution_count": null,
   "metadata": {},
   "outputs": [],
   "source": []
  },
  {
   "cell_type": "code",
   "execution_count": null,
   "metadata": {},
   "outputs": [],
   "source": []
  },
  {
   "cell_type": "markdown",
   "metadata": {},
   "source": [
    "## Step #2:\n",
    "* Testing whether there is a statistically significant difference in the average number of steps taken by controls and patients\n",
    "    * Run a t-test\n",
    "    * Plot in a boxplot"
   ]
  },
  {
   "cell_type": "code",
   "execution_count": null,
   "metadata": {},
   "outputs": [],
   "source": []
  },
  {
   "cell_type": "markdown",
   "metadata": {},
   "source": [
    "## Step #3:\n",
    "* Testing that there is a negative correlation between the number of steps and the BMI for stroke patients\n",
    "    * Run a cor test"
   ]
  },
  {
   "cell_type": "code",
   "execution_count": null,
   "metadata": {},
   "outputs": [],
   "source": []
  },
  {
   "cell_type": "markdown",
   "metadata": {},
   "source": [
    "## Step #4:\n",
    "* Testing that there is also a negative correlation between steps and BMI in controls\n",
    "    * Run a cor test"
   ]
  },
  {
   "cell_type": "code",
   "execution_count": null,
   "metadata": {},
   "outputs": [],
   "source": []
  },
  {
   "cell_type": "markdown",
   "metadata": {},
   "source": [
    "# Step #5:\n",
    "\n",
    "* Visualizing the data"
   ]
  },
  {
   "cell_type": "code",
   "execution_count": null,
   "metadata": {},
   "outputs": [],
   "source": []
  },
  {
   "cell_type": "markdown",
   "metadata": {},
   "source": [
    "# Lesson: Step #5 should've been Step #1\n",
    "\n",
    "# Example courtesy:\n",
    "\n",
    "* Yanai, I., & Lercher, M. (2020). <a href='https://genomebiology.biomedcentral.com/articles/10.1186/s13059-020-02133-w'>A hypothesis is a liability.</a>"
   ]
  },
  {
   "cell_type": "code",
   "execution_count": null,
   "metadata": {},
   "outputs": [],
   "source": []
  }
 ],
 "metadata": {
  "kernelspec": {
   "display_name": "R",
   "language": "R",
   "name": "ir"
  },
  "language_info": {
   "codemirror_mode": "r",
   "file_extension": ".r",
   "mimetype": "text/x-r-source",
   "name": "R",
   "pygments_lexer": "r",
   "version": "4.3.1"
  }
 },
 "nbformat": 4,
 "nbformat_minor": 4
}
