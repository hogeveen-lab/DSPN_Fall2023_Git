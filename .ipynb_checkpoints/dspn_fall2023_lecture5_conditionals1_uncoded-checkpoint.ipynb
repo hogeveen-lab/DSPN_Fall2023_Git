{
 "cells": [
  {
   "cell_type": "markdown",
   "metadata": {},
   "source": [
    "# Data Science in Psychology & Neuroscience (DSPN): \n",
    "\n",
    "## Lecture 5. Conditionals Part 1\n",
    "\n",
    "### Date: September 5, 2023\n",
    "\n",
    "### To-Dos From Last Class:\n",
    "\n",
    "* Submit Assignment #1: <a href=\"https://www.dropbox.com/request/RUvKEcp8laBnLs8jarrF\">Oscillator</a> (before 9/7, 23:00 MDT)\n",
    "\n",
    "### Today:\n",
    "\n",
    "* wrapping up _iteration_\n",
    "* if\n",
    "* elif\n",
    "* else\n",
    "* Multiple criteria (Boolean operators)\n",
    "* Conditionals+iterations\n",
    "\n",
    "### Homework\n",
    "\n",
    "* Practice practice practice (<a href=\"https://www.w3resource.com/python-exercises/python-conditional-statements-and-loop-exercises.php\">e.g.</a>)"
   ]
  },
  {
   "cell_type": "markdown",
   "metadata": {},
   "source": [
    "## Write a python code to count from 0 to 20 in steps of 0.05. Plot it."
   ]
  },
  {
   "cell_type": "code",
   "execution_count": 2,
   "metadata": {},
   "outputs": [],
   "source": [
    "# preamble\n",
    "import matplotlib.pyplot as plt\n",
    "lst = []\n",
    "start = 0\n",
    "end = 20\n",
    "increment = 0.05\n",
    "\n",
    "# iterating in a while loop\n",
    "while start <= end:\n",
    "    lst.append(round(start,2))\n",
    "    start += increment"
   ]
  },
  {
   "cell_type": "code",
   "execution_count": 3,
   "metadata": {},
   "outputs": [
    {
     "data": {
      "image/png": "[encoded data removed]",
      "text/plain": [
       "<Figure size 432x288 with 1 Axes>"
      ]
     },
     "metadata": {
      "needs_background": "light"
     },
     "output_type": "display_data"
    }
   ],
   "source": [
    "# plotting the line\n",
    "plt.plot(lst)\n",
    "plt.show()"
   ]
  },
  {
   "cell_type": "markdown",
   "metadata": {},
   "source": [
    "# Conditionals: IF\n",
    "\n",
    "* __IF__ statements check for a condition, and only execute a set of code if the condition is _True_.\n",
    "    * What type of logic is this?\n",
    "* Boolean logic: \n",
    "    * Based on Boolean algebra, foundation of digital tech and all programming languages\n",
    "    * Boolean algebra evaluates the truth value of a given statement\n",
    "* Can use __IF__ in isolation when you want a _single_ output solution.\n",
    "    * If true, do this\n",
    "    * Otherwise, do nothing"
   ]
  },
  {
   "cell_type": "code",
   "execution_count": 8,
   "metadata": {},
   "outputs": [
    {
     "name": "stdout",
     "output_type": "stream",
     "text": [
      "I made it here :)\n"
     ]
    }
   ],
   "source": [
    "condition = True\n",
    "\n",
    "if condition:\n",
    "    print('I made it here :)')"
   ]
  },
  {
   "cell_type": "code",
   "execution_count": 11,
   "metadata": {},
   "outputs": [
    {
     "name": "stdout",
     "output_type": "stream",
     "text": [
      "we made it here!\n"
     ]
    }
   ],
   "source": [
    "dataframe_length = 15360\n",
    "\n",
    "participants = 64\n",
    "trialcount = 240\n",
    "\n",
    "if (participants * trialcount) == dataframe_length:\n",
    "    print('we made it here!')"
   ]
  },
  {
   "cell_type": "code",
   "execution_count": 15,
   "metadata": {},
   "outputs": [
    {
     "name": "stdout",
     "output_type": "stream",
     "text": [
      "the marriage will last!\n"
     ]
    }
   ],
   "source": [
    "favorite_tv = ['the_wire','breaking_bad','ithinkyoushouldleave','community']\n",
    "wifes_favorite = 'ithinkyoushouldleave'\n",
    "\n",
    "if wifes_favorite in favorite_tv:\n",
    "    print('the marriage will last!')"
   ]
  },
  {
   "cell_type": "markdown",
   "metadata": {},
   "source": [
    "# Conditionals: ELSE\n",
    "\n",
    "* __ELSE__ statements always appear after an __IF__, and explicitly define an alternative action plan. \n",
    "* A simple __IF then ELSE__ sequence is useful if you are looking for a solution with _two_ possible outputs."
   ]
  },
  {
   "cell_type": "code",
   "execution_count": 16,
   "metadata": {},
   "outputs": [
    {
     "name": "stdout",
     "output_type": "stream",
     "text": [
      "this other part ran\n"
     ]
    }
   ],
   "source": [
    "condition = False\n",
    "\n",
    "if condition:\n",
    "    print('this part ran')\n",
    "else:\n",
    "    print('this other part ran')"
   ]
  },
  {
   "cell_type": "code",
   "execution_count": 17,
   "metadata": {},
   "outputs": [
    {
     "name": "stdout",
     "output_type": "stream",
     "text": [
      "we are doomed!\n"
     ]
    }
   ],
   "source": [
    "favorite_tv = ['the_wire','breaking_bad','ithinkyoushouldleave','community']\n",
    "wifes_favorite = 'the_office'\n",
    "\n",
    "if wifes_favorite in favorite_tv:\n",
    "    print('the marriage will last!')\n",
    "else:\n",
    "    print('we are doomed!')\n",
    "        "
   ]
  },
  {
   "cell_type": "markdown",
   "metadata": {},
   "source": [
    "# Conditionals: ELIF\n",
    "\n",
    "* When the solution requires >2 possible outputs, any number of __ELIF__ (aka __ELSEIF__ in MATLAB, __ELSE IF__ in R) statements can be chained together _after_ an __IF__.\n",
    "* A subsequent __ELSE__ is not required, but if you leave it out then the code will return nothing if both __IF__ and __ELIF__ are not _True_.\n",
    "* __ELIF__ after __ELSE__ does not make sense.\n"
   ]
  },
  {
   "cell_type": "code",
   "execution_count": 22,
   "metadata": {},
   "outputs": [
    {
     "name": "stdout",
     "output_type": "stream",
     "text": [
      "doomed!\n"
     ]
    }
   ],
   "source": [
    "favorite_tv = ['the_wire','breaking_bad','ithinkyoushouldleave','community']\n",
    "pretty_enjoyable = ['the_office','daily_show','top_chef']\n",
    "wifes_favorite = 'blah'\n",
    "\n",
    "if wifes_favorite in favorite_tv:\n",
    "    print('the marriage will last!')\n",
    "elif wifes_favorite in pretty_enjoyable:\n",
    "    print('we have a chance!')\n",
    "# elif (wifes_favorite not in favorite_tv) and (wifes_favorite not in pretty_enjoyable):\n",
    "else:\n",
    "    print('doomed!')"
   ]
  },
  {
   "cell_type": "markdown",
   "metadata": {},
   "source": [
    "# Multiple criteria to be satisfied (add Boolean operators)\n",
    "\n",
    "* When using these, think how you use Google search \n",
    "    * \"meatloaf\" AND \"beyond meat\"\n",
    "    * \"meatloaf\" OR \"beef wellington\"\n",
    "    * \"meatloaf\" NOT \"thyme\"\n",
    "* __AND__ can be used when multiple criteria must be satisfied to return a given output."
   ]
  },
  {
   "cell_type": "code",
   "execution_count": 25,
   "metadata": {},
   "outputs": [
    {
     "name": "stdout",
     "output_type": "stream",
     "text": [
      "current participant group is: TD\n"
     ]
    }
   ],
   "source": [
    "anx_dx = 0\n",
    "asd_dx = 0\n",
    "\n",
    "if anx_dx == 1 and asd_dx == 1:\n",
    "    Group = \"Comorbid\"\n",
    "elif anx_dx == 1 and asd_dx == 0:\n",
    "    Group = \"Anxiety\"\n",
    "elif anx_dx == 0 and asd_dx == 1:\n",
    "    Group = \"Autism\"\n",
    "else:\n",
    "    Group = \"TD\"\n",
    "    \n",
    "print('current participant group is:',Group)"
   ]
  },
  {
   "cell_type": "markdown",
   "metadata": {},
   "source": [
    "* __OR__ can be used when any of the listed criteria can be satisfied to return a given output."
   ]
  },
  {
   "cell_type": "code",
   "execution_count": 27,
   "metadata": {},
   "outputs": [
    {
     "name": "stdout",
     "output_type": "stream",
     "text": [
      "current participant group is: Clinical\n"
     ]
    }
   ],
   "source": [
    "anx_dx = 1\n",
    "asd_dx = 0\n",
    "\n",
    "if anx_dx == 1 or asd_dx == 1:\n",
    "    Group = \"Clinical\"\n",
    "else:\n",
    "    Group = \"Nonclinical\"\n",
    "    \n",
    "print('current participant group is:',Group)"
   ]
  },
  {
   "cell_type": "markdown",
   "metadata": {},
   "source": [
    "* __NOT__ can be used when you'd like to exclude an alternative."
   ]
  },
  {
   "cell_type": "code",
   "execution_count": 29,
   "metadata": {},
   "outputs": [
    {
     "name": "stdout",
     "output_type": "stream",
     "text": [
      "this line ran\n"
     ]
    }
   ],
   "source": [
    "if wifes_favorite == 'blah' and not asd_dx == 1:\n",
    "    print('this line ran')"
   ]
  },
  {
   "cell_type": "markdown",
   "metadata": {},
   "source": [
    "# Conditional expressions within a FOR loop\n",
    "\n",
    "* Sometimes, you might want to iterate over something and make decisions as you go\n",
    "\n",
    "__E.g. 1: print all integers from 0 to 10, except for 2 and 6__"
   ]
  },
  {
   "cell_type": "code",
   "execution_count": 37,
   "metadata": {},
   "outputs": [
    {
     "name": "stdout",
     "output_type": "stream",
     "text": [
      "0\n",
      "1\n",
      "3\n",
      "4\n",
      "5\n",
      "7\n",
      "8\n",
      "9\n",
      "10\n"
     ]
    }
   ],
   "source": [
    "for i in range(11):\n",
    "    if i != 2 and i != 6:\n",
    "        print(i)"
   ]
  },
  {
   "cell_type": "markdown",
   "metadata": {},
   "source": [
    "__E.g. 2: create two random 10-number integer arrays from 0-100. For each pair of integers, if they are both over or under 50 return the number 1, otherwise return 0__"
   ]
  },
  {
   "cell_type": "code",
   "execution_count": 44,
   "metadata": {},
   "outputs": [
    {
     "ename": "NameError",
     "evalue": "name 'resul' is not defined",
     "output_type": "error",
     "traceback": [
      "\u001b[0;31m---------------------------------------------------------------------------\u001b[0m",
      "\u001b[0;31mNameError\u001b[0m                                 Traceback (most recent call last)",
      "\u001b[0;32m<ipython-input-44-4963aa96356e>\u001b[0m in \u001b[0;36m<module>\u001b[0;34m\u001b[0m\n\u001b[1;32m     10\u001b[0m     \u001b[0;32mif\u001b[0m \u001b[0marr1\u001b[0m\u001b[0;34m[\u001b[0m\u001b[0mi\u001b[0m\u001b[0;34m]\u001b[0m \u001b[0;34m<\u001b[0m \u001b[0mmidpoint\u001b[0m \u001b[0;32mand\u001b[0m \u001b[0marr2\u001b[0m\u001b[0;34m[\u001b[0m\u001b[0mi\u001b[0m\u001b[0;34m]\u001b[0m \u001b[0;34m<\u001b[0m \u001b[0mmidpoint\u001b[0m\u001b[0;34m:\u001b[0m\u001b[0;34m\u001b[0m\u001b[0;34m\u001b[0m\u001b[0m\n\u001b[1;32m     11\u001b[0m         \u001b[0mresult\u001b[0m \u001b[0;34m=\u001b[0m \u001b[0;36m1\u001b[0m\u001b[0;34m\u001b[0m\u001b[0;34m\u001b[0m\u001b[0m\n\u001b[0;32m---> 12\u001b[0;31m         \u001b[0mresul\u001b[0m\u001b[0;34m\u001b[0m\u001b[0;34m\u001b[0m\u001b[0m\n\u001b[0m",
      "\u001b[0;31mNameError\u001b[0m: name 'resul' is not defined"
     ]
    }
   ],
   "source": [
    "#preamble\n",
    "import numpy as np\n",
    "arr1 = np.random.randint(0,100,size=10)\n",
    "arr2 = np.random.randint(0,100,size=10)\n",
    "result_array = np.array([])\n",
    "midpoint = 50\n",
    "\n",
    "# iterating over arrays\n",
    "for i in range(0,len(arr1)):\n",
    "    if arr1[i] < midpoint and arr2[i] < midpoint:\n",
    "        result = 1\n",
    "        result_array = np.append(result_array,result)"
   ]
  },
  {
   "cell_type": "code",
   "execution_count": null,
   "metadata": {},
   "outputs": [],
   "source": []
  }
 ],
 "metadata": {
  "kernelspec": {
   "display_name": "Python 3",
   "language": "python",
   "name": "python3"
  },
  "language_info": {
   "codemirror_mode": {
    "name": "ipython",
    "version": 3
   },
   "file_extension": ".py",
   "mimetype": "text/x-python",
   "name": "python",
   "nbconvert_exporter": "python",
   "pygments_lexer": "ipython3",
   "version": "3.8.8"
  }
 },
 "nbformat": 4,
 "nbformat_minor": 4
}
