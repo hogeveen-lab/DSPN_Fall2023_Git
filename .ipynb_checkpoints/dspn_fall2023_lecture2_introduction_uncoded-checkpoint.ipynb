{
 "cells": [
  {
   "cell_type": "markdown",
   "metadata": {},
   "source": [
    "# Data Science in Psychology & Neuroscience (DSPN): \n",
    "\n",
    "## Lecture 2. Introduction, continued\n",
    "\n",
    "### Date: August 24, 2023\n",
    "\n",
    "### To-Dos From Last Class:\n",
    "\n",
    "* Anaconda installation\n",
    "\n",
    "### Today:\n",
    "\n",
    "* Coding style and working in Jupyter\n",
    "* Create Jupyter Notebook and start programming\n",
    "\n",
    "### Homework:\n",
    "\n",
    "* Enjoy life!\n"
   ]
  },
  {
   "cell_type": "markdown",
   "metadata": {},
   "source": [
    "# Coding Style\n",
    "\n",
    "<img src=\"img/readable_code.png\">"
   ]
  },
  {
   "cell_type": "markdown",
   "metadata": {},
   "source": [
    "## What is it?\n",
    "* How YOUR code looks\n",
    "    * Analogous to formatting preferences in Word docs\n",
    "    * Differs person-to-person"
   ]
  },
  {
   "cell_type": "markdown",
   "metadata": {},
   "source": [
    "* Things to consider\n",
    "    1. Comments\n",
    "        * Be succinct, but too much often better than not enough"
   ]
  },
  {
   "cell_type": "code",
   "execution_count": 2,
   "metadata": {},
   "outputs": [
    {
     "name": "stdin",
     "output_type": "stream",
     "text": [
      " 6\n"
     ]
    },
    {
     "name": "stdout",
     "output_type": "stream",
     "text": [
      "your number times 10 is= 60\n"
     ]
    }
   ],
   "source": [
    "# Here is a single-line comment\n",
    "\n",
    "# this code takes an input integer, multiplies by 10, prints\n",
    "x = input()\n",
    "print(\"your number times 10 is=\",int(x)*10)"
   ]
  },
  {
   "cell_type": "code",
   "execution_count": 3,
   "metadata": {},
   "outputs": [
    {
     "name": "stdin",
     "output_type": "stream",
     "text": [
      " 6\n"
     ]
    },
    {
     "name": "stdout",
     "output_type": "stream",
     "text": [
      "your number times 10 is= 60\n"
     ]
    }
   ],
   "source": [
    "\"\"\"\n",
    "Sometimes, we have lots to say\n",
    "In these cases,we may feel the need to include multiple lines of \n",
    "text explaining our lovely code \n",
    "which multiplies input * 10.\n",
    "\"\"\"\n",
    "x = input()\n",
    "print(\"your number times 10 is=\",int(x)*10)"
   ]
  },
  {
   "cell_type": "markdown",
   "metadata": {},
   "source": [
    "2. Indentation\n",
    "    * Tabs or spaces?"
   ]
  },
  {
   "cell_type": "code",
   "execution_count": 4,
   "metadata": {},
   "outputs": [
    {
     "name": "stdout",
     "output_type": "stream",
     "text": [
      "this is a tab indent\n"
     ]
    }
   ],
   "source": [
    "x = 10\n",
    "if x % 2 == 0:\n",
    "    print(\"this is a tab indent\")"
   ]
  },
  {
   "cell_type": "code",
   "execution_count": 6,
   "metadata": {},
   "outputs": [
    {
     "name": "stdout",
     "output_type": "stream",
     "text": [
      "this is a four space indent\n"
     ]
    }
   ],
   "source": [
    "x = 10\n",
    "if x % 2 == 0:\n",
    "    print(\"this is a four space indent\")"
   ]
  },
  {
   "cell_type": "markdown",
   "metadata": {},
   "source": [
    "3. Naming variables and functions\n",
    "    * camelCase vs. under_scores? \n",
    "    * Common logic for id'ing variables, data frames, plots, and models"
   ]
  },
  {
   "cell_type": "code",
   "execution_count": null,
   "metadata": {},
   "outputs": [],
   "source": [
    "reactionTime = 'RT in camelCase'"
   ]
  },
  {
   "cell_type": "code",
   "execution_count": null,
   "metadata": {},
   "outputs": [],
   "source": [
    "reaction_time = \"RT with underscores\""
   ]
  },
  {
   "cell_type": "code",
   "execution_count": null,
   "metadata": {},
   "outputs": [],
   "source": [
    "name = \"variable name\"\n",
    "df_name = \"object prefix for data frames\"\n",
    "m_name = \"object prefix for inferential / predictive models.\"\n",
    "p_names = \" for plot names...\""
   ]
  },
  {
   "cell_type": "markdown",
   "metadata": {},
   "source": [
    "4. Consistency is key"
   ]
  },
  {
   "cell_type": "code",
   "execution_count": 7,
   "metadata": {},
   "outputs": [
    {
     "name": "stdout",
     "output_type": "stream",
     "text": [
      "this is a tab indent\n",
      "this is a five space indent\n"
     ]
    }
   ],
   "source": [
    "\"\"\"\n",
    "For example, jupyter lab doesn't mind inconsistent indenting.\n",
    "the below would return an error in other Python IDEs.\n",
    "\"\"\"\n",
    "x = 10\n",
    "if x % 2 == 0:\n",
    "    print('this is a tab indent')\n",
    "    \n",
    "if x % 2 == 0:\n",
    "     print('this is a five space indent')"
   ]
  },
  {
   "cell_type": "markdown",
   "metadata": {},
   "source": [
    "## Overarching principle: Code should be written to minimize the time it would take for someone else— including __future you__ —to understand it."
   ]
  },
  {
   "cell_type": "markdown",
   "metadata": {},
   "source": [
    "## Cells\n",
    "\n",
    "__Sections of code__\n",
    "* Analogous to paragraphs or paper sections\n",
    "* Used in MATLAB <%%>, Python <#%%>, and RMarkDown <```>"
   ]
  },
  {
   "cell_type": "markdown",
   "metadata": {},
   "source": [
    "## Jupyter Cells\n",
    "\n",
    "* Markdown (what this is)\n",
    "    * A _way_ to __specify__ all ___formatting___ within the text itself\n",
    "* Code (cell where you run actual Python code)\n",
    "\n",
    "## Markdown Formatting Tips\n",
    "\n",
    "## Header levels...\n",
    "### ...are...\n",
    "#### ...specified...\n",
    "##### ...using...\n",
    "###### ...pound signs.\n",
    "\n",
    "* Can do bulleted lists using asterisks:\n",
    "    * tabbing to indent subsequent levels\n",
    "        * as many times as you need\n",
    "* back to level one\n",
    "\n",
    "1. Can also do numbered lists \n",
    "2. Number, period, space then your entry\n",
    "    1. Designate subpoints by tabbing + restarting enumeration\n",
    "3. Continue original list\n",
    "\n",
    "Here is a <a href=\"https://medium.com/ibm-data-science-experience/markdown-for-jupyter-notebooks-cheatsheet-386c05aeebed\">cheatsheet</a> with a bunch of other Markdown formatting stuff."
   ]
  },
  {
   "cell_type": "markdown",
   "metadata": {},
   "source": [
    "## Web browser\n",
    "* Jupyter coding happens in a browser\n",
    "    * But, it is __not__ on the web.\n",
    "        * Do not send me the path at the top of your Jupyter notebook for your assignments!\n",
    "* Exporting and sharing jupyter notebooks\n",
    "    * Export to HTML or PDF to send via Email / Slack / etc.\n",
    "    * Push to Github and work on shared code base across lab."
   ]
  },
  {
   "cell_type": "markdown",
   "metadata": {},
   "source": [
    "# Objects\n",
    "\n",
    "* Python is an \"object-oriented\" programming language\n",
    "    * For example: Variables, lists"
   ]
  },
  {
   "cell_type": "code",
   "execution_count": 11,
   "metadata": {},
   "outputs": [
    {
     "name": "stdout",
     "output_type": "stream",
     "text": [
      "your first variable equals: 9\n"
     ]
    }
   ],
   "source": [
    "variable = 9\n",
    "print('your first variable equals:',9)"
   ]
  },
  {
   "cell_type": "markdown",
   "metadata": {},
   "source": [
    "* Variables are most often __integers__, __floats__, or __strings__"
   ]
  },
  {
   "cell_type": "code",
   "execution_count": 12,
   "metadata": {},
   "outputs": [
    {
     "name": "stdout",
     "output_type": "stream",
     "text": [
      "pi is equal to: 3.14 which is approximately 3\n"
     ]
    }
   ],
   "source": [
    "floating_point_number = 3.14\n",
    "integer = 3\n",
    "string = 'pi'\n",
    "print(string,'is equal to:',floating_point_number,'which is approximately',integer)"
   ]
  },
  {
   "cell_type": "markdown",
   "metadata": {},
   "source": [
    "* Multiple variables can be assigned at once in Python"
   ]
  },
  {
   "cell_type": "code",
   "execution_count": 13,
   "metadata": {},
   "outputs": [
    {
     "name": "stdout",
     "output_type": "stream",
     "text": [
      "3\n"
     ]
    }
   ],
   "source": [
    "multi, variable, line = floating_point_number, integer, string\n",
    "\n",
    "print(variable)"
   ]
  },
  {
   "cell_type": "markdown",
   "metadata": {},
   "source": [
    "* __Mathematical operators__ can be applied to numerical variables\n",
    "    * Order of operations follows __B() E** D/ M* A+ S-__"
   ]
  },
  {
   "cell_type": "code",
   "execution_count": 14,
   "metadata": {},
   "outputs": [
    {
     "name": "stdout",
     "output_type": "stream",
     "text": [
      "your first math solution is: 1.125\n"
     ]
    }
   ],
   "source": [
    "variable_2 = 6\n",
    "math_answer = (variable_2 - variable) ** 2 / 8\n",
    "print('your first math solution is:',math_answer)"
   ]
  },
  {
   "cell_type": "markdown",
   "metadata": {},
   "source": [
    "* There are some cool division tricks...\n",
    "    * if you want to round to the nearest integer do '//'\n",
    "    * if you want the remainder after rounding, do '%'"
   ]
  },
  {
   "cell_type": "code",
   "execution_count": 16,
   "metadata": {},
   "outputs": [
    {
     "name": "stdout",
     "output_type": "stream",
     "text": [
      "the anwer rounded to the nearst integer 1\n",
      "the remainder is 1\n"
     ]
    }
   ],
   "source": [
    "math_answer_2 = (variable_2 - variable) ** 2 // 8\n",
    "\n",
    "print('the anwer rounded to the nearst integer',math_answer_2)\n",
    "\n",
    "math_answer_3 = (variable_2 - variable) ** 2 % 8\n",
    "\n",
    "print('the remainder is',math_answer_3)"
   ]
  },
  {
   "cell_type": "markdown",
   "metadata": {},
   "source": [
    "* Python objects might also be __collections__ (e.g. data frames or lists)"
   ]
  },
  {
   "cell_type": "code",
   "execution_count": 17,
   "metadata": {},
   "outputs": [
    {
     "name": "stdout",
     "output_type": "stream",
     "text": [
      "here is your first list : [-96, -66, -87, 86, -25, 24, 59, -99, 59]\n"
     ]
    }
   ],
   "source": [
    "list_1 = [-96,-66,-87,86,-25,24,59,-99,59]\n",
    "print('here is your first list :',list_1)"
   ]
  },
  {
   "cell_type": "markdown",
   "metadata": {},
   "source": [
    "* Python objects might also be __plots__\n",
    "    * Won't get into this yet..."
   ]
  },
  {
   "cell_type": "markdown",
   "metadata": {},
   "source": [
    "### Write a code that prints \"Hello World!\""
   ]
  },
  {
   "cell_type": "code",
   "execution_count": 22,
   "metadata": {},
   "outputs": [
    {
     "name": "stdout",
     "output_type": "stream",
     "text": [
      "\"Hello World!\"\n",
      "Hello World!\n"
     ]
    }
   ],
   "source": [
    "print(\"\\\"Hello World!\\\"\")\n",
    "\n",
    "# fancier\n",
    "first_word = \"Hello\"\n",
    "second_word = \"World!\"\n",
    "print(first_word,second_word)"
   ]
  },
  {
   "cell_type": "markdown",
   "metadata": {},
   "source": [
    "### Packages, sub-packages, and modules\n",
    "\n",
    "* A ton of __packages__ have been developed\n",
    "    * Some of them general purpose (e.g. Numpy, Pandas)\n",
    "    * Some of them psych / neuro specific (e.g. psychopy, pygaze, MNE, Nipype, Brian, SPySort, etc etc etc)\n",
    "* Those packages contain \"sub-packages\" which do a set of related things\n",
    "* There are then individual \"modules\" or \"functions\" that do the stuff we want to do in Python\n",
    "\n",
    "<img src=\"img/package_module.png\" width=\"450\">\n",
    "\n",
    "### E.g. use numpy to generate random list of integers between 0 and 100"
   ]
  },
  {
   "cell_type": "code",
   "execution_count": 39,
   "metadata": {},
   "outputs": [
    {
     "name": "stdout",
     "output_type": "stream",
     "text": [
      "[11 70 42 85 37 41 81 52 53 31]\n"
     ]
    }
   ],
   "source": [
    "## this is the package call\n",
    "# import numpy\n",
    "# list_1 = numpy.random.randint(0,100,size=10)\n",
    "# print(list_1)\n",
    "\n",
    "## this is the abbreviated package call\n",
    "# import numpy as np\n",
    "# list_1 = np.random.randint(0,100,size=10)\n",
    "# print(list_1)\n",
    "\n",
    "# ## just loading in the random sub-package\n",
    "# from numpy import random\n",
    "# list_1 = random.randint(0,100,size=10)\n",
    "# print(list_1)\n",
    "\n",
    "## just loading in the random sub-package\n",
    "from numpy import random as npr\n",
    "list_1 = npr.randint(0,100,size=10)\n",
    "print(list_1)"
   ]
  },
  {
   "cell_type": "markdown",
   "metadata": {},
   "source": [
    "__If you forget how to use a subpackage or module...__\n",
    "\n",
    "<img src=\"img/m_baxter.png\" width=400>\n",
    "\n",
    "__Or...__"
   ]
  },
  {
   "cell_type": "code",
   "execution_count": 40,
   "metadata": {},
   "outputs": [
    {
     "data": {
      "text/plain": [
       "\u001b[0;31mType:\u001b[0m        module\n",
       "\u001b[0;31mString form:\u001b[0m <module 'numpy.random' from '/Users/jeremyhogeveen/opt/anaconda3/lib/python3.8/site-packages/numpy/random/__init__.py'>\n",
       "\u001b[0;31mFile:\u001b[0m        ~/opt/anaconda3/lib/python3.8/site-packages/numpy/random/__init__.py\n",
       "\u001b[0;31mDocstring:\u001b[0m  \n",
       "========================\n",
       "Random Number Generation\n",
       "========================\n",
       "\n",
       "Use ``default_rng()`` to create a `Generator` and call its methods.\n",
       "\n",
       "=============== =========================================================\n",
       "Generator\n",
       "--------------- ---------------------------------------------------------\n",
       "Generator       Class implementing all of the random number distributions\n",
       "default_rng     Default constructor for ``Generator``\n",
       "=============== =========================================================\n",
       "\n",
       "============================================= ===\n",
       "BitGenerator Streams that work with Generator\n",
       "--------------------------------------------- ---\n",
       "MT19937\n",
       "PCG64\n",
       "Philox\n",
       "SFC64\n",
       "============================================= ===\n",
       "\n",
       "============================================= ===\n",
       "Getting entropy to initialize a BitGenerator\n",
       "--------------------------------------------- ---\n",
       "SeedSequence\n",
       "============================================= ===\n",
       "\n",
       "\n",
       "Legacy\n",
       "------\n",
       "\n",
       "For backwards compatibility with previous versions of numpy before 1.17, the\n",
       "various aliases to the global `RandomState` methods are left alone and do not\n",
       "use the new `Generator` API.\n",
       "\n",
       "==================== =========================================================\n",
       "Utility functions\n",
       "-------------------- ---------------------------------------------------------\n",
       "random               Uniformly distributed floats over ``[0, 1)``\n",
       "bytes                Uniformly distributed random bytes.\n",
       "permutation          Randomly permute a sequence / generate a random sequence.\n",
       "shuffle              Randomly permute a sequence in place.\n",
       "choice               Random sample from 1-D array.\n",
       "==================== =========================================================\n",
       "\n",
       "==================== =========================================================\n",
       "Compatibility\n",
       "functions - removed\n",
       "in the new API\n",
       "-------------------- ---------------------------------------------------------\n",
       "rand                 Uniformly distributed values.\n",
       "randn                Normally distributed values.\n",
       "ranf                 Uniformly distributed floating point numbers.\n",
       "random_integers      Uniformly distributed integers in a given range.\n",
       "                     (deprecated, use ``integers(..., closed=True)`` instead)\n",
       "random_sample        Alias for `random_sample`\n",
       "randint              Uniformly distributed integers in a given range\n",
       "seed                 Seed the legacy random number generator.\n",
       "==================== =========================================================\n",
       "\n",
       "==================== =========================================================\n",
       "Univariate\n",
       "distributions\n",
       "-------------------- ---------------------------------------------------------\n",
       "beta                 Beta distribution over ``[0, 1]``.\n",
       "binomial             Binomial distribution.\n",
       "chisquare            :math:`\\chi^2` distribution.\n",
       "exponential          Exponential distribution.\n",
       "f                    F (Fisher-Snedecor) distribution.\n",
       "gamma                Gamma distribution.\n",
       "geometric            Geometric distribution.\n",
       "gumbel               Gumbel distribution.\n",
       "hypergeometric       Hypergeometric distribution.\n",
       "laplace              Laplace distribution.\n",
       "logistic             Logistic distribution.\n",
       "lognormal            Log-normal distribution.\n",
       "logseries            Logarithmic series distribution.\n",
       "negative_binomial    Negative binomial distribution.\n",
       "noncentral_chisquare Non-central chi-square distribution.\n",
       "noncentral_f         Non-central F distribution.\n",
       "normal               Normal / Gaussian distribution.\n",
       "pareto               Pareto distribution.\n",
       "poisson              Poisson distribution.\n",
       "power                Power distribution.\n",
       "rayleigh             Rayleigh distribution.\n",
       "triangular           Triangular distribution.\n",
       "uniform              Uniform distribution.\n",
       "vonmises             Von Mises circular distribution.\n",
       "wald                 Wald (inverse Gaussian) distribution.\n",
       "weibull              Weibull distribution.\n",
       "zipf                 Zipf's distribution over ranked data.\n",
       "==================== =========================================================\n",
       "\n",
       "==================== ==========================================================\n",
       "Multivariate\n",
       "distributions\n",
       "-------------------- ----------------------------------------------------------\n",
       "dirichlet            Multivariate generalization of Beta distribution.\n",
       "multinomial          Multivariate generalization of the binomial distribution.\n",
       "multivariate_normal  Multivariate generalization of the normal distribution.\n",
       "==================== ==========================================================\n",
       "\n",
       "==================== =========================================================\n",
       "Standard\n",
       "distributions\n",
       "-------------------- ---------------------------------------------------------\n",
       "standard_cauchy      Standard Cauchy-Lorentz distribution.\n",
       "standard_exponential Standard exponential distribution.\n",
       "standard_gamma       Standard Gamma distribution.\n",
       "standard_normal      Standard normal distribution.\n",
       "standard_t           Standard Student's t-distribution.\n",
       "==================== =========================================================\n",
       "\n",
       "==================== =========================================================\n",
       "Internal functions\n",
       "-------------------- ---------------------------------------------------------\n",
       "get_state            Get tuple representing internal state of generator.\n",
       "set_state            Set state of generator.\n",
       "==================== =========================================================\n"
      ]
     },
     "metadata": {},
     "output_type": "display_data"
    }
   ],
   "source": [
    "numpy.random?"
   ]
  },
  {
   "cell_type": "code",
   "execution_count": null,
   "metadata": {},
   "outputs": [],
   "source": []
  }
 ],
 "metadata": {
  "kernelspec": {
   "display_name": "Python 3",
   "language": "python",
   "name": "python3"
  },
  "language_info": {
   "codemirror_mode": {
    "name": "ipython",
    "version": 3
   },
   "file_extension": ".py",
   "mimetype": "text/x-python",
   "name": "python",
   "nbconvert_exporter": "python",
   "pygments_lexer": "ipython3",
   "version": "3.8.8"
  }
 },
 "nbformat": 4,
 "nbformat_minor": 4
}
