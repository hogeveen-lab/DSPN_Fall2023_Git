{
 "cells": [
  {
   "cell_type": "markdown",
   "metadata": {},
   "source": [
    "# Data Science in Psychology & Neuroscience (DSPN): \n",
    "\n",
    "## Lecture 2. Introduction, continued\n",
    "\n",
    "### Date: August 24, 2023\n",
    "\n",
    "### To-Dos From Last Class:\n",
    "\n",
    "* Anaconda installation\n",
    "\n",
    "### Today:\n",
    "\n",
    "* Coding style and working in Jupyter\n",
    "* Create Jupyter Notebook and start programming\n",
    "\n",
    "### Homework:\n",
    "\n",
    "* Enjoy life!\n"
   ]
  },
  {
   "cell_type": "markdown",
   "metadata": {},
   "source": [
    "# Coding Style\n",
    "\n",
    "<img src=\"img/readable_code.png\">"
   ]
  },
  {
   "cell_type": "markdown",
   "metadata": {},
   "source": [
    "## What is it?\n",
    "* How YOUR code looks\n",
    "    * Analogous to formatting preferences in Word docs\n",
    "    * Differs person-to-person"
   ]
  },
  {
   "cell_type": "markdown",
   "metadata": {},
   "source": [
    "* Things to consider\n",
    "    1. Comments\n",
    "        * Be succinct, but too much often better than not enough"
   ]
  },
  {
   "cell_type": "code",
   "execution_count": 9,
   "metadata": {},
   "outputs": [
    {
     "name": "stdin",
     "output_type": "stream",
     "text": [
      " 10\n"
     ]
    },
    {
     "name": "stdout",
     "output_type": "stream",
     "text": [
      "your number times 10 is = 100\n"
     ]
    }
   ],
   "source": [
    "# Here is a single-line comment.\n",
    "\n",
    "# This code takes input integer, multiplies by 10, prints output.\n",
    "x = input()\n",
    "print(\"your number times 10 is =\",int(x)*10)"
   ]
  },
  {
   "cell_type": "code",
   "execution_count": 11,
   "metadata": {},
   "outputs": [
    {
     "name": "stdin",
     "output_type": "stream",
     "text": [
      " 10\n"
     ]
    },
    {
     "name": "stdout",
     "output_type": "stream",
     "text": [
      "your number times 10 is = 100\n"
     ]
    }
   ],
   "source": [
    "\"\"\"\n",
    "Sometimes, we have lots to say.\n",
    "In these cases,we may feel the need to include multiple lines of \n",
    "text explaining our lovely code \n",
    "which multiplies input * 10.\n",
    "\"\"\"\n",
    "x = input()\n",
    "print(\"your number times 10 is =\",int(x)*10)"
   ]
  },
  {
   "cell_type": "markdown",
   "metadata": {},
   "source": [
    "2. Indentation\n",
    "    * Tabs or spaces?"
   ]
  },
  {
   "cell_type": "code",
   "execution_count": 17,
   "metadata": {},
   "outputs": [
    {
     "name": "stdout",
     "output_type": "stream",
     "text": [
      "this is a tab indent\n"
     ]
    }
   ],
   "source": [
    "x = 10\n",
    "if x % 2 == 0:\n",
    "    print('this is a tab indent')"
   ]
  },
  {
   "cell_type": "code",
   "execution_count": 18,
   "metadata": {},
   "outputs": [
    {
     "name": "stdout",
     "output_type": "stream",
     "text": [
      "this is a four space indent\n"
     ]
    }
   ],
   "source": [
    "x = 10\n",
    "if x % 2 == 0:\n",
    "    print('this is a four space indent')"
   ]
  },
  {
   "cell_type": "markdown",
   "metadata": {},
   "source": [
    "3. Naming variables and functions\n",
    "    * camelCase vs. under_scores? \n",
    "    * Common logic for id'ing variables, data frames, plots, and models"
   ]
  },
  {
   "cell_type": "code",
   "execution_count": 24,
   "metadata": {},
   "outputs": [],
   "source": [
    "reactionTime = \"RT in camelCase\""
   ]
  },
  {
   "cell_type": "code",
   "execution_count": 25,
   "metadata": {},
   "outputs": [],
   "source": [
    "reaction_time = \"RT in under_score\""
   ]
  },
  {
   "cell_type": "code",
   "execution_count": 26,
   "metadata": {},
   "outputs": [],
   "source": [
    "name = \"variable name.\"\n",
    "df_name = \"object prefix for data frames.\"\n",
    "m_name = \"object prefix for inferential/predictive models.\"\n",
    "p_name = \"object prefix for plots / visualizations.\""
   ]
  },
  {
   "cell_type": "markdown",
   "metadata": {},
   "source": [
    "4. Consistency is key"
   ]
  },
  {
   "cell_type": "code",
   "execution_count": null,
   "metadata": {},
   "outputs": [],
   "source": [
    "\"\"\"\n",
    "For example, juputer lab doesn't mind inconsistent indenting.\n",
    "the below would return an error in other Python IDEs.\n",
    "\"\"\"\n",
    "x = 10\n",
    "if x % 2 == 0:\n",
    "    print('this is a tab indent')\n",
    "    \n",
    "if x % 2 == 0:\n",
    "     print('this is a five space indent')"
   ]
  },
  {
   "cell_type": "markdown",
   "metadata": {},
   "source": [
    "## Overarching principle: Code should be written to minimize the time it would take for someone else— including __future you__ —to understand it."
   ]
  },
  {
   "cell_type": "markdown",
   "metadata": {},
   "source": [
    "## Cells\n",
    "\n",
    "__Sections of code__\n",
    "* Analogous to paragraphs or paper sections\n",
    "* Used in MATLAB <%%>, Python <#%%>, and RMarkDown <```>"
   ]
  },
  {
   "cell_type": "markdown",
   "metadata": {},
   "source": [
    "## Jupyter Cells\n",
    "\n",
    "* Markdown (what this is)\n",
    "    * A _way_ to __specify__ all ___formatting___ within the text itself\n",
    "* Code (cell where you run actual Python code)\n",
    "\n",
    "## Markdown Formatting Tips\n",
    "\n",
    "## Header levels...\n",
    "### ...are...\n",
    "#### ...specified...\n",
    "##### ...using...\n",
    "###### ...pound signs.\n",
    "\n",
    "* Can do bulleted lists using asterisks:\n",
    "    * tabbing to indent subsequent levels\n",
    "        * as many times as you need\n",
    "* back to level one\n",
    "\n",
    "1. Can also do numbered lists \n",
    "2. Number, period, space then your entry\n",
    "    1. Designate subpoints by tabbing + restarting enumeration\n",
    "3. Continue original list\n",
    "\n",
    "Here is a <a href=\"https://medium.com/ibm-data-science-experience/markdown-for-jupyter-notebooks-cheatsheet-386c05aeebed\">cheatsheet</a> with a bunch of other Markdown formatting stuff."
   ]
  },
  {
   "cell_type": "markdown",
   "metadata": {},
   "source": [
    "## Web browser\n",
    "* Jupyter coding happens in a browser\n",
    "    * But, it is __not__ on the web.\n",
    "        * Do not send me the path at the top of your Jupyter notebook for your assignments!\n",
    "* Exporting and sharing jupyter notebooks\n",
    "    * Export to HTML or PDF to send via Email / Slack / etc.\n",
    "    * Push to Github and work on shared code base across lab."
   ]
  },
  {
   "cell_type": "markdown",
   "metadata": {},
   "source": [
    "# Objects\n",
    "\n",
    "* Python is an \"object-oriented\" programming language\n",
    "    * For example: Variables, lists"
   ]
  },
  {
   "cell_type": "code",
   "execution_count": 15,
   "metadata": {},
   "outputs": [
    {
     "name": "stdout",
     "output_type": "stream",
     "text": [
      "your first variable equals: 9\n"
     ]
    }
   ],
   "source": [
    "variable = 9\n",
    "print('your first variable equals:',variable)"
   ]
  },
  {
   "cell_type": "markdown",
   "metadata": {},
   "source": [
    "* Variables are most often __integers__, __floats__, or __strings__"
   ]
  },
  {
   "cell_type": "code",
   "execution_count": 27,
   "metadata": {},
   "outputs": [
    {
     "name": "stdout",
     "output_type": "stream",
     "text": [
      "pi is equal to: 3.14 which is approximately 3\n"
     ]
    }
   ],
   "source": [
    "floating_point_number = 3.14\n",
    "integer = 3\n",
    "string = 'pi'\n",
    "print(string,'is equal to:',floating_point_number,'which is approximately', integer)"
   ]
  },
  {
   "cell_type": "markdown",
   "metadata": {},
   "source": [
    "* Multiple variables can be assigned at once in Python"
   ]
  },
  {
   "cell_type": "code",
   "execution_count": 28,
   "metadata": {},
   "outputs": [
    {
     "name": "stdout",
     "output_type": "stream",
     "text": [
      "3.14\n",
      "3\n",
      "pi\n"
     ]
    }
   ],
   "source": [
    "multi, variable, line = floating_point_number, integer, string\n",
    "print(multi)\n",
    "print(variable)\n",
    "print(line)"
   ]
  },
  {
   "cell_type": "markdown",
   "metadata": {},
   "source": [
    "* __Mathematical operators__ can be applied to numerical variables\n",
    "    * Order of operations follows __B() E** D/ M* A+ S-__"
   ]
  },
  {
   "cell_type": "code",
   "execution_count": 39,
   "metadata": {},
   "outputs": [
    {
     "name": "stdout",
     "output_type": "stream",
     "text": [
      "your first mathematical solution is: 1.125\n"
     ]
    }
   ],
   "source": [
    "variable_2 = 6\n",
    "math_answer = (variable_2-variable) ** 2 / 8\n",
    "print('your first mathematical solution is:', math_answer)"
   ]
  },
  {
   "cell_type": "markdown",
   "metadata": {},
   "source": [
    "* There are some cool division tricks...\n",
    "    * if you want to round to the nearest integer do '//'\n",
    "    * if you want the remainder after rounding, do '%'"
   ]
  },
  {
   "cell_type": "code",
   "execution_count": 41,
   "metadata": {},
   "outputs": [
    {
     "name": "stdout",
     "output_type": "stream",
     "text": [
      "the answer is 1 remainder 1\n"
     ]
    }
   ],
   "source": [
    "math_answer_2 = (variable_2-variable) ** 2 // 8 # // to get a rounded integer of the solution\n",
    "remainder = (variable_2-variable)**2 % 8 # % to get the remainder\n",
    "print('the answer is',math_answer_2,'remainder',remainder)"
   ]
  },
  {
   "cell_type": "markdown",
   "metadata": {},
   "source": [
    "* Python objects might also be __collections__ (e.g. data frames or lists)"
   ]
  },
  {
   "cell_type": "code",
   "execution_count": 23,
   "metadata": {},
   "outputs": [
    {
     "name": "stdout",
     "output_type": "stream",
     "text": [
      "here is your first list : [-96, -66, -87, 86, -88, -25, 24, 59, -99, 59]\n"
     ]
    }
   ],
   "source": [
    "list_1 = [-96,-66,-87,86,-88,-25,24,59,-99,59]\n",
    "print('here is your first list :',list_1)"
   ]
  },
  {
   "cell_type": "markdown",
   "metadata": {},
   "source": [
    "* Python objects might also be __plots__\n",
    "    * Won't get into this yet..."
   ]
  },
  {
   "cell_type": "markdown",
   "metadata": {},
   "source": [
    "### Write a code that prints \"Hello World!\""
   ]
  },
  {
   "cell_type": "code",
   "execution_count": 42,
   "metadata": {},
   "outputs": [
    {
     "name": "stdout",
     "output_type": "stream",
     "text": [
      "boring: Hello World! by typing it out\n",
      "fancier: Hello World! by concatenating objects :)\n"
     ]
    }
   ],
   "source": [
    "# boring version -- note: THIS IS A COMMENT. YOU CAN COMMENT OUT ANY LINES BY HIGHLIGHTING AND DOING COMMAND/CTRL+/\n",
    "print('boring: Hello World! by typing it out')\n",
    "\n",
    "# fancier version\n",
    "firstword='Hello'\n",
    "secondword='World!'\n",
    "print('fancier:',firstword,secondword,'by concatenating objects :)')"
   ]
  },
  {
   "cell_type": "markdown",
   "metadata": {},
   "source": [
    "### Packages, sub-packages, and modules\n",
    "\n",
    "* A ton of __packages__ have been developed\n",
    "    * Some of them general purpose (e.g. Numpy, Pandas)\n",
    "    * Some of them psych / neuro specific (e.g. psychopy, pygaze, MNE, Nipype, Brian, SPySort, etc etc etc)\n",
    "* Those packages contain \"sub-packages\" which do a set of related things\n",
    "* There are then individual \"modules\" or \"functions\" that do the stuff we want to do in Python\n",
    "\n",
    "<img src=\"img/package_module.png\" width=\"450\">\n",
    "\n",
    "### E.g. use numpy to generate random list of integers between 0 and 100"
   ]
  },
  {
   "cell_type": "code",
   "execution_count": 28,
   "metadata": {},
   "outputs": [
    {
     "name": "stdout",
     "output_type": "stream",
     "text": [
      "Random integer list: [57 90 86 39 10 97  5  0 97 57]\n"
     ]
    }
   ],
   "source": [
    "import numpy # numpy is a package\n",
    "# import numpy as np\n",
    "# from numpy import random as nprd # random is a sub-package within numpy\n",
    "\n",
    "list_1 = numpy.random.randint(0,100,size=10) # randint is a specific module for generating random lists of integers\n",
    "# list_1 = np.random.randint(0,100,size=10)\n",
    "# list_1 = nprd.randint(0,100,size=10)\n",
    "\n",
    "print(\"Random integer list: \" + str(list_1))"
   ]
  },
  {
   "cell_type": "markdown",
   "metadata": {},
   "source": [
    "__If you forget how to use a subpackage or module...__\n",
    "\n",
    "<img src=\"img/m_baxter.png\" width=400>\n",
    "\n",
    "__Or...__"
   ]
  },
  {
   "cell_type": "code",
   "execution_count": 32,
   "metadata": {},
   "outputs": [],
   "source": [
    "# numpy.random?\n",
    "\n",
    "# numpy.random.randint?"
   ]
  }
 ],
 "metadata": {
  "kernelspec": {
   "display_name": "Python 3",
   "language": "python",
   "name": "python3"
  },
  "language_info": {
   "codemirror_mode": {
    "name": "ipython",
    "version": 3
   },
   "file_extension": ".py",
   "mimetype": "text/x-python",
   "name": "python",
   "nbconvert_exporter": "python",
   "pygments_lexer": "ipython3",
   "version": "3.8.8"
  }
 },
 "nbformat": 4,
 "nbformat_minor": 4
}
