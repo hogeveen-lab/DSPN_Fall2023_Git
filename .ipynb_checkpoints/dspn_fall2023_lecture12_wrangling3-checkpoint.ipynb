{
 "cells": [
  {
   "cell_type": "markdown",
   "metadata": {},
   "source": [
    "# Data Science in Psychology & Neuroscience (DSPN): \n",
    "\n",
    "## Lecture 12. Data Wrangling (part 3)\n",
    "\n",
    "### Date: October 3, 2023\n",
    "\n",
    "### To-Dos From Last Class:\n",
    "\n",
    "* Download <a href=\"https://github.com/hogeveen-lab/DSPN_Fall2023_Git/tree/main/assignment_starters/assign3_starter\">Assignment #3 starter kit</a>\n",
    "\n",
    "### Today:\n",
    "\n",
    "* Wrangle some real data\n",
    "\n",
    "### Homework\n",
    "* Submit Assignment #3: <a href=\"https://www.dropbox.com/request/ggV5rAg3J9T0YxpEHLqX\">Data Wrangling</a> (before 10/10, 23:00 MDT)"
   ]
  },
  {
   "cell_type": "markdown",
   "metadata": {},
   "source": [
    "# Importing packages"
   ]
  },
  {
   "cell_type": "code",
   "execution_count": 2,
   "metadata": {},
   "outputs": [],
   "source": [
    "### Part 1 --> Importing data wrangling packages I often use\n",
    "import os\n",
    "from glob import glob # only need the glob subpackage from glob\n",
    "import numpy as np\n",
    "import pandas as pd\n",
    "pd.options.mode.chained_assignment = None\n",
    "import matplotlib.pyplot as plt"
   ]
  },
  {
   "cell_type": "markdown",
   "metadata": {},
   "source": [
    "# Setting up the filepaths"
   ]
  },
  {
   "cell_type": "code",
   "execution_count": 3,
   "metadata": {},
   "outputs": [],
   "source": [
    "### Part 2 --> setting paths to the first level data\n",
    "\n",
    "# get current working directory\n",
    "base_dir = os.getcwd()\n",
    "\n",
    "# Go above current working directory and\n",
    "first_dir = os.path.join(base_dir,'misc/imitation_inhibition_paradigm/data/first')\n",
    "P_file_pattern = 'P*.txt'\n",
    "second_dir = os.path.join(base_dir,'misc/imitation_inhibition_paradigm/data/second')\n",
    "questionnaire_file = os.path.join(second_dir,'ait_questionnaires.csv')\n",
    "\n",
    "# Using glob to find all participant data files\n",
    "all_files = glob(os.path.join(first_dir,P_file_pattern))"
   ]
  },
  {
   "cell_type": "markdown",
   "metadata": {},
   "source": [
    "# Loading in a test subject to make sense of things"
   ]
  },
  {
   "cell_type": "code",
   "execution_count": 4,
   "metadata": {},
   "outputs": [
    {
     "name": "stdout",
     "output_type": "stream",
     "text": [
      "How many rows in key release filtered data frame: 101\n",
      "How many rows in key release filtered data frame, after removing double responses?: 100\n"
     ]
    }
   ],
   "source": [
    "# load in an individual subject file\n",
    "df_test = pd.read_csv(all_files[0],error_bad_lines=False,skiprows=5,sep='\\t')\n",
    "# subset to only experimental rows\n",
    "df_test = df_test[df_test['Name.1']=='AI_Block']\n",
    "# subset to only key releases\n",
    "df_test = df_test[df_test['Released']=='Released']\n",
    "\n",
    "# How many key realeases do we actually have?\n",
    "print('How many rows in key release filtered data frame:',len(df_test))\n",
    "\n",
    "# identify double responses\n",
    "df_test['shift'] = df_test['Name.2'].shift()\n",
    "df_test['double_response'] = np.where(df_test['Name.2']==df_test['shift'],1,0)\n",
    "df_test = df_test[df_test['double_response']!=1]\n",
    "print('How many rows in key release filtered data frame, after removing double responses?:',len(df_test))"
   ]
  },
  {
   "cell_type": "markdown",
   "metadata": {},
   "source": [
    "# Iterating through to get all first level data, concatenating into a single data frame"
   ]
  },
  {
   "cell_type": "code",
   "execution_count": 5,
   "metadata": {},
   "outputs": [],
   "source": [
    "# declare an empty list of data frame\n",
    "dfs_list = []\n",
    "\n",
    "# iterate through the files\n",
    "for cur_file in all_files:\n",
    "    # load in an individual subject file\n",
    "    df_tmp = pd.read_csv(cur_file,error_bad_lines=False,skiprows=5,sep='\\t')\n",
    "    # subset to only experimental rows\n",
    "    df_tmp = df_tmp[df_tmp['Name.1']=='AI_Block']\n",
    "    # subset to only key releases\n",
    "    df_tmp = df_tmp[df_tmp['Released']=='Released']\n",
    "    # identify double responses\n",
    "    df_tmp['shift'] = df_tmp['Name.2'].shift()\n",
    "    df_tmp['double_response'] = np.where(df_tmp['Name.2']==df_tmp['shift'],1,0)\n",
    "    df_tmp = df_tmp[df_tmp['double_response']!=1]\n",
    "    # append to list of data frames\n",
    "    dfs_list.append(df_tmp)\n",
    "\n",
    "df_allsubjects = pd.concat(dfs_list,axis=0)"
   ]
  },
  {
   "cell_type": "markdown",
   "metadata": {},
   "source": [
    "# Loading in the questionnaire data and merging it with behavioral data"
   ]
  },
  {
   "cell_type": "code",
   "execution_count": 6,
   "metadata": {},
   "outputs": [],
   "source": [
    "# reading in questionnaire responses\n",
    "questionnaire_file = os.path.join(second_dir,'ait_questionnaires.csv')\n",
    "df_questionnaire = pd.read_csv(questionnaire_file)\n",
    "# display(df_questionnaire)\n",
    "\n",
    "# merge questionnaires with trial-level data\n",
    "df_allsubjects = df_allsubjects.rename(columns={\"Name\": \"pid\"})\n",
    "df_allsubjects = pd.merge(df_allsubjects,df_questionnaire,on=\"pid\",how=\"outer\")"
   ]
  },
  {
   "cell_type": "markdown",
   "metadata": {},
   "source": [
    "# Writing the observation-level data to a big csv"
   ]
  },
  {
   "cell_type": "code",
   "execution_count": 7,
   "metadata": {},
   "outputs": [],
   "source": [
    "out_filename = os.path.join(second_dir,'ait_trialwise.csv')\n",
    "df_allsubjects.to_csv(out_filename,index=False)"
   ]
  },
  {
   "cell_type": "markdown",
   "metadata": {},
   "source": [
    "## Quick tangent: Automatic Imitation Task\n",
    "\n",
    "<img src=\"img/ait_task.png\" width=\"600\">\n",
    "\n",
    "* __MAIN OUTCOME: HOW DO THE DIFFERENT CONGRUENT VS. INCONGRUENT CONDIS SLOW YOUR RESPONSE TIME?__"
   ]
  },
  {
   "cell_type": "markdown",
   "metadata": {},
   "source": [
    "# Computing SECOND-level summary measures (mean RT by pid)"
   ]
  },
  {
   "cell_type": "code",
   "execution_count": 8,
   "metadata": {},
   "outputs": [
    {
     "data": {
      "text/html": [
       "<div>\n",
       "<style scoped>\n",
       "    .dataframe tbody tr th:only-of-type {\n",
       "        vertical-align: middle;\n",
       "    }\n",
       "\n",
       "    .dataframe tbody tr th {\n",
       "        vertical-align: top;\n",
       "    }\n",
       "\n",
       "    .dataframe thead th {\n",
       "        text-align: right;\n",
       "    }\n",
       "</style>\n",
       "<table border=\"1\" class=\"dataframe\">\n",
       "  <thead>\n",
       "    <tr style=\"text-align: right;\">\n",
       "      <th></th>\n",
       "      <th>Time</th>\n",
       "      <th>(Trial Variable)</th>\n",
       "      <th>Finger</th>\n",
       "      <th>Congruence</th>\n",
       "      <th>Repeated</th>\n",
       "      <th>Correct</th>\n",
       "      <th>double_response</th>\n",
       "      <th>questionnaire_1</th>\n",
       "      <th>questionnaire_2</th>\n",
       "      <th>questionnaire_3</th>\n",
       "      <th>questionnaire_4</th>\n",
       "      <th>questionnaire_5</th>\n",
       "      <th>questionnaire_6</th>\n",
       "      <th>questionnaire_7</th>\n",
       "      <th>questionnaire_8</th>\n",
       "      <th>questionnaire_9</th>\n",
       "      <th>questionnaire_10</th>\n",
       "    </tr>\n",
       "    <tr>\n",
       "      <th>pid</th>\n",
       "      <th></th>\n",
       "      <th></th>\n",
       "      <th></th>\n",
       "      <th></th>\n",
       "      <th></th>\n",
       "      <th></th>\n",
       "      <th></th>\n",
       "      <th></th>\n",
       "      <th></th>\n",
       "      <th></th>\n",
       "      <th></th>\n",
       "      <th></th>\n",
       "      <th></th>\n",
       "      <th></th>\n",
       "      <th></th>\n",
       "      <th></th>\n",
       "      <th></th>\n",
       "    </tr>\n",
       "  </thead>\n",
       "  <tbody>\n",
       "    <tr>\n",
       "      <th>P1</th>\n",
       "      <td>563.489796</td>\n",
       "      <td>NaN</td>\n",
       "      <td>1.500000</td>\n",
       "      <td>2.061224</td>\n",
       "      <td>5.510204</td>\n",
       "      <td>NaN</td>\n",
       "      <td>0.0</td>\n",
       "      <td>63.0</td>\n",
       "      <td>11.0</td>\n",
       "      <td>45.0</td>\n",
       "      <td>37.0</td>\n",
       "      <td>18.0</td>\n",
       "      <td>42.0</td>\n",
       "      <td>83.0</td>\n",
       "      <td>22.0</td>\n",
       "      <td>80.0</td>\n",
       "      <td>14.0</td>\n",
       "    </tr>\n",
       "    <tr>\n",
       "      <th>P10</th>\n",
       "      <td>614.760000</td>\n",
       "      <td>NaN</td>\n",
       "      <td>1.500000</td>\n",
       "      <td>2.000000</td>\n",
       "      <td>5.500000</td>\n",
       "      <td>NaN</td>\n",
       "      <td>0.0</td>\n",
       "      <td>21.0</td>\n",
       "      <td>76.0</td>\n",
       "      <td>76.0</td>\n",
       "      <td>70.0</td>\n",
       "      <td>14.0</td>\n",
       "      <td>81.0</td>\n",
       "      <td>44.0</td>\n",
       "      <td>57.0</td>\n",
       "      <td>31.0</td>\n",
       "      <td>29.0</td>\n",
       "    </tr>\n",
       "    <tr>\n",
       "      <th>P11</th>\n",
       "      <td>479.717172</td>\n",
       "      <td>NaN</td>\n",
       "      <td>1.494949</td>\n",
       "      <td>2.010101</td>\n",
       "      <td>5.464646</td>\n",
       "      <td>NaN</td>\n",
       "      <td>0.0</td>\n",
       "      <td>22.0</td>\n",
       "      <td>20.0</td>\n",
       "      <td>92.0</td>\n",
       "      <td>57.0</td>\n",
       "      <td>36.0</td>\n",
       "      <td>34.0</td>\n",
       "      <td>90.0</td>\n",
       "      <td>30.0</td>\n",
       "      <td>72.0</td>\n",
       "      <td>57.0</td>\n",
       "    </tr>\n",
       "    <tr>\n",
       "      <th>P12</th>\n",
       "      <td>589.806122</td>\n",
       "      <td>NaN</td>\n",
       "      <td>1.489796</td>\n",
       "      <td>2.020408</td>\n",
       "      <td>5.510204</td>\n",
       "      <td>NaN</td>\n",
       "      <td>0.0</td>\n",
       "      <td>57.0</td>\n",
       "      <td>54.0</td>\n",
       "      <td>25.0</td>\n",
       "      <td>76.0</td>\n",
       "      <td>54.0</td>\n",
       "      <td>50.0</td>\n",
       "      <td>2.0</td>\n",
       "      <td>92.0</td>\n",
       "      <td>43.0</td>\n",
       "      <td>83.0</td>\n",
       "    </tr>\n",
       "    <tr>\n",
       "      <th>P13</th>\n",
       "      <td>690.806122</td>\n",
       "      <td>NaN</td>\n",
       "      <td>1.500000</td>\n",
       "      <td>1.989796</td>\n",
       "      <td>5.469388</td>\n",
       "      <td>NaN</td>\n",
       "      <td>0.0</td>\n",
       "      <td>60.0</td>\n",
       "      <td>69.0</td>\n",
       "      <td>15.0</td>\n",
       "      <td>62.0</td>\n",
       "      <td>88.0</td>\n",
       "      <td>29.0</td>\n",
       "      <td>37.0</td>\n",
       "      <td>74.0</td>\n",
       "      <td>7.0</td>\n",
       "      <td>40.0</td>\n",
       "    </tr>\n",
       "  </tbody>\n",
       "</table>\n",
       "</div>"
      ],
      "text/plain": [
       "           Time  (Trial Variable)    Finger  Congruence  Repeated  Correct  \\\n",
       "pid                                                                          \n",
       "P1   563.489796               NaN  1.500000    2.061224  5.510204      NaN   \n",
       "P10  614.760000               NaN  1.500000    2.000000  5.500000      NaN   \n",
       "P11  479.717172               NaN  1.494949    2.010101  5.464646      NaN   \n",
       "P12  589.806122               NaN  1.489796    2.020408  5.510204      NaN   \n",
       "P13  690.806122               NaN  1.500000    1.989796  5.469388      NaN   \n",
       "\n",
       "     double_response  questionnaire_1  questionnaire_2  questionnaire_3  \\\n",
       "pid                                                                       \n",
       "P1               0.0             63.0             11.0             45.0   \n",
       "P10              0.0             21.0             76.0             76.0   \n",
       "P11              0.0             22.0             20.0             92.0   \n",
       "P12              0.0             57.0             54.0             25.0   \n",
       "P13              0.0             60.0             69.0             15.0   \n",
       "\n",
       "     questionnaire_4  questionnaire_5  questionnaire_6  questionnaire_7  \\\n",
       "pid                                                                       \n",
       "P1              37.0             18.0             42.0             83.0   \n",
       "P10             70.0             14.0             81.0             44.0   \n",
       "P11             57.0             36.0             34.0             90.0   \n",
       "P12             76.0             54.0             50.0              2.0   \n",
       "P13             62.0             88.0             29.0             37.0   \n",
       "\n",
       "     questionnaire_8  questionnaire_9  questionnaire_10  \n",
       "pid                                                      \n",
       "P1              22.0             80.0              14.0  \n",
       "P10             57.0             31.0              29.0  \n",
       "P11             30.0             72.0              57.0  \n",
       "P12             92.0             43.0              83.0  \n",
       "P13             74.0              7.0              40.0  "
      ]
     },
     "execution_count": 8,
     "metadata": {},
     "output_type": "execute_result"
    }
   ],
   "source": [
    "opt1 = df_allsubjects.groupby('pid').mean('Time')\n",
    "opt1.head()"
   ]
  },
  {
   "cell_type": "code",
   "execution_count": 9,
   "metadata": {},
   "outputs": [
    {
     "data": {
      "image/png": "[encoded data removed]",
      "text/plain": [
       "<Figure size 432x288 with 1 Axes>"
      ]
     },
     "metadata": {
      "needs_background": "light"
     },
     "output_type": "display_data"
    }
   ],
   "source": [
    "opt2 = df_allsubjects.groupby('pid')['Time'].mean()\n",
    "opt2.head()\n",
    "plt.boxplot(opt2)\n",
    "plt.xlabel('All Subjects')\n",
    "plt.xticks([])\n",
    "plt.ylabel('Mean RT (ms)')\n",
    "plt.grid(b=True,color='blue',alpha=0.2,linestyle=':',linewidth=2)\n",
    "plt.rcParams.update({'font.size': 16})\n",
    "plt.rcParams['figure.figsize'] = [3,4]\n",
    "plt.show()"
   ]
  },
  {
   "cell_type": "markdown",
   "metadata": {},
   "source": [
    "# Computing subject-level summary measures (mean RT by pid by condition)"
   ]
  },
  {
   "cell_type": "code",
   "execution_count": 10,
   "metadata": {},
   "outputs": [
    {
     "data": {
      "image/png": "[encoded data removed]",
      "text/plain": [
       "<Figure size 216x288 with 1 Axes>"
      ]
     },
     "metadata": {
      "needs_background": "light"
     },
     "output_type": "display_data"
    }
   ],
   "source": [
    "rt_by_condition = df_allsubjects.groupby(['pid','Congruence'])['Time'].mean().unstack()\n",
    "rt_by_condition.boxplot()\n",
    "plt.xlabel('RT By Condition')\n",
    "plt.ylabel('Mean RT (ms)')\n",
    "plt.grid(b=True,color='blue',alpha=0.2,linestyle=':',linewidth=2)\n",
    "plt.rcParams.update({'font.size': 16})\n",
    "plt.rcParams['figure.figsize'] = [3,4]\n",
    "plt.show()"
   ]
  },
  {
   "cell_type": "code",
   "execution_count": 11,
   "metadata": {},
   "outputs": [
    {
     "data": {
      "image/png": "[encoded data removed]",
      "text/plain": [
       "<Figure size 216x288 with 1 Axes>"
      ]
     },
     "metadata": {
      "needs_background": "light"
     },
     "output_type": "display_data"
    }
   ],
   "source": [
    "# take 2 with meaningful condi names\n",
    "df_allsubjects['string_cong'] = np.where(df_allsubjects.Congruence==0,'base',\n",
    "                                        np.where(df_allsubjects.Congruence==1,'eff_con',\n",
    "                                                 np.where(df_allsubjects.Congruence==2,'eff_inc',\n",
    "                                                          np.where(df_allsubjects.Congruence==3,'imi_con',\n",
    "                                                                   np.where(df_allsubjects.Congruence==4,'imi_inc','')))))\n",
    "\n",
    "rt_by_stringcondi = df_allsubjects.groupby(['pid','string_cong'])['Time'].mean().unstack()\n",
    "rt_by_stringcondi\n",
    "rt_by_stringcondi.boxplot()\n",
    "plt.xticks(rotation = 45)\n",
    "plt.xlabel('RT By Condition')\n",
    "plt.ylabel('Mean RT (ms)')\n",
    "plt.grid(b=True,color='blue',alpha=0.2,linestyle=':',linewidth=2)\n",
    "plt.rcParams.update({'font.size': 16})\n",
    "plt.rcParams['figure.figsize'] = [3,4]\n",
    "plt.show()"
   ]
  },
  {
   "cell_type": "markdown",
   "metadata": {},
   "source": [
    "# Writing the subject-level RT data to a CSV"
   ]
  },
  {
   "cell_type": "code",
   "execution_count": 12,
   "metadata": {},
   "outputs": [],
   "source": [
    "# Writing the data to a second-level data frame that we will eventually play with in R\n",
    "subj_out_filename = os.path.join(second_dir,'ait_subjectlevel.csv')\n",
    "rt_by_stringcondi.to_csv(subj_out_filename,index=True)"
   ]
  },
  {
   "cell_type": "markdown",
   "metadata": {},
   "source": [
    "# Introducing Assignment #3\n",
    "\n",
    "* <a href=\"https://github.com/hogeveen-lab/DSPN_Fall2023_Git/tree/main/assignment_starters/assign3_starter\">Assignment #3</a>"
   ]
  },
  {
   "cell_type": "code",
   "execution_count": null,
   "metadata": {},
   "outputs": [],
   "source": []
  }
 ],
 "metadata": {
  "kernelspec": {
   "display_name": "Python 3",
   "language": "python",
   "name": "python3"
  },
  "language_info": {
   "codemirror_mode": {
    "name": "ipython",
    "version": 3
   },
   "file_extension": ".py",
   "mimetype": "text/x-python",
   "name": "python",
   "nbconvert_exporter": "python",
   "pygments_lexer": "ipython3",
   "version": "3.8.8"
  }
 },
 "nbformat": 4,
 "nbformat_minor": 4
}
