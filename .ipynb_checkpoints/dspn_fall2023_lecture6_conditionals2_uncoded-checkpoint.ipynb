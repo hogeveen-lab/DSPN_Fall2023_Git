{
 "cells": [
  {
   "cell_type": "markdown",
   "metadata": {},
   "source": [
    "# Data Science in Psychology & Neuroscience (DSPN): \n",
    "\n",
    "## Lecture 6. Conditionals Part 2\n",
    "\n",
    "### Date: September 12, 2023\n",
    "\n",
    "### To-Dos From Last Class:\n",
    "\n",
    "* Practice practice practice (<a href=\"https://www.w3resource.com/python-exercises/python-conditional-statements-and-loop-exercises.php\">e.g.</a>)\n",
    "\n",
    "### Today:\n",
    "\n",
    "* More conditional exercises in Excel and Python\n",
    "\n",
    "\n",
    "### Homework\n",
    "\n",
    "* Read short primer on the \"integrate and fire\" neuron\n",
    "* Download Assignment #2 starter kit from <a href=\"https://github.com/hogeveen-lab/DSPN_Fall2022_git\">github</a>\n"
   ]
  },
  {
   "cell_type": "markdown",
   "metadata": {},
   "source": [
    "# Reminder: Properties of conditionals\n",
    "\n",
    "* All conditionals start with an if, can have an optional and variable number of elif’s and an optional else statement\n",
    "* Conditionals can take any expression that can be evaluated as True or False.\n",
    "* At most one component (if / elif / else) of a conditional will run.\n",
    "* The order of conditional blocks is always if then elif(s) then else\n",
    "* Code is only ever executed if the condition is met"
   ]
  },
  {
   "cell_type": "markdown",
   "metadata": {},
   "source": [
    "# warmup: Returning to \"IN\" and \"NOT IN\"\n",
    "\n",
    "\n",
    "## Exercise 1:\n",
    "## make a random list of 5 numbers between 1 and 10, set x = 2\n",
    "## use conditionals to determine if x is in the list"
   ]
  },
  {
   "cell_type": "code",
   "execution_count": 60,
   "metadata": {},
   "outputs": [
    {
     "name": "stdout",
     "output_type": "stream",
     "text": [
      "[ 9  5 10  4  6]\n",
      "no it is not here!\n"
     ]
    }
   ],
   "source": [
    "import numpy.random as npr\n",
    "# from numpy import random, funpackage1, funpackage2, etc etc etc\n",
    "\n",
    "lst = npr.randint(1,11,5) #or ,size=5\n",
    "print(lst)\n",
    "\n",
    "x = 2\n",
    "\n",
    "# for i in lst:\n",
    "#     if x == i:\n",
    "#         print('yes it is here!')\n",
    "        \n",
    "# if x in lst:\n",
    "#     print('yes it is here!')\n",
    "\n",
    "# if x not in lst:\n",
    "#     print('no it is not here!')"
   ]
  },
  {
   "cell_type": "markdown",
   "metadata": {},
   "source": [
    "# Exercise 2:\n",
    "\n",
    "## Create a loop that skips all odd numbers and terminates at a user-defined value"
   ]
  },
  {
   "cell_type": "code",
   "execution_count": 1,
   "metadata": {},
   "outputs": [
    {
     "name": "stdin",
     "output_type": "stream",
     "text": [
      " 6\n"
     ]
    },
    {
     "name": "stdout",
     "output_type": "stream",
     "text": [
      "2\n",
      "4\n",
      "6\n"
     ]
    }
   ],
   "source": [
    "lastLoop = int(input())\n",
    "\n",
    "i = 0\n",
    "\n",
    "while i <= lastLoop:\n",
    "    i += 1  \n",
    "    if i % 2 != 0:\n",
    "        pass\n",
    "    elif i % 2 == 0:\n",
    "        print(i)"
   ]
  },
  {
   "cell_type": "markdown",
   "metadata": {},
   "source": [
    "## 2b: make a loop that terminates as soon as the value is >= user input divided by 2"
   ]
  },
  {
   "cell_type": "code",
   "execution_count": 5,
   "metadata": {},
   "outputs": [
    {
     "name": "stdin",
     "output_type": "stream",
     "text": [
      " 30\n"
     ]
    },
    {
     "name": "stdout",
     "output_type": "stream",
     "text": [
      "1\n",
      "2\n",
      "3\n",
      "4\n",
      "5\n",
      "6\n",
      "7\n",
      "8\n",
      "9\n",
      "10\n",
      "11\n",
      "12\n",
      "13\n",
      "14\n",
      "15\n"
     ]
    }
   ],
   "source": [
    "lastLoop = int(input())\n",
    "\n",
    "i = 0\n",
    "\n",
    "# while i <= lastLoop/2:\n",
    "#     print(i)\n",
    "#     i += 1  \n",
    "    \n",
    "# while i <= lastLoop:\n",
    "#     if i >= lastLoop / 2:\n",
    "#         break\n",
    "#     i+= 1\n",
    "#     print(i)"
   ]
  },
  {
   "cell_type": "markdown",
   "metadata": {},
   "source": [
    "# Exercise 3: \n",
    "## Write a program that lets kids 3-5 feet tall (inclusive) onto a roller coaster."
   ]
  },
  {
   "cell_type": "code",
   "execution_count": 13,
   "metadata": {},
   "outputs": [
    {
     "name": "stdin",
     "output_type": "stream",
     "text": [
      " 3\n"
     ]
    },
    {
     "name": "stdout",
     "output_type": "stream",
     "text": [
      "okay to ride!\n"
     ]
    }
   ],
   "source": [
    "kid_height = int(input())\n",
    "min_height = 3\n",
    "max_height = 5\n",
    "\n",
    "# if kid_height in range(3,6):\n",
    "#     print(\"okay to ride!\")\n",
    "# else:\n",
    "#     print(\"get out of here!\")\n",
    "\n",
    "# if kid_height >= min_height and kid_height <= max_height:\n",
    "#     print(\"okay to ride!\")\n",
    "# else:\n",
    "#     print(\"get out of here!\")\n",
    "    \n",
    "# if kid_height < min_height or kid_height > max_height:\n",
    "#     print(\"get out of here!\")\n",
    "# else:\n",
    "#     print(\"okay to ride!\")"
   ]
  },
  {
   "cell_type": "markdown",
   "metadata": {},
   "source": [
    "# Exercise 4:\n",
    "## Write a program that compares three random integers\n",
    "## Specifically, determine if one integer is greater than the other two integers."
   ]
  },
  {
   "cell_type": "code",
   "execution_count": 24,
   "metadata": {},
   "outputs": [
    {
     "name": "stdout",
     "output_type": "stream",
     "text": [
      "[2 6 5]\n"
     ]
    }
   ],
   "source": [
    "import numpy.random as npr\n",
    "lst_new = npr.randint(1,11,3)\n",
    "\n",
    "print(lst_new)\n",
    "int1 = lst_new[0]\n",
    "int2 = lst_new[1]\n",
    "int3 = lst_new[2]\n",
    "\n",
    "if int1 > int2 and int1 > int3:\n",
    "    print(int1,'Is the bigggest number')\n",
    "elif int2 > int1 and int2 > int3:\n",
    "    print(int2,'Is the bigggest number')"
   ]
  },
  {
   "cell_type": "code",
   "execution_count": null,
   "metadata": {},
   "outputs": [],
   "source": []
  }
 ],
 "metadata": {
  "kernelspec": {
   "display_name": "Python 3",
   "language": "python",
   "name": "python3"
  },
  "language_info": {
   "codemirror_mode": {
    "name": "ipython",
    "version": 3
   },
   "file_extension": ".py",
   "mimetype": "text/x-python",
   "name": "python",
   "nbconvert_exporter": "python",
   "pygments_lexer": "ipython3",
   "version": "3.8.8"
  }
 },
 "nbformat": 4,
 "nbformat_minor": 4
}
