{
 "cells": [
  {
   "cell_type": "markdown",
   "id": "fd584725-b018-44fe-9313-8755d2d0a6be",
   "metadata": {},
   "source": [
    "# Data Science in Psychology & Neuroscience (DSPN): \n",
    "\n",
    "## Lecture 3. Iteration\n",
    "\n",
    "### Date: August 29, 2023\n",
    "\n",
    "### To-Dos From Last Class:\n",
    "\n",
    "* N/A\n",
    "\n",
    "### Today:\n",
    "\n",
    "* What is iteration?\n",
    "* Introduction to WHILE and FOR loops\n",
    "\n",
    "### Homework:\n",
    "\n",
    "* Download Assignment #1 starter kit from <a href=\"https://github.com/hogeveen-lab/DSPN_Fall2023_Git\">github</a>"
   ]
  },
  {
   "cell_type": "markdown",
   "id": "5bf932ba-c8bc-421e-afd0-ecc942f2825a",
   "metadata": {},
   "source": [
    "# Iteration\n",
    "\n",
    "## What is it?\n",
    "\n",
    "* Repetition of a behavior\n",
    "\n",
    "<img src='img/iteration.jpg' width=500>\n",
    "\n",
    "##  When is this useful?\n",
    "\n",
    "* Simple tasks that require repetition\n",
    "    * Examples in psychology & neuroscience?\n",
    "        * Repeat across subjects\n",
    "        * Repeat across different sessions (longitudinal studies)\n",
    "        * Repeat across different brain regions (fMRI)\n",
    "        * Repeat across different electrodes (EEG)\n",
    "        * Repeat across epochs within a dataset"
   ]
  },
  {
   "cell_type": "markdown",
   "id": "c91c6ac2-ed2b-41a7-acc5-cafa2f6d250e",
   "metadata": {},
   "source": [
    "# Simple demonstration: Count from 0 to 100 in increments of 10\n",
    "\n",
    "## Version 1, Using an Excel spreadsheet"
   ]
  },
  {
   "cell_type": "code",
   "execution_count": null,
   "id": "a7b80972-c8e3-4824-97a7-86b32d380593",
   "metadata": {},
   "outputs": [],
   "source": [
    "## GO TO EXCEL ##"
   ]
  },
  {
   "cell_type": "markdown",
   "id": "2eadb26d-fd88-43b3-837b-1aaa426e756d",
   "metadata": {},
   "source": [
    "## Version 2, using a WHILE loop"
   ]
  },
  {
   "cell_type": "code",
   "execution_count": 3,
   "id": "ed0215ec-864f-4495-b2ac-c40c32ab365a",
   "metadata": {},
   "outputs": [
    {
     "name": "stdout",
     "output_type": "stream",
     "text": [
      "the current value on iteration: 0 is: 0\n",
      "the current value on iteration: 1 is: 10\n",
      "the current value on iteration: 2 is: 20\n",
      "the current value on iteration: 3 is: 30\n",
      "the current value on iteration: 4 is: 40\n",
      "the current value on iteration: 5 is: 50\n",
      "the current value on iteration: 6 is: 60\n",
      "the current value on iteration: 7 is: 70\n",
      "the current value on iteration: 8 is: 80\n",
      "the current value on iteration: 9 is: 90\n",
      "the current value on iteration: 10 is: 100\n"
     ]
    }
   ],
   "source": [
    "# Preamble: starting values\n",
    "value = 0\n",
    "end = 100\n",
    "increment = 10\n",
    "\n",
    "# While loop\n",
    "iteration = 0\n",
    "while value < end: # bonus, how to make it print 100? (add <= to while statement)\n",
    "    print('the current value on iteration:',iteration,'is:',value)\n",
    "    value = value + increment\n",
    "    iteration += 1"
   ]
  },
  {
   "cell_type": "markdown",
   "id": "e10fdb12-676f-4488-95b8-8af151b4b442",
   "metadata": {},
   "source": [
    "## Version 3, using a FOR loop"
   ]
  },
  {
   "cell_type": "code",
   "execution_count": 6,
   "id": "ddace6c6-ca59-4270-89a0-1a9d8a40c0ec",
   "metadata": {},
   "outputs": [
    {
     "name": "stdout",
     "output_type": "stream",
     "text": [
      "the current value on iteration: 0 is: 0\n",
      "the current value on iteration: 1 is: 10\n",
      "the current value on iteration: 2 is: 20\n",
      "the current value on iteration: 3 is: 30\n",
      "the current value on iteration: 4 is: 40\n",
      "the current value on iteration: 5 is: 50\n",
      "the current value on iteration: 6 is: 60\n",
      "the current value on iteration: 7 is: 70\n",
      "the current value on iteration: 8 is: 80\n",
      "the current value on iteration: 9 is: 90\n",
      "the current value on iteration: 10 is: 100\n"
     ]
    }
   ],
   "source": [
    "# Preamble: starting values\n",
    "value = 0\n",
    "end = 100\n",
    "increment = 10\n",
    "\n",
    "# For loop\n",
    "iteration = 0\n",
    "for i in range(value,end,increment): # bonus, how to make it print 100? (add +increment to end)\n",
    "    print('the current value on iteration:',iteration,'is:',i)\n",
    "    iteration += 1"
   ]
  },
  {
   "cell_type": "markdown",
   "id": "ee458e4c-44d2-428b-ab9f-936ca3e06aaf",
   "metadata": {},
   "source": [
    "## Version 4, Using List Comprehension\n",
    "\n",
    "__Basic syntax: [Output for i in list]__\n",
    "\n",
    "__Can also add in conditionals (topic for next week!): [Output for i in list if/and condition]__"
   ]
  },
  {
   "cell_type": "code",
   "execution_count": 8,
   "id": "b050931b-8ff6-464d-9c96-b6e00b6fd939",
   "metadata": {},
   "outputs": [
    {
     "name": "stdout",
     "output_type": "stream",
     "text": [
      "the list of values is: [0, 10, 20, 30, 40, 50, 60, 70, 80, 90]\n"
     ]
    }
   ],
   "source": [
    "# Preamble: starting values\n",
    "value = 0\n",
    "end = 100\n",
    "increment = 10\n",
    "\n",
    "# List comprehension version of iteration\n",
    "list_comprehension = [value for value in range(value,end,increment)] # make it include 100? (add +increment to end)\n",
    "print('the list of values is:',list_comprehension)"
   ]
  },
  {
   "cell_type": "markdown",
   "id": "94049f45-1da7-48fc-be62-75b0ca64943f",
   "metadata": {},
   "source": [
    "# Exercise 1: Create an iteration that prints every item in a list, regardless of length. \n",
    "## Bonus: Randomize list order."
   ]
  },
  {
   "cell_type": "code",
   "execution_count": 10,
   "id": "dc0628db-fe0e-4f17-a3fe-cd4586762e86",
   "metadata": {},
   "outputs": [
    {
     "name": "stdout",
     "output_type": "stream",
     "text": [
      "amygdala\n",
      "hippocampus\n",
      "caudate\n",
      "putamen\n",
      "accumbens\n",
      "thalamus\n",
      "pallidum\n",
      "brain-stem\n",
      "cerebellum\n"
     ]
    }
   ],
   "source": [
    "# Iterating through a list\n",
    "\n",
    "# Preamble -- part of the code we can mess with\n",
    "# import random # comment for standard order\n",
    "str_list = [ 'amygdala', 'hippocampus', 'caudate', 'putamen'] #, 'accumbens', 'thalamus', 'pallidum', 'brain-stem', 'cerebellum'] # DO WITH SHORT LIST FIRST\n",
    "\n",
    "# Workhorse -- part of the code that does the actual iteration solution\n",
    "# random.shuffle(str_list) # shuffles whichever list you put in. Notice it does this \"in place\".  Comment for standard order.\n",
    "for i in range(0,len(str_list)): # looping through the, now shuffled list\n",
    "    print(str_list[i]) # printing the ith item in the list"
   ]
  },
  {
   "cell_type": "markdown",
   "id": "9268e326-ecba-4f3e-b69b-8e13cea05b7a",
   "metadata": {},
   "source": [
    "# Exercise 2: Given a range of 10 numbers, iterate from start to end number, print the sum of the current number and previous number.\n",
    "## Bonus: ask for user to input for the \"how_many\" parameter"
   ]
  },
  {
   "cell_type": "code",
   "execution_count": 11,
   "id": "287f6874-84b3-4eec-a652-791a0789baf6",
   "metadata": {},
   "outputs": [
    {
     "name": "stdout",
     "output_type": "stream",
     "text": [
      "Printing the sum of  0  and  1  :  1\n",
      "Printing the sum of  1  and  2  :  3\n",
      "Printing the sum of  2  and  3  :  5\n",
      "Printing the sum of  3  and  4  :  7\n",
      "Printing the sum of  4  and  5  :  9\n",
      "Printing the sum of  5  and  6  :  11\n",
      "Printing the sum of  6  and  7  :  13\n",
      "Printing the sum of  7  and  8  :  15\n",
      "Printing the sum of  8  and  9  :  17\n",
      "Printing the sum of  9  and  10  :  19\n"
     ]
    }
   ],
   "source": [
    "# preamble: part of the code you can mess with\n",
    "low = 1 # start of the range we will iterate through\n",
    "how_many = 10 # the number of numbers we are iterating through\n",
    "# how_many=int(input()) # For the fancy folks who want to make it more interactive\n",
    "\n",
    "# core: part of the code that should stay the same\n",
    "high = low+how_many # high end of the range will be the low + 10 iterations\n",
    "for i in range(low,high): # iterate i from the low to high values in the range\n",
    "    prev_num = i-1 # ca15lculating the number before the ith iteration\n",
    "    answer = i + prev_num # calculating our answer, sum of current and previous number\n",
    "    print(\"Printing the sum of \",prev_num,\" and \",i,\" : \",answer) # concatenating everything together in a printed message on each iteration\n",
    "# print(\"Printing the sum of \",prev_num,\" and \",i,\" : \",answer) # NOTE: show how important indendation is"
   ]
  },
  {
   "cell_type": "code",
   "execution_count": null,
   "id": "c4f6dab5-81c4-4cc9-929d-863016f41de7",
   "metadata": {},
   "outputs": [],
   "source": []
  }
 ],
 "metadata": {
  "kernelspec": {
   "display_name": "Python 3",
   "language": "python",
   "name": "python3"
  },
  "language_info": {
   "codemirror_mode": {
    "name": "ipython",
    "version": 3
   },
   "file_extension": ".py",
   "mimetype": "text/x-python",
   "name": "python",
   "nbconvert_exporter": "python",
   "pygments_lexer": "ipython3",
   "version": "3.8.8"
  }
 },
 "nbformat": 4,
 "nbformat_minor": 5
}
